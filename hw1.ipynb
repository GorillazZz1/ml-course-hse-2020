{
 "cells": [
  {
   "cell_type": "markdown",
   "metadata": {},
   "source": [
    "# Машинное обучение на матфаке, 2019/2020 уч. год.\n",
    "\n",
    "## Домашнее задание 1 -- numpy, pandas, matplotlib.\n",
    "\n",
    "В этом домашнем задании вам предстоит закрепить навыки работы с важнейшими для data science библиотеками -- numpy, pandas и matplotlib.\n",
    "\n",
    "Правила оценивания на вики-странице. Часть заданий необходимо сдать в [Яндекс.контест](https://contest.yandex.ru/contest/16930/problems/)"
   ]
  },
  {
   "cell_type": "code",
   "execution_count": 2,
   "metadata": {},
   "outputs": [],
   "source": [
    "import numpy as np"
   ]
  },
  {
   "cell_type": "markdown",
   "metadata": {},
   "source": [
    "### Part 1. numpy\n",
    "\n",
    "Задания 1-10 оцениваются в 0.4 баллов."
   ]
  },
  {
   "cell_type": "markdown",
   "metadata": {},
   "source": [
    "__Задание 1__. Создайте несколько одномерных массивов размера $10^n$ для n от 1 до 6. из случайных чисел при помощи модуля `np.random`. Заполните их независимыми случайными величинами из нормального распределения с матожиданием 5 и дисперсией 10. "
   ]
  },
  {
   "cell_type": "code",
   "execution_count": 9,
   "metadata": {},
   "outputs": [],
   "source": [
    "arr = [np.random.normal(5, 10, size=10**(i+1)) for i in range(0,6)]\n",
    "# print(arr[5])"
   ]
  },
  {
   "cell_type": "markdown",
   "metadata": {},
   "source": [
    "В заданиях 2-10 запрещается использование циклов `for` и `while` в сдаваемом вами коде. "
   ]
  },
  {
   "cell_type": "markdown",
   "metadata": {},
   "source": [
    "__Задание 2__. Сгенерируйте случайный вектор (одномерный массив) из нормального распределения со средним в нуле и произвольной дисперсией. С помощью `np.where` замените в созданном массиве все отрицательные элементы на нули."
   ]
  },
  {
   "cell_type": "code",
   "execution_count": 18,
   "metadata": {},
   "outputs": [
    {
     "data": {
      "text/plain": [
       "array([0.        , 0.45285622, 0.08569486, 1.27812097, 0.80159393,\n",
       "       0.30947775, 0.43751594, 1.67968642, 0.        , 0.12236245,\n",
       "       0.        , 0.        , 1.16845722, 0.        , 0.        ,\n",
       "       0.57875684, 0.        , 0.        , 0.25945099, 0.        ,\n",
       "       0.58216118, 0.15943779, 0.        , 0.73324763, 0.7058888 ,\n",
       "       0.        , 0.        , 0.        , 0.        , 0.        ,\n",
       "       0.0318648 , 0.        , 0.18587062, 0.        , 0.        ,\n",
       "       0.59927665, 0.86514404, 0.        , 0.7015378 , 0.        ,\n",
       "       0.75074835, 0.        , 0.88349401, 0.        , 0.        ,\n",
       "       0.05230221, 0.64082534, 0.        , 0.60829257, 0.        ,\n",
       "       0.        , 0.15218242, 0.        , 1.11418958, 1.19594898,\n",
       "       0.        , 0.        , 0.        , 0.        , 0.        ,\n",
       "       0.        , 0.        , 0.21193789, 0.        , 0.81642455,\n",
       "       0.        , 0.95494158, 1.26054619, 0.        , 0.        ,\n",
       "       0.        , 0.        , 1.56542118, 0.79131787, 1.41858807,\n",
       "       0.88751182, 0.        , 0.        , 0.37694019, 0.        ,\n",
       "       1.02813759, 0.        , 0.        , 0.55516844, 0.        ,\n",
       "       0.        , 0.        , 0.4847613 , 0.        , 0.03930311,\n",
       "       0.        , 0.82031436, 0.        , 0.14476398, 0.        ,\n",
       "       0.        , 0.43129788, 0.06314739, 0.63238276, 0.        ])"
      ]
     },
     "execution_count": 18,
     "metadata": {},
     "output_type": "execute_result"
    }
   ],
   "source": [
    "vec = np.random.normal(0, 1, 100)\n",
    "# print(vec)\n",
    "# print(np.where(vec < 0, 0, vec))\n",
    "# print(np.where(vec >= 0, vec, 0))\n",
    "np.where(vec < 0, 0, vec)"
   ]
  },
  {
   "cell_type": "markdown",
   "metadata": {},
   "source": [
    "__Задание 3__. Дан массив 10х3, который будет использован как массив с цветами RGB (каждый канал обозначается целым числом от 0 до 255), однако вследствие порчи данных при передаче значения массива вышли за границы заданного диапазона. Напишите функцию clip_values, которая вышедшие за границу диапазона значения превращает в ближашие границы диапазона.\n",
    "\n",
    "__Хинт__: воспользуйтесь np.clip"
   ]
  },
  {
   "cell_type": "code",
   "execution_count": 22,
   "metadata": {},
   "outputs": [
    {
     "name": "stdout",
     "output_type": "stream",
     "text": [
      "[[ 5.67033642e-01  2.16304765e+02  1.19489085e+02]\n",
      " [ 5.87643082e+02 -2.70645407e+02  2.73559296e+02]\n",
      " [ 1.13553378e+02 -2.48935255e+02  1.81606699e+02]\n",
      " [ 9.69231598e+01  1.97819917e+02  3.51892090e+01]\n",
      " [ 3.42400160e+02  5.48316725e+01  4.60269055e+02]\n",
      " [ 8.78156719e+01  5.20019135e+02  3.81803157e+02]\n",
      " [-3.78452019e+02  5.26691499e+02  3.10879447e+02]\n",
      " [ 1.20461386e+01  6.82800983e+02 -2.26109875e+01]\n",
      " [-3.78779164e+01 -3.46448627e+01 -1.95471290e+02]\n",
      " [-2.00484345e+02  5.39172344e+02  5.23247305e+02]]\n",
      "[[  0.56703364 216.30476531 119.48908501]\n",
      " [255.           0.         255.        ]\n",
      " [113.55337786   0.         181.60669866]\n",
      " [ 96.92315982 197.81991712  35.18920897]\n",
      " [255.          54.83167246 255.        ]\n",
      " [ 87.81567185 255.         255.        ]\n",
      " [  0.         255.         255.        ]\n",
      " [ 12.0461386  255.           0.        ]\n",
      " [  0.           0.           0.        ]\n",
      " [  0.         255.         255.        ]]\n"
     ]
    }
   ],
   "source": [
    "def clip_values(image: np.ndarray) -> np.ndarray:\n",
    "    return np.clip(image, 0, 255)\n",
    "\n",
    "# [[r, g, b], [r, g, b]...]\n",
    "damaged = np.random.normal(127, 255, 30).reshape((10,3))\n",
    "print(damaged)\n",
    "fixed = clip_values(damaged)\n",
    "print(fixed)"
   ]
  },
  {
   "cell_type": "markdown",
   "metadata": {},
   "source": [
    "__Задание 4__. Сгенерируйте случайный вектор из нормального распределения со средним в нуле и произвольной дисперсией. С помощью `np.insert` в встаьте в него на четные индексы нули."
   ]
  },
  {
   "cell_type": "code",
   "execution_count": 45,
   "metadata": {},
   "outputs": [
    {
     "name": "stdout",
     "output_type": "stream",
     "text": [
      "[0 2 4 6 8]\n",
      "[0, 2, 4, 6, 8]\n"
     ]
    }
   ],
   "source": [
    "vec = np.random.normal(0, 1, 100)\n",
    "# print(vec)\n",
    "new_vec2 = np.insert(vec, range(0, 100, 2), 0) # Вектор, которому на четные места вставили нули\n",
    "new_vec2 = np.insert(vec, range(100), 0) # Вектор, у которого на четных местах нули\n",
    "# PS: вместо range(0, 100, 2) можно использовать np.arange(0, 100, 2). Что лучше? \n",
    "# print(new_vec)"
   ]
  },
  {
   "cell_type": "markdown",
   "metadata": {},
   "source": [
    "__Задание 5__. Создайте случайный масиив 4х4 из нормального распределения со средним в нуле и произвольной дисперсией и верните индексы положительных элементов (`np.argwhere`)"
   ]
  },
  {
   "cell_type": "code",
   "execution_count": 37,
   "metadata": {},
   "outputs": [
    {
     "name": "stdout",
     "output_type": "stream",
     "text": [
      "[[-0.21783101  0.88702121  2.13638873 -0.61682713]\n",
      " [ 0.45747519  1.79094115 -1.23521989 -0.99984937]\n",
      " [ 0.4573515   0.40018755  0.39961035 -0.78186149]\n",
      " [-0.1119259  -0.51908561  0.00357529  0.88048887]]\n"
     ]
    },
    {
     "data": {
      "text/plain": [
       "array([[0, 1],\n",
       "       [0, 2],\n",
       "       [1, 0],\n",
       "       [1, 1],\n",
       "       [2, 0],\n",
       "       [2, 1],\n",
       "       [2, 2],\n",
       "       [3, 2],\n",
       "       [3, 3]])"
      ]
     },
     "execution_count": 37,
     "metadata": {},
     "output_type": "execute_result"
    }
   ],
   "source": [
    "matr = np.random.normal(0, 1, 16).reshape((4,4))\n",
    "print(matr)\n",
    "np.argwhere(matr > 0)"
   ]
  },
  {
   "cell_type": "markdown",
   "metadata": {},
   "source": [
    "__Задание 6__. Создайте матрицу случайных целых чисел от в интервале от 1 до 10 размера 5х5 и посчитайте следующее (сабмодуль `np.linalg`):\n",
    "\n",
    "- определитель матрицы\n",
    "- обратную матрицу\n",
    "- произведение матрицы на саму себя\n",
    "- собственные вектора\n",
    "\n"
   ]
  },
  {
   "cell_type": "code",
   "execution_count": 43,
   "metadata": {
    "scrolled": true
   },
   "outputs": [
    {
     "name": "stdout",
     "output_type": "stream",
     "text": [
      "matrix: \n",
      "[[ 1 10  4  1  2]\n",
      " [ 3  8  6  4  6]\n",
      " [10  8  7  1  4]\n",
      " [ 2  7  1  7  3]\n",
      " [ 8  1  2  5  3]] \n",
      "\n",
      " determinant -556.0 \n",
      " inverse \n",
      " [[-0.64388489 -0.11870504  0.5647482   0.49280576 -0.57913669]\n",
      " [-0.69244604 -0.10251799  0.62410072  0.6528777  -0.81834532]\n",
      " [ 3.34172662  0.21942446 -2.52877698 -2.60791367  3.31294964]\n",
      " [ 1.81654676  0.06115108 -1.44244604 -1.28417266  1.87410072]\n",
      " [-3.30755396  0.10251799  2.37589928  2.3471223  -3.18165468]] \n",
      "\n",
      "square: \n",
      "[[ 89 131  97  62  87]\n",
      " [143 176 118  99 108]\n",
      " [138 231 146  76 111]\n",
      " [ 71 136  70  95  80]\n",
      " [ 65 142  63  64  54]]\n",
      "\n",
      "eigenvectors: (array([23.43039877+0.j        ,  6.8733925 +0.j        ,\n",
      "       -2.08757542+4.74128683j, -2.08757542-4.74128683j,\n",
      "       -0.12864044+0.j        ]), array([[-0.38250157+0.j        , -0.17998097+0.j        ,\n",
      "         0.41598409-0.26885422j,  0.41598409+0.26885422j,\n",
      "         0.13075485+0.j        ],\n",
      "       [-0.52222208+0.j        ,  0.02714633+0.j        ,\n",
      "         0.24513598+0.36566705j,  0.24513598-0.36566705j,\n",
      "         0.16287116+0.j        ],\n",
      "       [-0.58755101+0.j        , -0.62960877+0.j        ,\n",
      "        -0.31234601-0.16971804j, -0.31234601+0.16971804j,\n",
      "        -0.66285726+0.j        ],\n",
      "       [-0.36357058+0.j        ,  0.71739358+0.j        ,\n",
      "         0.05449282-0.17539076j,  0.05449282+0.17539076j,\n",
      "        -0.36446881+0.j        ],\n",
      "       [-0.32183364+0.j        ,  0.23623966+0.j        ,\n",
      "        -0.63306791+0.j        , -0.63306791-0.j        ,\n",
      "         0.61980553+0.j        ]]))\n"
     ]
    }
   ],
   "source": [
    "matr = np.random.randint(1, 11, 25).reshape((5,5))\n",
    "print( 'matrix: \\n{} \\n\\n determinant {} \\n '\n",
    "      'inverse \\n {} \\n\\n'\n",
    "      'square: \\n{}\\n\\n'\n",
    "       'eigenvectors: {}'.format(matr, np.linalg.det(matr),\n",
    "            np.linalg.inv(matr),\n",
    "            matr.dot(matr),\n",
    "            np.linalg.eig(matr)) )"
   ]
  },
  {
   "cell_type": "markdown",
   "metadata": {},
   "source": [
    "Задания 7-10 необходимо сдать в [Яндекс.контест](https://contest.yandex.ru/contest/16930/problems/) и прикрепить ссылку на решение в формате `https://contest.yandex.ru/contest/xxxxx/run-report/xxxxx/`. Сдавайте задания строго в соответствии с написанной сигнатурой и возвращаемыми типами. Для сдачи необходимо отправить в соответствующую задачу файл, содержащий функции и необходимые импорты. Обратите внимание, что вам доступен только `numpy`. При сдаче выберите компилятор make. __При отсутствии ссылки на решение задание засчитано не будет!__"
   ]
  },
  {
   "cell_type": "markdown",
   "metadata": {},
   "source": [
    "__Задание 7__. Напишите функцию, которая находит сумму квадратов положительных элементов одномерного массива.\n",
    "\n",
    "__Ссылка на посылку в контесте__:"
   ]
  },
  {
   "cell_type": "code",
   "execution_count": null,
   "metadata": {},
   "outputs": [],
   "source": [
    "def get_squares(a: np.ndarray) -> float:\n",
    "    ### YOUR CODE\n",
    "    pass\n",
    "\n",
    "assert get_squares(np.array([1,-2,3])) == 10"
   ]
  },
  {
   "cell_type": "markdown",
   "metadata": {},
   "source": [
    "__Задание 8__. Коля -- мастер покера и умеет выигрывать только целые суммы денег от 0 до n - 1. Коля решил сыграть на турнире. На вход подаётся массив `p` размера $n$, где `p[i]` -- вероятность, что Коля выиграет на турнире $i$ рублей ($\\sum_{i=1}^{n}p_i =1$, $p_i \\geqslant 0, \\forall i$). Посчитайте математическое ожидание выигрыша Коли на турнире.\n",
    "\n",
    "\n",
    "__Ссылка на посылку в контесте__:"
   ]
  },
  {
   "cell_type": "code",
   "execution_count": null,
   "metadata": {},
   "outputs": [],
   "source": [
    "def expected_reward(p: np.ndarray) -> float:\n",
    "    ### YOUR CODE\n",
    "    pass\n",
    "\n",
    "assert expected_reward(np.array([0.4, 0.5, 0.1])) == 0.7"
   ]
  },
  {
   "cell_type": "markdown",
   "metadata": {},
   "source": [
    "__Задание 9__. Дана квадратная матрица `A`. Посчитайте произведение диагональных элементов матрицы, __строго__ превосходящих среднее значение элементов всей матрицы.\n",
    "\n",
    "__Хинт__: взять диагональ матрицы -- np.diag(), произведение элементов массива -- np.prod(), среднее значение в массиве -- np.mean().\n",
    "\n",
    "__Ссылка на посылку в контесте__:"
   ]
  },
  {
   "cell_type": "code",
   "execution_count": null,
   "metadata": {},
   "outputs": [],
   "source": [
    "def prod_upper_avg_diagonal(a: np.ndarray) -> float:\n",
    "    # YOUR CODE\n",
    "\n",
    "assert prod_upper_avg_diagonal(np.array([[ 0,  1,  2,  3],\n",
    "                                         [ 4,  5,  6,  7],\n",
    "                                         [ 8,  9, 10, 11],\n",
    "                                         [12, 13, 14, 15]])) == 150"
   ]
  },
  {
   "cell_type": "markdown",
   "metadata": {},
   "source": [
    "__Задание 10__. Дано число $n$. Создайте матрицу $A$ размера $n \\times n$ такую, что $A[i][j] = i \\cdot j$. Нумерация строк и столбцов начинается с нуля.\n",
    "\n",
    "__Ссылка на посылку в контесте:__"
   ]
  },
  {
   "cell_type": "code",
   "execution_count": null,
   "metadata": {},
   "outputs": [],
   "source": [
    "def create_ij(n: int) -> np.ndarray:\n",
    "    ### YOUR CODE\n",
    "\n",
    "assert np.all(create_ij(5) == np.array([[ 0,  0,  0,  0,  0],\n",
    "                                        [ 0,  1,  2,  3,  4],\n",
    "                                        [ 0,  2,  4,  6,  8],\n",
    "                                        [ 0,  3,  6,  9, 12],\n",
    "                                        [ 0,  4,  8, 12, 16]]))"
   ]
  },
  {
   "cell_type": "markdown",
   "metadata": {},
   "source": [
    "### Part 2. Numpy vs pure python\n",
    "\n",
    "\n",
    "__Задание 11__. (1 балл) Выберите любые 5 функций из заданий 2-10 и имплементируйте их, но без использования сторонних библиотек (считайте, что вам доступны только стандартные библиотеки языка Питон и на вход вместо массивов подаются питоновские списки)."
   ]
  },
  {
   "cell_type": "code",
   "execution_count": null,
   "metadata": {},
   "outputs": [],
   "source": [
    "### YOUR CODE"
   ]
  },
  {
   "cell_type": "markdown",
   "metadata": {},
   "source": [
    "__Задание 12__. (3 балла) Сравните время работы векторизованных функций с обычными. Для этого постройте графики зависимости времени исполнения функции от размера входного массива. Перебирайте значения от 1 до $10^6$ по логарифмической шкале. Сделайте выводы.\n",
    "\n",
    "__Графики должны быть опрятными!__. Подписывайте оси, и единицы измерения, указывайте легенду и название графика. Оценка за задание с неопрятными графиками может быть снижена! Сравнение плохого и хорошего графиков:"
   ]
  },
  {
   "cell_type": "code",
   "execution_count": 130,
   "metadata": {},
   "outputs": [
    {
     "data": {
      "image/png": "[encoded data removed]",
      "text/plain": [
       "<Figure size 432x288 with 1 Axes>"
      ]
     },
     "metadata": {
      "needs_background": "light"
     },
     "output_type": "display_data"
    },
    {
     "data": {
      "image/png": "[encoded data removed]",
      "text/plain": [
       "<Figure size 864x720 with 1 Axes>"
      ]
     },
     "metadata": {
      "needs_background": "light"
     },
     "output_type": "display_data"
    }
   ],
   "source": []
  },
  {
   "cell_type": "markdown",
   "metadata": {},
   "source": [
    "__Хинт__: воспользуйтесь библиотекой `time` или мэджиком `%timeit`."
   ]
  },
  {
   "cell_type": "code",
   "execution_count": null,
   "metadata": {},
   "outputs": [],
   "source": [
    "# YOUR CODE"
   ]
  },
  {
   "cell_type": "markdown",
   "metadata": {},
   "source": [
    "__Вывод__:"
   ]
  },
  {
   "cell_type": "markdown",
   "metadata": {},
   "source": [
    "### Part 3. Pandas.\n",
    "\n",
    "Задания 13-22 оцениваются в 0.4 баллов.  В заданиях 13-22 запрещается пользоваться циклами `for` и `while` в сдаваемом вами коде. Задания 13-15 также сдаются в контест с компилятором python3.6+numpy+pandas. В конце сдаваемого вами файла должны быть строки\n",
    "```\n",
    "import sys\n",
    "exec(sys.stdin.read())\n",
    "```"
   ]
  },
  {
   "cell_type": "code",
   "execution_count": null,
   "metadata": {},
   "outputs": [],
   "source": [
    "import pandas as pd"
   ]
  },
  {
   "cell_type": "markdown",
   "metadata": {},
   "source": [
    "__Задание 13__, Дан датафрейм, в котором существует колонка 'email' (строка, длиной не более 255). Напишите функцию, которая в заданном датафрейме заменяет все невалидные email'ы на \"unknown@unknown.com\". Валидным сичтается емэйл, выглядящий как `[name]@[subdomain].[domain]`, где `[name]` -- строка, содержащая латинский буквы, точки и знаки `-` и `_`, `[subdomain]` и `[domain]` -- строки, содержащие только латинские буквы и цифры. Длина строки `[domain]` -- не больше 8 символов.\n",
    "\n",
    "__Хинт__. Вопспользуйтесь методом .apply(), в который передайте функцию для обрабоки одного email'a.\n",
    "\n",
    "\n",
    "__Ссылка на посылку в контесте:__"
   ]
  },
  {
   "cell_type": "code",
   "execution_count": null,
   "metadata": {},
   "outputs": [],
   "source": [
    "def reset_emails(df: pd.DataFrame) -> pd.DataFrame:\n",
    "    ### YOUR CODE\n",
    "    pass\n",
    "\n",
    "import sys\n",
    "exec(sys.stdin.read())"
   ]
  },
  {
   "cell_type": "markdown",
   "metadata": {},
   "source": [
    "__Задание 14__. Дан датафрейм, в котором существуют колонки 'age' (возраст в годах, целое число) и 'income' (дробное число). Напишите функцию, которая вернёт средний заработок людей младше 18 лет.\n",
    "\n",
    "__Ссылка на посылку в контесте:__"
   ]
  },
  {
   "cell_type": "code",
   "execution_count": null,
   "metadata": {},
   "outputs": [],
   "source": [
    "def get_mean_income(df: pd.DataFrame) -> float:\n",
    "    ### YOUR CODE\n",
    "    pass"
   ]
  },
  {
   "cell_type": "markdown",
   "metadata": {},
   "source": [
    "__Задание 15__. Дан датафрейм, в котором существуют колонки 'id' (идентификатор пользователя, целое положительное число), 'age' (возвраст в годах, целое число), 'sex' (пол пользователя, строка, равная либо \"Male\", либо \"Female\", либо \"Other\"), \"favorite_color\" (любимый цвет пользователя, строка длиной не более 255). Найдите число различных любимых цветов у женщин младше 18 лет.\n",
    "\n",
    "__Ссылка на посылку в контесте__:"
   ]
  },
  {
   "cell_type": "code",
   "execution_count": null,
   "metadata": {},
   "outputs": [],
   "source": [
    "def get_fav_colosr(df: pd.DataFrame) -> int:\n",
    "    ### YOUR CODE\n",
    "    pass"
   ]
  },
  {
   "cell_type": "code",
   "execution_count": null,
   "metadata": {},
   "outputs": [],
   "source": []
  },
  {
   "cell_type": "markdown",
   "metadata": {},
   "source": [
    "### Part 4. EDA with pandas.\n",
    "\n",
    "В этом задании предлагается сделать разведочный анализ данных в датафрейме. \n",
    "\n",
    "Мы будем работать с датасетом русскоязычных твитов. Скачайте данные по ссылке: https://www.dropbox.com/s/ou55qwyhbj1pdav/tweets.csv?dl=1\n",
    "\n",
    "Корпус состоит из 12 столбцов:\n",
    "\n",
    "    – id: уникальный номер сообщения в системе twitter;\n",
    "    – tdate: дата публикации сообщения (твита);\n",
    "    – tmane: имя пользователя, опубликовавшего сообщение;\n",
    "    – ttext:  текст сообщения (твита);\n",
    "    – ttype: поле в котором в дальнейшем будет указано к кому классу относится твит (положительный, отрицательный, нейтральный);\n",
    "    – trep: количество реплаев к данному сообщению. В настоящий момент API твиттера не отдает эту информацию;\n",
    "    – tfav: число сколько раз данное сообщение было добавлено в избранное другими пользователями;\n",
    "    – tstcount: число всех сообщений пользователя в сети twitter;\n",
    "    – tfol: количество фолловеров пользователя (тех людей, которые читают пользователя);\n",
    "    – tfrien: количество друзей пользователя (те люди, которых читает пользователь);\n",
    "    – listcount: количество листов-подписок в которые добавлен твиттер-пользователь.\n"
   ]
  },
  {
   "cell_type": "code",
   "execution_count": null,
   "metadata": {},
   "outputs": [],
   "source": [
    "# For linux/google colab users -- download directly from the notebook\n",
    "! wget -O tweets.csv https://www.dropbox.com/s/ou55qwyhbj1pdav/tweets.csv?dl=1 "
   ]
  },
  {
   "cell_type": "code",
   "execution_count": null,
   "metadata": {},
   "outputs": [],
   "source": [
    "df = pd.read_csv(\"./tweets.csv\")"
   ]
  },
  {
   "cell_type": "code",
   "execution_count": null,
   "metadata": {},
   "outputs": [],
   "source": [
    "df.head()"
   ]
  },
  {
   "cell_type": "markdown",
   "metadata": {},
   "source": [
    "__Задание 16__. Создайте колонку 'tdif', равную разнице числа друзей и числа фолловеров у пользователя."
   ]
  },
  {
   "cell_type": "code",
   "execution_count": null,
   "metadata": {},
   "outputs": [],
   "source": [
    "### YOUR CODE"
   ]
  },
  {
   "cell_type": "markdown",
   "metadata": {},
   "source": [
    "__Задание 16__. Создайте датафрейм, в котором остались только строки с чётными номерами, и пронумеруйте их начиная с 0."
   ]
  },
  {
   "cell_type": "code",
   "execution_count": null,
   "metadata": {},
   "outputs": [],
   "source": [
    "### YOUR CODE"
   ]
  },
  {
   "cell_type": "markdown",
   "metadata": {},
   "source": [
    "__Задание 17__. Создайте датафрейм, в котором остались лишь твиты положительной тональности."
   ]
  },
  {
   "cell_type": "code",
   "execution_count": null,
   "metadata": {},
   "outputs": [],
   "source": [
    "### YOUR CODE"
   ]
  },
  {
   "cell_type": "markdown",
   "metadata": {},
   "source": [
    "__Задание 18__. Посчитайте число уникальных пользователей (пользователей с различными tmane).\n",
    "\n",
    "__Хинт__: воспользуйтесь np.unique."
   ]
  },
  {
   "cell_type": "code",
   "execution_count": null,
   "metadata": {},
   "outputs": [],
   "source": [
    "### YOUR CODE"
   ]
  },
  {
   "cell_type": "markdown",
   "metadata": {},
   "source": [
    "__Задание 19__. Посчитайте основные статистики по числу подписчиков при помощи метода .describe(). Постройте гистограмму значений признака."
   ]
  },
  {
   "cell_type": "code",
   "execution_count": null,
   "metadata": {},
   "outputs": [],
   "source": [
    "### YOUR CODE"
   ]
  },
  {
   "cell_type": "markdown",
   "metadata": {},
   "source": [
    "__Задание 20__. Посчитайте число ретвитов в датасете (твитов, начинающихся с \"RT @\")."
   ]
  },
  {
   "cell_type": "code",
   "execution_count": null,
   "metadata": {},
   "outputs": [],
   "source": [
    "### YOUR CODE"
   ]
  },
  {
   "cell_type": "markdown",
   "metadata": {},
   "source": [
    "__Задание 21__. Назовём длинным такой твит, что его длина больше, чем не менее 80% всех твитов. Найдите число длинных твитов."
   ]
  },
  {
   "cell_type": "code",
   "execution_count": null,
   "metadata": {},
   "outputs": [],
   "source": [
    "### YOUR CODE"
   ]
  },
  {
   "cell_type": "markdown",
   "metadata": {},
   "source": [
    "__Задание 22__. Постройте гистограмму распределения числа твитов по месяцам. В какой месяц какого года было опубликовано больше всего твитов?\n",
    "\n",
    "__Хинт__: Время в колонке tdate -- это Unix time, и оно отображает то, сколько секунд прошло с 00:00:00 1 января 1970 года. Для конвертации этого времени в удобный формат воспользуйтесь библиотекой `datetime`."
   ]
  },
  {
   "cell_type": "code",
   "execution_count": null,
   "metadata": {},
   "outputs": [],
   "source": [
    "### YOUR CODE"
   ]
  },
  {
   "cell_type": "markdown",
   "metadata": {},
   "source": [
    "__Задание 23__. Вставьте ниже смешную картинку, желательно про машинное обучение. Лучшие картинки мы наградим бонусными баллами (но это не точно)."
   ]
  },
  {
   "cell_type": "markdown",
   "metadata": {},
   "source": [
    "__Задание 999__. Напишите ниже, чего вы ждёте от курса, какой формат лекций и семинаров вам более интересен, в какие дни хотели бы поставить семинары, темы, которые хотели бы изучить, промежуточный фидбек (при наличии), а также произвольные пожелания и предложения. Мы постараемся всё это учесть."
   ]
  }
 ],
 "metadata": {
  "kernelspec": {
   "display_name": "Python 3",
   "language": "python",
   "name": "python3"
  },
  "language_info": {
   "codemirror_mode": {
    "name": "ipython",
    "version": 3
   },
   "file_extension": ".py",
   "mimetype": "text/x-python",
   "name": "python",
   "nbconvert_exporter": "python",
   "pygments_lexer": "ipython3",
   "version": "3.7.3"
  }
 },
 "nbformat": 4,
 "nbformat_minor": 2
}
