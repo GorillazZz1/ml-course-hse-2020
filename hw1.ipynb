{
 "cells": [
  {
   "cell_type": "markdown",
   "metadata": {},
   "source": [
    "# Машинное обучение на матфаке, 2019/2020 уч. год.\n",
    "\n",
    "## Домашнее задание 1 -- numpy, pandas, matplotlib.\n",
    "\n",
    "В этом домашнем задании вам предстоит закрепить навыки работы с важнейшими для data science библиотеками -- numpy, pandas и matplotlib.\n",
    "\n",
    "Правила оценивания на вики-странице. Часть заданий необходимо сдать в [Яндекс.контест](https://contest.yandex.ru/contest/16930/problems/)"
   ]
  },
  {
   "cell_type": "code",
   "execution_count": 2,
   "metadata": {},
   "outputs": [],
   "source": [
    "import numpy as np"
   ]
  },
  {
   "cell_type": "markdown",
   "metadata": {},
   "source": [
    "### Part 1. numpy\n",
    "\n",
    "Задания 1-10 оцениваются в 0.4 баллов."
   ]
  },
  {
   "cell_type": "markdown",
   "metadata": {},
   "source": [
    "__Задание 1__. Создайте несколько одномерных массивов размера $10^n$ для n от 1 до 6. из случайных чисел при помощи модуля `np.random`. Заполните их независимыми случайными величинами из нормального распределения с матожиданием 5 и дисперсией 10. "
   ]
  },
  {
   "cell_type": "code",
   "execution_count": 22,
   "metadata": {},
   "outputs": [],
   "source": [
    "arr = [np.random.normal(5, 10, size=10**(i+1)) for i in range(0,6)]\n",
    "# print(arr[5])"
   ]
  },
  {
   "cell_type": "markdown",
   "metadata": {},
   "source": [
    "В заданиях 2-10 запрещается использование циклов `for` и `while` в сдаваемом вами коде. "
   ]
  },
  {
   "cell_type": "markdown",
   "metadata": {},
   "source": [
    "__Задание 2__. Сгенерируйте случайный вектор (одномерный массив) из нормального распределения со средним в нуле и произвольной дисперсией. С помощью `np.where` замените в созданном массиве все отрицательные элементы на нули."
   ]
  },
  {
   "cell_type": "code",
   "execution_count": 23,
   "metadata": {},
   "outputs": [
    {
     "data": {
      "text/plain": [
       "array([0.        , 0.        , 0.        , 0.        , 0.27448001,\n",
       "       0.        , 0.66125373, 0.        , 0.84291126, 0.        ,\n",
       "       0.        , 0.        , 0.4605115 , 0.        , 0.        ,\n",
       "       0.53403312, 0.        , 0.        , 0.        , 0.11573505,\n",
       "       1.69940436, 0.03739511, 0.        , 0.        , 0.2089872 ,\n",
       "       0.25045195, 0.12952672, 0.        , 1.80176032, 0.        ,\n",
       "       0.        , 0.77194854, 0.        , 0.73438982, 1.08305356,\n",
       "       0.        , 0.446017  , 0.        , 0.        , 1.17807556,\n",
       "       0.        , 0.        , 0.02009867, 0.        , 3.06655192,\n",
       "       0.        , 0.        , 0.38471946, 0.        , 0.11311092,\n",
       "       1.90864576, 0.        , 0.32994899, 0.        , 1.00302904,\n",
       "       0.25446623, 0.        , 0.        , 0.        , 0.        ,\n",
       "       0.        , 0.        , 0.21136295, 0.02205967, 0.        ,\n",
       "       0.        , 0.        , 0.        , 1.12136076, 0.        ,\n",
       "       0.55527523, 0.86259662, 0.67008686, 0.        , 0.        ,\n",
       "       0.        , 0.        , 0.90815491, 1.26761098, 0.04650401,\n",
       "       0.34401429, 0.        , 1.01451386, 0.        , 0.35706335,\n",
       "       0.08542865, 0.        , 0.        , 0.        , 0.51370731,\n",
       "       0.92189466, 0.21678317, 0.        , 0.        , 0.        ,\n",
       "       0.94277281, 0.        , 0.        , 1.59300239, 0.        ])"
      ]
     },
     "execution_count": 23,
     "metadata": {},
     "output_type": "execute_result"
    },
    {
     "data": {
      "text/plain": [
       "array([0.        , 0.        , 0.        , 0.        , 0.27448001,\n",
       "       0.        , 0.66125373, 0.        , 0.84291126, 0.        ,\n",
       "       0.        , 0.        , 0.4605115 , 0.        , 0.        ,\n",
       "       0.53403312, 0.        , 0.        , 0.        , 0.11573505,\n",
       "       1.69940436, 0.03739511, 0.        , 0.        , 0.2089872 ,\n",
       "       0.25045195, 0.12952672, 0.        , 1.80176032, 0.        ,\n",
       "       0.        , 0.77194854, 0.        , 0.73438982, 1.08305356,\n",
       "       0.        , 0.446017  , 0.        , 0.        , 1.17807556,\n",
       "       0.        , 0.        , 0.02009867, 0.        , 3.06655192,\n",
       "       0.        , 0.        , 0.38471946, 0.        , 0.11311092,\n",
       "       1.90864576, 0.        , 0.32994899, 0.        , 1.00302904,\n",
       "       0.25446623, 0.        , 0.        , 0.        , 0.        ,\n",
       "       0.        , 0.        , 0.21136295, 0.02205967, 0.        ,\n",
       "       0.        , 0.        , 0.        , 1.12136076, 0.        ,\n",
       "       0.55527523, 0.86259662, 0.67008686, 0.        , 0.        ,\n",
       "       0.        , 0.        , 0.90815491, 1.26761098, 0.04650401,\n",
       "       0.34401429, 0.        , 1.01451386, 0.        , 0.35706335,\n",
       "       0.08542865, 0.        , 0.        , 0.        , 0.51370731,\n",
       "       0.92189466, 0.21678317, 0.        , 0.        , 0.        ,\n",
       "       0.94277281, 0.        , 0.        , 1.59300239, 0.        ])"
      ]
     },
     "execution_count": 23,
     "metadata": {},
     "output_type": "execute_result"
    }
   ],
   "source": [
    "vec = np.random.normal(0, 1, 100)\n",
    "# print(vec)\n",
    "# print(np.where(vec < 0, 0, vec)) # -- все отрицательные превращает в 0\n",
    "# print(np.where(vec >= 0, vec, 0)) # -- все что больше положительного оставляет на месте, остальное подефолту нуль\n",
    "# первое кажется более логичным, хотя выполняет тоже самое (?)\n",
    "np.where(vec < 0, 0, vec)"
   ]
  },
  {
   "cell_type": "markdown",
   "metadata": {},
   "source": [
    "__Задание 3__. Дан массив 10х3, который будет использован как массив с цветами RGB (каждый канал обозначается целым числом от 0 до 255), однако вследствие порчи данных при передаче значения массива вышли за границы заданного диапазона. Напишите функцию clip_values, которая вышедшие за границу диапазона значения превращает в ближашие границы диапазона.\n",
    "\n",
    "__Хинт__: воспользуйтесь np.clip"
   ]
  },
  {
   "cell_type": "code",
   "execution_count": 24,
   "metadata": {},
   "outputs": [
    {
     "name": "stdout",
     "output_type": "stream",
     "text": [
      "[[ -33.76050689 -215.22404461 -180.89572455]\n",
      " [ 431.07655152  -12.02820625 -309.06242644]\n",
      " [ 446.13388707  171.04012869  146.36436021]\n",
      " [ 553.99631878  484.44088687  237.94673017]\n",
      " [ 251.77090149  459.89074899  287.3989356 ]\n",
      " [ 358.44143154  301.48708175 -330.38505246]\n",
      " [ 371.44422356   21.74373665   71.28131441]\n",
      " [-462.00750976   49.85331121 -808.62828716]\n",
      " [ 230.16185721  206.12503701  442.81407284]\n",
      " [ 138.86400866  -11.16970476  456.09422625]]\n",
      "[[  0.           0.           0.        ]\n",
      " [255.           0.           0.        ]\n",
      " [255.         171.04012869 146.36436021]\n",
      " [255.         255.         237.94673017]\n",
      " [251.77090149 255.         255.        ]\n",
      " [255.         255.           0.        ]\n",
      " [255.          21.74373665  71.28131441]\n",
      " [  0.          49.85331121   0.        ]\n",
      " [230.16185721 206.12503701 255.        ]\n",
      " [138.86400866   0.         255.        ]]\n",
      "[[ -33.76050689 -215.22404461 -180.89572455]\n",
      " [ 431.07655152  -12.02820625 -309.06242644]\n",
      " [ 446.13388707  171.04012869  146.36436021]\n",
      " [ 553.99631878  484.44088687  237.94673017]\n",
      " [ 251.77090149  459.89074899  287.3989356 ]\n",
      " [ 358.44143154  301.48708175 -330.38505246]\n",
      " [ 371.44422356   21.74373665   71.28131441]\n",
      " [-462.00750976   49.85331121 -808.62828716]\n",
      " [ 230.16185721  206.12503701  442.81407284]\n",
      " [ 138.86400866  -11.16970476  456.09422625]]\n",
      "[[  0.           0.           0.        ]\n",
      " [255.           0.           0.        ]\n",
      " [255.         171.04012869 146.36436021]\n",
      " [255.         255.         237.94673017]\n",
      " [251.77090149 255.         255.        ]\n",
      " [255.         255.           0.        ]\n",
      " [255.          21.74373665  71.28131441]\n",
      " [  0.          49.85331121   0.        ]\n",
      " [230.16185721 206.12503701 255.        ]\n",
      " [138.86400866   0.         255.        ]]\n"
     ]
    }
   ],
   "source": [
    "def clip_values(image: np.ndarray) -> np.ndarray:\n",
    "    return np.clip(image, 0, 255)\n",
    "\n",
    "# [[r, g, b], [r, g, b]...]\n",
    "damaged = np.random.normal(127, 255, 30).reshape((10,3))\n",
    "print(damaged)\n",
    "fixed = clip_values(damaged)\n",
    "print(fixed)"
   ]
  },
  {
   "cell_type": "markdown",
   "metadata": {},
   "source": [
    "__Задание 4__. Сгенерируйте случайный вектор из нормального распределения со средним в нуле и произвольной дисперсией. С помощью `np.insert` в встаьте в него на четные индексы нули."
   ]
  },
  {
   "cell_type": "code",
   "execution_count": 25,
   "metadata": {},
   "outputs": [],
   "source": [
    "vec = np.random.normal(0, 1, 100)\n",
    "# print(vec)\n",
    "new_vec2 = np.insert(vec, range(0, 100, 2), 0) # Вектор, которому на четные места вставили нули\n",
    "new_vec2 = np.insert(vec, range(100), 0) # Вектор, у которого на четных местах нули\n",
    "# PS: вместо range(0, 100, 2) можно использовать np.arange(0, 100, 2). (Что лучше?)\n",
    "# print(new_vec)"
   ]
  },
  {
   "cell_type": "markdown",
   "metadata": {},
   "source": [
    "__Задание 5__. Создайте случайный масиив 4х4 из нормального распределения со средним в нуле и произвольной дисперсией и верните индексы положительных элементов (`np.argwhere`)"
   ]
  },
  {
   "cell_type": "code",
   "execution_count": 26,
   "metadata": {},
   "outputs": [
    {
     "name": "stdout",
     "output_type": "stream",
     "text": [
      "[[ 0.31647826  0.76671477 -0.89118431  2.06641957]\n",
      " [-0.16729389 -0.50079744 -0.82711819  0.61220035]\n",
      " [-1.37908599 -0.53081311 -0.35984723  0.8756959 ]\n",
      " [-0.53087839 -0.94895756 -0.50451874  0.25738877]]\n",
      "[[ 0.31647826  0.76671477 -0.89118431  2.06641957]\n",
      " [-0.16729389 -0.50079744 -0.82711819  0.61220035]\n",
      " [-1.37908599 -0.53081311 -0.35984723  0.8756959 ]\n",
      " [-0.53087839 -0.94895756 -0.50451874  0.25738877]]\n"
     ]
    },
    {
     "data": {
      "text/plain": [
       "array([[0, 0],\n",
       "       [0, 1],\n",
       "       [0, 3],\n",
       "       [1, 3],\n",
       "       [2, 3],\n",
       "       [3, 3]])"
      ]
     },
     "execution_count": 26,
     "metadata": {},
     "output_type": "execute_result"
    },
    {
     "data": {
      "text/plain": [
       "array([[0, 0],\n",
       "       [0, 1],\n",
       "       [0, 3],\n",
       "       [1, 3],\n",
       "       [2, 3],\n",
       "       [3, 3]])"
      ]
     },
     "execution_count": 26,
     "metadata": {},
     "output_type": "execute_result"
    }
   ],
   "source": [
    "matr = np.random.normal(0, 1, 16).reshape((4,4))\n",
    "print(matr)\n",
    "np.argwhere(matr > 0)"
   ]
  },
  {
   "cell_type": "markdown",
   "metadata": {},
   "source": [
    "__Задание 6__. Создайте матрицу случайных целых чисел от в интервале от 1 до 10 размера 5х5 и посчитайте следующее (сабмодуль `np.linalg`):\n",
    "\n",
    "- определитель матрицы\n",
    "- обратную матрицу\n",
    "- произведение матрицы на саму себя\n",
    "- собственные вектора\n",
    "\n"
   ]
  },
  {
   "cell_type": "code",
   "execution_count": 27,
   "metadata": {
    "scrolled": true
   },
   "outputs": [
    {
     "name": "stdout",
     "output_type": "stream",
     "text": [
      "matrix: \n",
      "[[ 7  9  8  1  2]\n",
      " [ 2  8 10  7  8]\n",
      " [ 3  8  6  8  7]\n",
      " [ 4  6  2  5 10]\n",
      " [ 9 10  1  5  9]] \n",
      "\n",
      " determinant -137.99999999999736 \n",
      " inverse \n",
      " [[  7.55072464 -13.6884058   10.44927536  12.84782609 -11.91304348]\n",
      " [ -8.7826087   15.97826087 -12.2173913  -15.15217391  14.08695652]\n",
      " [  2.98550725  -5.23188406   4.01449275   5.04347826  -4.73913043]\n",
      " [  4.02898551  -7.53623188   5.97101449   6.91304348  -6.52173913]\n",
      " [ -0.36231884   0.70289855  -0.63768116  -0.41304348   0.52173913]] \n",
      "\n",
      "square: \n",
      "[[113 225 198 149 170]\n",
      " [160 284 178 213 280]\n",
      " [150 257 163 182 255]\n",
      " [156 230 124 137 210]\n",
      " [187 289 197 157 236]]\n",
      "\n",
      "eigenvectors: (array([ 3.16182974e+01+0.j        ,  3.05339399e+00+6.81709966j,\n",
      "        3.05339399e+00-6.81709966j, -2.75349416e+00+0.j        ,\n",
      "        2.84088002e-02+0.j        ]), array([[-0.38830366+0.j        , -0.63134374+0.j        ,\n",
      "        -0.63134374-0.j        ,  0.07190167+0.j        ,\n",
      "         0.59563186+0.j        ],\n",
      "       [-0.50536643+0.j        ,  0.11557256-0.3885047j ,\n",
      "         0.11557256+0.3885047j , -0.53781536+0.j        ,\n",
      "        -0.69645661+0.j        ],\n",
      "       [-0.45683114+0.j        ,  0.15521076-0.24121321j,\n",
      "         0.15521076+0.24121321j,  0.43443838+0.j        ,\n",
      "         0.23085721+0.j        ],\n",
      "       [-0.38842117+0.j        ,  0.31601996+0.21084074j,\n",
      "         0.31601996-0.21084074j, -0.45298253+0.j        ,\n",
      "         0.32567722+0.j        ],\n",
      "       [-0.48400346+0.j        , -0.05309706+0.45573703j,\n",
      "        -0.05309706-0.45573703j,  0.55826061+0.j        ,\n",
      "        -0.02846362+0.j        ]]))\n",
      "matrix: \n",
      "[[ 7  9  8  1  2]\n",
      " [ 2  8 10  7  8]\n",
      " [ 3  8  6  8  7]\n",
      " [ 4  6  2  5 10]\n",
      " [ 9 10  1  5  9]] \n",
      "\n",
      " determinant -137.99999999999736 \n",
      " inverse \n",
      " [[  7.55072464 -13.6884058   10.44927536  12.84782609 -11.91304348]\n",
      " [ -8.7826087   15.97826087 -12.2173913  -15.15217391  14.08695652]\n",
      " [  2.98550725  -5.23188406   4.01449275   5.04347826  -4.73913043]\n",
      " [  4.02898551  -7.53623188   5.97101449   6.91304348  -6.52173913]\n",
      " [ -0.36231884   0.70289855  -0.63768116  -0.41304348   0.52173913]] \n",
      "\n",
      "square: \n",
      "[[113 225 198 149 170]\n",
      " [160 284 178 213 280]\n",
      " [150 257 163 182 255]\n",
      " [156 230 124 137 210]\n",
      " [187 289 197 157 236]]\n",
      "\n",
      "eigenvectors: (array([ 3.16182974e+01+0.j        ,  3.05339399e+00+6.81709966j,\n",
      "        3.05339399e+00-6.81709966j, -2.75349416e+00+0.j        ,\n",
      "        2.84088002e-02+0.j        ]), array([[-0.38830366+0.j        , -0.63134374+0.j        ,\n",
      "        -0.63134374-0.j        ,  0.07190167+0.j        ,\n",
      "         0.59563186+0.j        ],\n",
      "       [-0.50536643+0.j        ,  0.11557256-0.3885047j ,\n",
      "         0.11557256+0.3885047j , -0.53781536+0.j        ,\n",
      "        -0.69645661+0.j        ],\n",
      "       [-0.45683114+0.j        ,  0.15521076-0.24121321j,\n",
      "         0.15521076+0.24121321j,  0.43443838+0.j        ,\n",
      "         0.23085721+0.j        ],\n",
      "       [-0.38842117+0.j        ,  0.31601996+0.21084074j,\n",
      "         0.31601996-0.21084074j, -0.45298253+0.j        ,\n",
      "         0.32567722+0.j        ],\n",
      "       [-0.48400346+0.j        , -0.05309706+0.45573703j,\n",
      "        -0.05309706-0.45573703j,  0.55826061+0.j        ,\n",
      "        -0.02846362+0.j        ]]))\n"
     ]
    }
   ],
   "source": [
    "matr = np.random.randint(1, 11, 25).reshape((5,5))\n",
    "print( 'matrix: \\n{} \\n\\n determinant {} \\n '\n",
    "      'inverse \\n {} \\n\\n'\n",
    "      'square: \\n{}\\n\\n'\n",
    "       'eigenvectors: {}'.format(matr, np.linalg.det(matr),\n",
    "            np.linalg.inv(matr),\n",
    "            matr.dot(matr),\n",
    "            np.linalg.eig(matr)) )"
   ]
  },
  {
   "cell_type": "markdown",
   "metadata": {},
   "source": [
    "Задания 7-10 необходимо сдать в [Яндекс.контест](https://contest.yandex.ru/contest/16930/problems/) и прикрепить ссылку на решение в формате `https://contest.yandex.ru/contest/xxxxx/run-report/xxxxx/`. Сдавайте задания строго в соответствии с написанной сигнатурой и возвращаемыми типами. Для сдачи необходимо отправить в соответствующую задачу файл, содержащий функции и необходимые импорты. Обратите внимание, что вам доступен только `numpy`. При сдаче выберите компилятор make. __При отсутствии ссылки на решение задание засчитано не будет!__"
   ]
  },
  {
   "cell_type": "markdown",
   "metadata": {},
   "source": [
    "__Задание 7__. Напишите функцию, которая находит сумму квадратов положительных элементов одномерного массива.\n",
    "\n",
    "__Ссылка на посылку в контесте__:"
   ]
  },
  {
   "cell_type": "code",
   "execution_count": null,
   "metadata": {},
   "outputs": [],
   "source": [
    "def get_squares(a: np.ndarray) -> float:\n",
    "    return np.sum(np.square(np.where(a < 0, 0, a)))\n",
    "\n",
    "assert get_squares(np.array([1,-2,3])) == 10\n",
    "\n",
    "# a = np.array([1, -2, 3])\n",
    "# print(np.sum(np.square(np.where(a < 0, 0, a))))\n",
    "\n",
    "# **LINK** `https://contest.yandex.ru/contest/16930/run-report/30621657/`"
   ]
  },
  {
   "cell_type": "markdown",
   "metadata": {},
   "source": [
    "__Задание 8__. Коля -- мастер покера и умеет выигрывать только целые суммы денег от 0 до n - 1. Коля решил сыграть на турнире. На вход подаётся массив `p` размера $n$, где `p[i]` -- вероятность, что Коля выиграет на турнире $i$ рублей ($\\sum_{i=1}^{n}p_i =1$, $p_i \\geqslant 0, \\forall i$). Посчитайте математическое ожидание выигрыша Коли на турнире.\n",
    "\n",
    "\n",
    "__Ссылка на посылку в контесте__:"
   ]
  },
  {
   "cell_type": "code",
   "execution_count": null,
   "metadata": {},
   "outputs": [],
   "source": [
    "def expected_reward(p: np.ndarray) -> float:\n",
    "    return p.dot(np.array(range(len(p))))\n",
    "\n",
    "assert expected_reward(np.array([0.4, 0.5, 0.1])) == 0.7\n",
    "\n",
    "# p = np.array([0.4, 0.5, 0.1])\n",
    "# print(p.dot(np.array(range(len(p)))))\n",
    "\n",
    "# **LINK** `https://contest.yandex.ru/contest/16930/run-report/30621663/`"
   ]
  },
  {
   "cell_type": "markdown",
   "metadata": {},
   "source": [
    "__Задание 9__. Дана квадратная матрица `A`. Посчитайте произведение диагональных элементов матрицы, __строго__ превосходящих среднее значение элементов всей матрицы.\n",
    "\n",
    "__Хинт__: взять диагональ матрицы -- np.diag(), произведение элементов массива -- np.prod(), среднее значение в массиве -- np.mean().\n",
    "\n",
    "__Ссылка на посылку в контесте__:"
   ]
  },
  {
   "cell_type": "code",
   "execution_count": 28,
   "metadata": {},
   "outputs": [],
   "source": [
    "def prod_upper_avg_diagonal(a: np.ndarray) -> float:\n",
    "    diag = np.diag(a)\n",
    "    return np.prod(np.where(diag > np.mean(a), diag, 1))\n",
    "\n",
    "assert prod_upper_avg_diagonal(np.array([[ 0,  1,  2,  3],\n",
    "                                         [ 4,  5,  6,  7],\n",
    "                                         [ 8,  9, 10, 11],\n",
    "                                         [12, 13, 14, 15]])) == 150\n",
    "\n",
    "# a = np.array([[ 0,  1,  2,  3],\n",
    "#              [ 4,  5,  6,  7],\n",
    "#              [ 8,  9, 10, 11],\n",
    "#              [12, 13, 14, 15]])\n",
    "# diag = np.diag(a)\n",
    "# mean = np.mean(a)\n",
    "# print(diag)\n",
    "# print(mean)\n",
    "# print(np.prod(np.where(diag > mean, diag, 1)))\n",
    "\n",
    "# **LINK** `https://contest.yandex.ru/contest/16930/run-report/30621668/`"
   ]
  },
  {
   "cell_type": "markdown",
   "metadata": {},
   "source": [
    "__Задание 10__. Дано число $n$. Создайте матрицу $A$ размера $n \\times n$ такую, что $A[i][j] = i \\cdot j$. Нумерация строк и столбцов начинается с нуля.\n",
    "\n",
    "__Ссылка на посылку в контесте:__"
   ]
  },
  {
   "cell_type": "code",
   "execution_count": 29,
   "metadata": {},
   "outputs": [],
   "source": [
    "def create_ij(n: int) -> np.ndarray:\n",
    "    a = np.array(range(n)).reshape(1, -1)\n",
    "    return a.T.dot(a)\n",
    "\n",
    "assert np.all(create_ij(5) == np.array([[ 0,  0,  0,  0,  0],\n",
    "                                        [ 0,  1,  2,  3,  4],\n",
    "                                        [ 0,  2,  4,  6,  8],\n",
    "                                        [ 0,  3,  6,  9, 12],\n",
    "                                        [ 0,  4,  8, 12, 16]]))\n",
    "\n",
    "# print(create_ij(5))\n",
    "\n",
    "# **LINK** `https://contest.yandex.ru/contest/16930/run-report/30621681/`"
   ]
  },
  {
   "cell_type": "markdown",
   "metadata": {},
   "source": [
    "### Part 2. Numpy vs pure python\n",
    "\n",
    "\n",
    "__Задание 11__. (1 балл) Выберите любые 5 функций из заданий 2-10 и имплементируйте их, но без использования сторонних библиотек (считайте, что вам доступны только стандартные библиотеки языка Питон и на вход вместо массивов подаются питоновские списки)."
   ]
  },
  {
   "cell_type": "code",
   "execution_count": 25,
   "metadata": {},
   "outputs": [],
   "source": [
    "import random\n",
    "\n",
    "#1 Task 1\n",
    "def normal_distr(n):\n",
    "    return [random.gauss(0, 1) for _ in range(n)]\n",
    "    \n",
    "def without_negatives(arr):\n",
    "    return [max(x, 0) for x in arr]\n",
    "\n",
    "#2 Task 5\n",
    "def create_gauss_sq_matrix(n):\n",
    "    return [[random.gauss(0, 1) for _ in range(n)] for _ in range(n)]\n",
    "\n",
    "def where_positive(matr):\n",
    "    ans = []\n",
    "    for i in range(len(matr)):\n",
    "        for j in range(len(matr)):\n",
    "            if matr[i][j] > 0:\n",
    "                ans.append([i, j])\n",
    "    return ans\n",
    "# m = create_gauss_sq_matrix(4)\n",
    "# print(m)\n",
    "# print(where_positive(m))\n",
    "\n",
    "#3 Task 7 сумму квадратов положительных элементов одномерного массива.\n",
    "def py_get_squares(arr):\n",
    "    return sum([a*a for a in arr if a > 0])\n",
    "# print(py_get_squares([1,-2,3]))\n",
    "\n",
    "#4 Task 8\n",
    "def py_expected_reward(prob_arr):\n",
    "    ans = 0\n",
    "    for p in range(len(prob_arr)):\n",
    "        ans += p*prob_arr[p]\n",
    "    return ans\n",
    "# print(py_expected_reward([0.4, 0.5, 0.1]))\n",
    "\n",
    "#5 Task 10\n",
    "def py_create_ij(n: int):\n",
    "    arr = []\n",
    "    for i in range(n):\n",
    "        row = []\n",
    "        for j in range(n):\n",
    "            row.append(i*j)\n",
    "        arr.append(row)\n",
    "    return arr\n",
    "# print(py_create_ij(5))"
   ]
  },
  {
   "cell_type": "markdown",
   "metadata": {},
   "source": [
    "__Задание 12__. (3 балла) Сравните время работы векторизованных функций с обычными. Для этого постройте графики зависимости времени исполнения функции от размера входного массива. Перебирайте значения от 1 до $10^6$ по логарифмической шкале. Сделайте выводы.\n",
    "\n",
    "__Графики должны быть опрятными!__. Подписывайте оси, и единицы измерения, указывайте легенду и название графика. Оценка за задание с неопрятными графиками может быть снижена! Сравнение плохого и хорошего графиков:"
   ]
  },
  {
   "cell_type": "code",
   "execution_count": 19,
   "metadata": {},
   "outputs": [],
   "source": [
    "import sys\n",
    "import timeit # https://stackoverflow.com/questions/8220801/how-to-use-timeit-module/29512249\n",
    "import matplotlib.pyplot as plt # для графико\n",
    "plt.ioff()\n",
    "\n",
    "if 'numpy' not in sys.modules:\n",
    "    import numpy as np\n",
    "\n",
    "# def compared_plot(legend=''):\n",
    "#     pass\n",
    "\n",
    "def timings_and_plot(pure_py_func, np_func, args_func, title=\"Simple Plot\", \n",
    "                     number=1, low=1, high=6, base=10, samples=10):\n",
    "    '''\n",
    "        pure_py_func -- функция чистого питона, без NP\n",
    "        np_func -- функция NP\n",
    "        args_func -- лямбда функция, которая генерирует входные данные для pure_py_func и np_func\n",
    "                        по сути, функнция-генератор // generation function of input\n",
    "        title -- легенда(название) нашего графика (подПИСЬКА сверху) // забавно, что legend, т.е. легенда графика у matplot это совсем НЕ легенда, а название это легенда [fun facts at 6am]\n",
    "        number -- timeit.timeit(... -->number= <-- ) вот этот номер, \" method with number executions\"\n",
    "                    \"сколько раз выполняется функция\" // https://docs.python.org/3/library/timeit.html\n",
    "        low -- нижнее значение степени base\n",
    "        high -- верхнее значение степени base\n",
    "        base -- \"база\" логарифма\n",
    "        samples -- сколько точек \n",
    "    '''\n",
    "    logspace = np.logspace(low, high, num=samples, base=base) # log space of dots (basicly axis X)\n",
    "    pure_time = [] # timings of Py\n",
    "    numpy_time = [] # timings of NumPy\n",
    "    \n",
    "    for s in logspace:\n",
    "        args = args_func(int(s))\n",
    "        pure_time.append(timeit.timeit(lambda: pure_py_func(*args), number=number) / number)\n",
    "        numpy_time.append(timeit.timeit(lambda: np_func(*args), number=number) / number)\n",
    "#         print(s)\n",
    "#         print(logspace)\n",
    "#         print(pure_time)\n",
    "#         print(numpy_time)\n",
    "#         print('\\n')\n",
    "\n",
    "    \n",
    "    normal = plt.gca()\n",
    "    normal.set_title(title)\n",
    "    normal.set_ylabel('time')\n",
    "    normal.set_xlabel('size of input')\n",
    "    normal.plot(logspace, pure_time, label='Pure Python')\n",
    "    normal.plot(logspace, numpy_time, label='NumPy')\n",
    "    plt.show()\n",
    "    \n",
    "#     ToDo: https://stackoverflow.com/questions/773814/plot-logarithmic-axes-with-matplotlib-in-python\n",
    "#             Надо подумать как правильно тут логарифм шкалу сделать! \n",
    "#     logsized = plt.gca()\n",
    "#     logsized.set_title('Log scale')\n",
    "#     logsized.set_ylabel('log(time)')\n",
    "#     logsized.set_xlabel('log(size of input)')\n",
    "#     logsized.set_yscale('log')\n",
    "#     logsized.set_xscale('log')\n",
    "#     logsized.plot(logspace, pure_time, label='Pure Python')\n",
    "#     logsized.plot(logspace, numpy_time, label='NumPy')\n",
    "#     plt.show()    \n",
    "        "
   ]
  },
  {
   "cell_type": "markdown",
   "metadata": {},
   "source": [
    "__Хинт__: воспользуйтесь библиотекой `time` или мэджиком `%timeit`."
   ]
  },
  {
   "cell_type": "markdown",
   "metadata": {},
   "source": [
    "__Замечание__: Далее будет производиться сравнение быстроты работы функций с использыванием `timings_and_plot(...)`.\n",
    "Для удобства функции будут продублированы, они будут в точности повторять написанные функции в заданиях 2-10.\n",
    "Функции, начинающиеся с `np_` -- это функции, которые написаны с использыванием NumPy, а функции, которые начинаются с `pp_` -- это функции чистого питона, он же PurePython."
   ]
  },
  {
   "cell_type": "code",
   "execution_count": 28,
   "metadata": {},
   "outputs": [
    {
     "data": {
      "image/png": "[encoded data removed]",
      "text/plain": [
       "<Figure size 432x288 with 1 Axes>"
      ]
     },
     "metadata": {
      "needs_background": "light"
     },
     "output_type": "display_data"
    },
    {
     "data": {
      "image/png": "[encoded data removed]",
      "text/plain": [
       "<Figure size 432x288 with 1 Axes>"
      ]
     },
     "metadata": {
      "needs_background": "light"
     },
     "output_type": "display_data"
    }
   ],
   "source": [
    "#             PurePy vs NumPy\n",
    "# Task 0: _Нормальное распределение_\n",
    "# Первым(нулевым) шагом хочется выяснить с помощью чего генерировать случайные числа быстрее\n",
    "\n",
    "if 'random' not in sys.modules:\n",
    "    import random\n",
    "\n",
    "def np_normal_gaus(n):\n",
    "    return np.random.normal(0, 1, n)\n",
    "\n",
    "def pp_normal_gaus(n):\n",
    "    return [random.gauss(0, 1) for _ in range(n)]\n",
    "\n",
    "timings_and_plot(pp_normal_gaus, np_normal_gaus, lambda n: (n,), title=\"Normal distribution generation\")"
   ]
  },
  {
   "cell_type": "markdown",
   "metadata": {},
   "source": [
    "_Вывод 0_: Случаные распределения быстрее генерирует NumPy, в дальнейшем будем его и использовать для данной задачи."
   ]
  },
  {
   "cell_type": "code",
   "execution_count": 30,
   "metadata": {},
   "outputs": [
    {
     "data": {
      "image/png": "[encoded data removed]",
      "text/plain": [
       "<Figure size 432x288 with 1 Axes>"
      ]
     },
     "metadata": {
      "needs_background": "light"
     },
     "output_type": "display_data"
    },
    {
     "data": {
      "image/png": "[encoded data removed]",
      "text/plain": [
       "<Figure size 432x288 with 1 Axes>"
      ]
     },
     "metadata": {
      "needs_background": "light"
     },
     "output_type": "display_data"
    }
   ],
   "source": [
    "#             PurePy vs NumPy\n",
    "# Task 1: _Удаление отрицательных чисел из распределение_\n",
    "# Постановка: на вход подается массив, необходимо вместо отрицательных чисел написать нули.\n",
    "\n",
    "def np_wo_negative(vec):\n",
    "    return np.where(vec < 0, 0, vec)\n",
    "\n",
    "def pp_wo_negative(vec):\n",
    "    return [max(x, 0) for x in vec]\n",
    "\n",
    "timings_and_plot(pp_wo_negative, np_wo_negative, lambda n: (np.random.normal(0, 1, n),),\n",
    "                 title=\"Replacing negative numbers with zero\")"
   ]
  },
  {
   "cell_type": "code",
   "execution_count": null,
   "metadata": {},
   "outputs": [],
   "source": [
    "#             PurePy vs NumPy\n",
    "# Task 2: _Удаление отрицательных чисел из распределение_\n",
    "# Постановка: на вход подается массив, необходимо вместо отрицательных чисел написать нули.\n",
    "\n",
    "def np_positive_indexes(matr):\n",
    "    return np.argwhere(matr > 0)\n",
    "\n",
    "def pp_positive_indexes(matr):\n",
    "    ans = []\n",
    "    for i in range(len(matr)):\n",
    "        for j in range(len(matr)):\n",
    "            if matr[i][j] > 0:\n",
    "                ans.append([i, j])\n",
    "    return ans\n",
    "\n",
    "timings_and_plot(pp_positive_indexes, np_positive_indexes, \n",
    "                 lambda n: (np.random.normal(0, 1, n*n).reshape((n,n)),),\n",
    "                 title=\"Getting positive indexes\", high=4)"
   ]
  },
  {
   "cell_type": "markdown",
   "metadata": {},
   "source": [
    "__Вывод__:"
   ]
  },
  {
   "cell_type": "markdown",
   "metadata": {},
   "source": [
    "### Part 3. Pandas.\n",
    "\n",
    "Задания 13-22 оцениваются в 0.4 баллов.  В заданиях 13-22 запрещается пользоваться циклами `for` и `while` в сдаваемом вами коде. Задания 13-15 также сдаются в контест с компилятором python3.6+numpy+pandas. В конце сдаваемого вами файла должны быть строки\n",
    "```\n",
    "import sys\n",
    "exec(sys.stdin.read())\n",
    "```"
   ]
  },
  {
   "cell_type": "code",
   "execution_count": null,
   "metadata": {},
   "outputs": [],
   "source": [
    "import pandas as pd"
   ]
  },
  {
   "cell_type": "markdown",
   "metadata": {},
   "source": [
    "__Задание 13__, Дан датафрейм, в котором существует колонка 'email' (строка, длиной не более 255). Напишите функцию, которая в заданном датафрейме заменяет все невалидные email'ы на \"unknown@unknown.com\". Валидным сичтается емэйл, выглядящий как `[name]@[subdomain].[domain]`, где `[name]` -- строка, содержащая латинский буквы, точки и знаки `-` и `_`, `[subdomain]` и `[domain]` -- строки, содержащие только латинские буквы и цифры. Длина строки `[domain]` -- не больше 8 символов.\n",
    "\n",
    "__Хинт__. Вопспользуйтесь методом .apply(), в который передайте функцию для обрабоки одного email'a.\n",
    "\n",
    "\n",
    "__Ссылка на посылку в контесте:__"
   ]
  },
  {
   "cell_type": "code",
   "execution_count": null,
   "metadata": {},
   "outputs": [],
   "source": [
    "def reset_emails(df: pd.DataFrame) -> pd.DataFrame:\n",
    "    # remark: надо использовать регулярные выражения\n",
    "    ### YOUR CODE\n",
    "    pass\n",
    "\n",
    "import sys\n",
    "exec(sys.stdin.read())"
   ]
  },
  {
   "cell_type": "markdown",
   "metadata": {},
   "source": [
    "__Задание 14__. Дан датафрейм, в котором существуют колонки 'age' (возраст в годах, целое число) и 'income' (дробное число). Напишите функцию, которая вернёт средний заработок людей младше 18 лет.\n",
    "\n",
    "__Ссылка на посылку в контесте:__"
   ]
  },
  {
   "cell_type": "code",
   "execution_count": null,
   "metadata": {},
   "outputs": [],
   "source": [
    "def get_mean_income(df: pd.DataFrame) -> float:\n",
    "    ### YOUR CODE\n",
    "    pass"
   ]
  },
  {
   "cell_type": "markdown",
   "metadata": {},
   "source": [
    "__Задание 15__. Дан датафрейм, в котором существуют колонки 'id' (идентификатор пользователя, целое положительное число), 'age' (возвраст в годах, целое число), 'sex' (пол пользователя, строка, равная либо \"Male\", либо \"Female\", либо \"Other\"), \"favorite_color\" (любимый цвет пользователя, строка длиной не более 255). Найдите число различных любимых цветов у женщин младше 18 лет.\n",
    "\n",
    "__Ссылка на посылку в контесте__:"
   ]
  },
  {
   "cell_type": "code",
   "execution_count": null,
   "metadata": {},
   "outputs": [],
   "source": [
    "def get_fav_colosr(df: pd.DataFrame) -> int:\n",
    "    ### YOUR CODE\n",
    "    pass"
   ]
  },
  {
   "cell_type": "code",
   "execution_count": null,
   "metadata": {},
   "outputs": [],
   "source": []
  },
  {
   "cell_type": "markdown",
   "metadata": {},
   "source": [
    "### Part 4. EDA with pandas.\n",
    "\n",
    "В этом задании предлагается сделать разведочный анализ данных в датафрейме. \n",
    "\n",
    "Мы будем работать с датасетом русскоязычных твитов. Скачайте данные по ссылке: https://www.dropbox.com/s/ou55qwyhbj1pdav/tweets.csv?dl=1\n",
    "\n",
    "Корпус состоит из 12 столбцов:\n",
    "\n",
    "    – id: уникальный номер сообщения в системе twitter;\n",
    "    – tdate: дата публикации сообщения (твита);\n",
    "    – tmane: имя пользователя, опубликовавшего сообщение;\n",
    "    – ttext:  текст сообщения (твита);\n",
    "    – ttype: поле в котором в дальнейшем будет указано к кому классу относится твит (положительный, отрицательный, нейтральный);\n",
    "    – trep: количество реплаев к данному сообщению. В настоящий момент API твиттера не отдает эту информацию;\n",
    "    – tfav: число сколько раз данное сообщение было добавлено в избранное другими пользователями;\n",
    "    – tstcount: число всех сообщений пользователя в сети twitter;\n",
    "    – tfol: количество фолловеров пользователя (тех людей, которые читают пользователя);\n",
    "    – tfrien: количество друзей пользователя (те люди, которых читает пользователь);\n",
    "    – listcount: количество листов-подписок в которые добавлен твиттер-пользователь.\n"
   ]
  },
  {
   "cell_type": "code",
   "execution_count": null,
   "metadata": {},
   "outputs": [],
   "source": [
    "# For linux/google colab users -- download directly from the notebook\n",
    "! wget -O tweets.csv https://www.dropbox.com/s/ou55qwyhbj1pdav/tweets.csv?dl=1 "
   ]
  },
  {
   "cell_type": "code",
   "execution_count": null,
   "metadata": {},
   "outputs": [],
   "source": [
    "df = pd.read_csv(\"./tweets.csv\")"
   ]
  },
  {
   "cell_type": "code",
   "execution_count": null,
   "metadata": {},
   "outputs": [],
   "source": [
    "df.head()"
   ]
  },
  {
   "cell_type": "markdown",
   "metadata": {},
   "source": [
    "__Задание 16__. Создайте колонку 'tdif', равную разнице числа друзей и числа фолловеров у пользователя."
   ]
  },
  {
   "cell_type": "code",
   "execution_count": null,
   "metadata": {},
   "outputs": [],
   "source": [
    "### YOUR CODE"
   ]
  },
  {
   "cell_type": "markdown",
   "metadata": {},
   "source": [
    "__Задание 16__. Создайте датафрейм, в котором остались только строки с чётными номерами, и пронумеруйте их начиная с 0."
   ]
  },
  {
   "cell_type": "code",
   "execution_count": null,
   "metadata": {},
   "outputs": [],
   "source": [
    "### YOUR CODE"
   ]
  },
  {
   "cell_type": "markdown",
   "metadata": {},
   "source": [
    "__Задание 17__. Создайте датафрейм, в котором остались лишь твиты положительной тональности."
   ]
  },
  {
   "cell_type": "code",
   "execution_count": null,
   "metadata": {},
   "outputs": [],
   "source": [
    "### YOUR CODE"
   ]
  },
  {
   "cell_type": "markdown",
   "metadata": {},
   "source": [
    "__Задание 18__. Посчитайте число уникальных пользователей (пользователей с различными tmane).\n",
    "\n",
    "__Хинт__: воспользуйтесь np.unique."
   ]
  },
  {
   "cell_type": "code",
   "execution_count": null,
   "metadata": {},
   "outputs": [],
   "source": [
    "### YOUR CODE"
   ]
  },
  {
   "cell_type": "markdown",
   "metadata": {},
   "source": [
    "__Задание 19__. Посчитайте основные статистики по числу подписчиков при помощи метода .describe(). Постройте гистограмму значений признака."
   ]
  },
  {
   "cell_type": "code",
   "execution_count": null,
   "metadata": {},
   "outputs": [],
   "source": [
    "### YOUR CODE"
   ]
  },
  {
   "cell_type": "markdown",
   "metadata": {},
   "source": [
    "__Задание 20__. Посчитайте число ретвитов в датасете (твитов, начинающихся с \"RT @\")."
   ]
  },
  {
   "cell_type": "code",
   "execution_count": null,
   "metadata": {},
   "outputs": [],
   "source": [
    "### YOUR CODE"
   ]
  },
  {
   "cell_type": "markdown",
   "metadata": {},
   "source": [
    "__Задание 21__. Назовём длинным такой твит, что его длина больше, чем не менее 80% всех твитов. Найдите число длинных твитов."
   ]
  },
  {
   "cell_type": "code",
   "execution_count": null,
   "metadata": {},
   "outputs": [],
   "source": [
    "### YOUR CODE"
   ]
  },
  {
   "cell_type": "markdown",
   "metadata": {},
   "source": [
    "__Задание 22__. Постройте гистограмму распределения числа твитов по месяцам. В какой месяц какого года было опубликовано больше всего твитов?\n",
    "\n",
    "__Хинт__: Время в колонке tdate -- это Unix time, и оно отображает то, сколько секунд прошло с 00:00:00 1 января 1970 года. Для конвертации этого времени в удобный формат воспользуйтесь библиотекой `datetime`."
   ]
  },
  {
   "cell_type": "code",
   "execution_count": null,
   "metadata": {},
   "outputs": [],
   "source": [
    "### YOUR CODE"
   ]
  },
  {
   "cell_type": "markdown",
   "metadata": {},
   "source": [
    "__Задание 23__. Вставьте ниже смешную картинку, желательно про машинное обучение. Лучшие картинки мы наградим бонусными баллами (но это не точно)."
   ]
  },
  {
   "cell_type": "markdown",
   "metadata": {},
   "source": [
    "__Задание 999__. Напишите ниже, чего вы ждёте от курса, какой формат лекций и семинаров вам более интересен, в какие дни хотели бы поставить семинары, темы, которые хотели бы изучить, промежуточный фидбек (при наличии), а также произвольные пожелания и предложения. Мы постараемся всё это учесть."
   ]
  }
 ],
 "metadata": {
  "kernelspec": {
   "display_name": "Python 3",
   "language": "python",
   "name": "python3"
  },
  "language_info": {
   "codemirror_mode": {
    "name": "ipython",
    "version": 3
   },
   "file_extension": ".py",
   "mimetype": "text/x-python",
   "name": "python",
   "nbconvert_exporter": "python",
   "pygments_lexer": "ipython3",
   "version": "3.7.3"
  }
 },
 "nbformat": 4,
 "nbformat_minor": 2
}
