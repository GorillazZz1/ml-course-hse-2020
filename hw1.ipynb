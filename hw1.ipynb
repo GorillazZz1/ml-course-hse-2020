{
 "cells": [
  {
   "cell_type": "markdown",
   "metadata": {},
   "source": [
    "# Машинное обучение на матфаке, 2019/2020 уч. год.\n",
    "\n",
    "## Домашнее задание 1 -- numpy, pandas, matplotlib.\n",
    "\n",
    "В этом домашнем задании вам предстоит закрепить навыки работы с важнейшими для data science библиотеками -- numpy, pandas и matplotlib.\n",
    "\n",
    "Правила оценивания на вики-странице. Часть заданий необходимо сдать в [Яндекс.контест](https://contest.yandex.ru/contest/16930/problems/)"
   ]
  },
  {
   "cell_type": "code",
   "execution_count": 1,
   "metadata": {},
   "outputs": [],
   "source": [
    "import numpy as np"
   ]
  },
  {
   "cell_type": "markdown",
   "metadata": {},
   "source": [
    "### Part 1. numpy\n",
    "\n",
    "Задания 1-10 оцениваются в 0.4 баллов."
   ]
  },
  {
   "cell_type": "markdown",
   "metadata": {},
   "source": [
    "__Задание 1__. Создайте несколько одномерных массивов размера $10^n$ для n от 1 до 6. из случайных чисел при помощи модуля `np.random`. Заполните их независимыми случайными величинами из нормального распределения с матожиданием 5 и дисперсией 10. "
   ]
  },
  {
   "cell_type": "code",
   "execution_count": 2,
   "metadata": {},
   "outputs": [],
   "source": [
    "arr = [np.random.normal(5, 10, size=10**(i+1)) for i in range(0,6)]\n",
    "# print(arr[5])"
   ]
  },
  {
   "cell_type": "markdown",
   "metadata": {},
   "source": [
    "В заданиях 2-10 запрещается использование циклов `for` и `while` в сдаваемом вами коде. "
   ]
  },
  {
   "cell_type": "markdown",
   "metadata": {},
   "source": [
    "__Задание 2__. Сгенерируйте случайный вектор (одномерный массив) из нормального распределения со средним в нуле и произвольной дисперсией. С помощью `np.where` замените в созданном массиве все отрицательные элементы на нули."
   ]
  },
  {
   "cell_type": "code",
   "execution_count": 3,
   "metadata": {},
   "outputs": [
    {
     "name": "stdout",
     "output_type": "stream",
     "text": [
      "[-0.53402596 -0.24576113  2.20110801 -0.10300102  0.05774785  1.26546599\n",
      " -0.35964912  0.40727064 -1.30466162  0.21988672 -0.08836012  0.32006384\n",
      "  0.32821661  0.82272854 -0.45668504 -0.38676529  0.21427121  0.05454558\n",
      "  1.29576307 -0.61438086 -0.38528667 -0.06617271 -0.76245079 -0.697867\n",
      " -0.85911025 -0.22896598 -1.94873761  0.71651291 -0.42280997 -0.41560471\n",
      " -1.75815577 -1.03783878 -0.62884879  0.08190916 -1.89520634  1.42848578\n",
      "  0.22475933  0.57789209  0.94871499  0.98935262  0.41844083  1.78088533\n",
      " -0.05526513 -1.04536582  2.62962819  0.31101258 -0.93577627 -1.1554828\n",
      " -0.03623724 -0.89352208  0.8974808  -1.13898255 -0.89221525 -0.55882558\n",
      " -0.09565422 -1.96378447 -0.49526726  0.49741992 -1.66355971 -0.37940284\n",
      " -0.09309197 -1.36772918  0.04851367 -1.42468048 -0.72913563 -0.34086838\n",
      " -1.08536604  0.59428598 -2.03906897 -0.05227075 -0.89409737 -0.08964126\n",
      " -0.17312477  0.10482659  0.38972973 -1.58451978  0.03071366 -1.01047065\n",
      "  0.65786863 -0.2738849   0.46043543 -0.79803624  0.77304162 -1.0002522\n",
      "  1.26268409 -0.49039717  1.01840365 -1.51627906  0.16350387 -0.82438637\n",
      " -0.6521203   0.01893585 -0.22085616  0.16563036 -1.17206688  0.43563566\n",
      " -0.15173593  0.34197936 -0.13753836  0.87565975]\n",
      "[0.         0.         2.20110801 0.         0.05774785 1.26546599\n",
      " 0.         0.40727064 0.         0.21988672 0.         0.32006384\n",
      " 0.32821661 0.82272854 0.         0.         0.21427121 0.05454558\n",
      " 1.29576307 0.         0.         0.         0.         0.\n",
      " 0.         0.         0.         0.71651291 0.         0.\n",
      " 0.         0.         0.         0.08190916 0.         1.42848578\n",
      " 0.22475933 0.57789209 0.94871499 0.98935262 0.41844083 1.78088533\n",
      " 0.         0.         2.62962819 0.31101258 0.         0.\n",
      " 0.         0.         0.8974808  0.         0.         0.\n",
      " 0.         0.         0.         0.49741992 0.         0.\n",
      " 0.         0.         0.04851367 0.         0.         0.\n",
      " 0.         0.59428598 0.         0.         0.         0.\n",
      " 0.         0.10482659 0.38972973 0.         0.03071366 0.\n",
      " 0.65786863 0.         0.46043543 0.         0.77304162 0.\n",
      " 1.26268409 0.         1.01840365 0.         0.16350387 0.\n",
      " 0.         0.01893585 0.         0.16563036 0.         0.43563566\n",
      " 0.         0.34197936 0.         0.87565975]\n"
     ]
    }
   ],
   "source": [
    "vec = np.random.normal(0, 1, 100)\n",
    "wo_negative = np.where(vec < 0, 0, vec)\n",
    "print(vec)\n",
    "print(wo_negative) # -- все отрицательные превращает в 0\n",
    "# print(np.where(vec >= 0, vec, 0)) # -- все что больше положительного оставляет на месте, остальное подефолту нуль\n",
    "# первое кажется более логичным, хотя выполняет тоже самое (?)"
   ]
  },
  {
   "cell_type": "markdown",
   "metadata": {},
   "source": [
    "__Задание 3__. Дан массив 10х3, который будет использован как массив с цветами RGB (каждый канал обозначается целым числом от 0 до 255), однако вследствие порчи данных при передаче значения массива вышли за границы заданного диапазона. Напишите функцию clip_values, которая вышедшие за границу диапазона значения превращает в ближашие границы диапазона.\n",
    "\n",
    "__Хинт__: воспользуйтесь np.clip"
   ]
  },
  {
   "cell_type": "code",
   "execution_count": 4,
   "metadata": {},
   "outputs": [
    {
     "name": "stdout",
     "output_type": "stream",
     "text": [
      "[[  87.95835214  171.72798302  120.58496293]\n",
      " [ 179.05314585  562.55984236  368.23072121]\n",
      " [  64.97828747  305.49209644 -216.11915745]\n",
      " [  82.57644743  172.9183091    61.20496233]\n",
      " [-366.9025164   -30.52960144  202.38464672]\n",
      " [ 152.3937251   361.10383441 -650.51633455]\n",
      " [  83.31401656  289.06938526  291.78087895]\n",
      " [ 534.88890522  -67.31988809   49.46354674]\n",
      " [ 289.64509775  -18.38284577   17.89957897]\n",
      " [-173.99195389  205.35090049   87.54774345]]\n",
      "[[ 87.95835214 171.72798302 120.58496293]\n",
      " [179.05314585 255.         255.        ]\n",
      " [ 64.97828747 255.           0.        ]\n",
      " [ 82.57644743 172.9183091   61.20496233]\n",
      " [  0.           0.         202.38464672]\n",
      " [152.3937251  255.           0.        ]\n",
      " [ 83.31401656 255.         255.        ]\n",
      " [255.           0.          49.46354674]\n",
      " [255.           0.          17.89957897]\n",
      " [  0.         205.35090049  87.54774345]]\n"
     ]
    }
   ],
   "source": [
    "def clip_values(image: np.ndarray) -> np.ndarray:\n",
    "    return np.clip(image, 0, 255)\n",
    "\n",
    "# [[r, g, b], [r, g, b]...]\n",
    "damaged = np.random.normal(127, 255, 30).reshape((10,3))\n",
    "print(damaged)\n",
    "fixed = clip_values(damaged)\n",
    "print(fixed)"
   ]
  },
  {
   "cell_type": "markdown",
   "metadata": {},
   "source": [
    "__Задание 4__. Сгенерируйте случайный вектор из нормального распределения со средним в нуле и произвольной дисперсией. С помощью `np.insert` в встаьте в него на четные индексы нули."
   ]
  },
  {
   "cell_type": "code",
   "execution_count": 5,
   "metadata": {},
   "outputs": [
    {
     "name": "stdout",
     "output_type": "stream",
     "text": [
      "[ 1.09052263  1.39560679  0.90283363  0.46289414  0.00479787  1.80926117\n",
      " -0.84211481  0.42290469  0.2679185  -2.17581516 -0.40460185  1.18598374\n",
      " -0.03390231  0.62444224  0.40340707 -2.1794012   0.42873057 -1.05748629\n",
      " -0.86281976  2.44815802  0.21863204  0.93221827  0.73883272  0.46760587\n",
      "  2.30349538  1.24270482 -0.638163   -1.6130635   0.12223064  1.5286738\n",
      "  0.0235318   0.18310045 -0.78127659  1.29825638 -0.53884293  0.18174435\n",
      "  1.08980575  0.69135121  0.29798307  0.57198369 -0.3977972   1.79268106\n",
      " -1.34854517 -0.84407296 -1.6376285   1.64274147  0.63013343 -0.18735857\n",
      " -1.30006314  0.17567808 -0.65092631 -1.00011642  1.32954698 -0.75357286\n",
      "  1.09965459  2.14670714 -0.35068033 -1.96333916 -1.32007006 -0.5272024\n",
      " -0.79095182  0.8216535   0.01560338  0.76961407  0.37494205  0.28350834\n",
      "  0.31565665  2.35784016 -0.91287358  0.5333465  -0.05728503  0.03211118\n",
      " -0.48941034  0.99257005  0.74004372 -2.56946925  1.19595089  2.27412161\n",
      " -0.46573514  1.04208296 -1.50447645  0.6114768   0.72704669 -0.18222069\n",
      "  1.57663723 -1.21984237  0.75428892 -0.78495858  0.25943296 -0.33083724\n",
      "  1.52168714 -0.28357212 -0.19179447 -1.9044638  -0.15823659  0.77706952\n",
      " -0.21109113 -0.30759086  0.58017196  1.38901907]\n",
      "[ 0.          1.09052263  1.39560679  0.          0.90283363  0.46289414\n",
      "  0.          0.00479787  1.80926117  0.         -0.84211481  0.42290469\n",
      "  0.          0.2679185  -2.17581516  0.         -0.40460185  1.18598374\n",
      "  0.         -0.03390231  0.62444224  0.          0.40340707 -2.1794012\n",
      "  0.          0.42873057 -1.05748629  0.         -0.86281976  2.44815802\n",
      "  0.          0.21863204  0.93221827  0.          0.73883272  0.46760587\n",
      "  0.          2.30349538  1.24270482  0.         -0.638163   -1.6130635\n",
      "  0.          0.12223064  1.5286738   0.          0.0235318   0.18310045\n",
      "  0.         -0.78127659  1.29825638  0.         -0.53884293  0.18174435\n",
      "  0.          1.08980575  0.69135121  0.          0.29798307  0.57198369\n",
      "  0.         -0.3977972   1.79268106  0.         -1.34854517 -0.84407296\n",
      "  0.         -1.6376285   1.64274147  0.          0.63013343 -0.18735857\n",
      "  0.         -1.30006314  0.17567808  0.         -0.65092631 -1.00011642\n",
      "  0.          1.32954698 -0.75357286  0.          1.09965459  2.14670714\n",
      "  0.         -0.35068033 -1.96333916  0.         -1.32007006 -0.5272024\n",
      "  0.         -0.79095182  0.8216535   0.          0.01560338  0.76961407\n",
      "  0.          0.37494205  0.28350834  0.          0.31565665  2.35784016\n",
      "  0.         -0.91287358  0.5333465   0.         -0.05728503  0.03211118\n",
      "  0.         -0.48941034  0.99257005  0.          0.74004372 -2.56946925\n",
      "  0.          1.19595089  2.27412161  0.         -0.46573514  1.04208296\n",
      "  0.         -1.50447645  0.6114768   0.          0.72704669 -0.18222069\n",
      "  0.          1.57663723 -1.21984237  0.          0.75428892 -0.78495858\n",
      "  0.          0.25943296 -0.33083724  0.          1.52168714 -0.28357212\n",
      "  0.         -0.19179447 -1.9044638   0.         -0.15823659  0.77706952\n",
      "  0.         -0.21109113 -0.30759086  0.          0.58017196  1.38901907]\n",
      "[ 0.          1.09052263  0.          1.39560679  0.          0.90283363\n",
      "  0.          0.46289414  0.          0.00479787  0.          1.80926117\n",
      "  0.         -0.84211481  0.          0.42290469  0.          0.2679185\n",
      "  0.         -2.17581516  0.         -0.40460185  0.          1.18598374\n",
      "  0.         -0.03390231  0.          0.62444224  0.          0.40340707\n",
      "  0.         -2.1794012   0.          0.42873057  0.         -1.05748629\n",
      "  0.         -0.86281976  0.          2.44815802  0.          0.21863204\n",
      "  0.          0.93221827  0.          0.73883272  0.          0.46760587\n",
      "  0.          2.30349538  0.          1.24270482  0.         -0.638163\n",
      "  0.         -1.6130635   0.          0.12223064  0.          1.5286738\n",
      "  0.          0.0235318   0.          0.18310045  0.         -0.78127659\n",
      "  0.          1.29825638  0.         -0.53884293  0.          0.18174435\n",
      "  0.          1.08980575  0.          0.69135121  0.          0.29798307\n",
      "  0.          0.57198369  0.         -0.3977972   0.          1.79268106\n",
      "  0.         -1.34854517  0.         -0.84407296  0.         -1.6376285\n",
      "  0.          1.64274147  0.          0.63013343  0.         -0.18735857\n",
      "  0.         -1.30006314  0.          0.17567808  0.         -0.65092631\n",
      "  0.         -1.00011642  0.          1.32954698  0.         -0.75357286\n",
      "  0.          1.09965459  0.          2.14670714  0.         -0.35068033\n",
      "  0.         -1.96333916  0.         -1.32007006  0.         -0.5272024\n",
      "  0.         -0.79095182  0.          0.8216535   0.          0.01560338\n",
      "  0.          0.76961407  0.          0.37494205  0.          0.28350834\n",
      "  0.          0.31565665  0.          2.35784016  0.         -0.91287358\n",
      "  0.          0.5333465   0.         -0.05728503  0.          0.03211118\n",
      "  0.         -0.48941034  0.          0.99257005  0.          0.74004372\n",
      "  0.         -2.56946925  0.          1.19595089  0.          2.27412161\n",
      "  0.         -0.46573514  0.          1.04208296  0.         -1.50447645\n",
      "  0.          0.6114768   0.          0.72704669  0.         -0.18222069\n",
      "  0.          1.57663723  0.         -1.21984237  0.          0.75428892\n",
      "  0.         -0.78495858  0.          0.25943296  0.         -0.33083724\n",
      "  0.          1.52168714  0.         -0.28357212  0.         -0.19179447\n",
      "  0.         -1.9044638   0.         -0.15823659  0.          0.77706952\n",
      "  0.         -0.21109113  0.         -0.30759086  0.          0.58017196\n",
      "  0.          1.38901907]\n"
     ]
    }
   ],
   "source": [
    "vec = np.random.normal(0, 1, 100)\n",
    "# print(vec)\n",
    "new_vec1 = np.insert(vec, range(0, 100, 2), 0) # Вектор, которому на четные места вставили нули\n",
    "new_vec2 = np.insert(vec, range(100), 0) # Вектор, у которого на четных местах нули\n",
    "# PS: вместо range(0, 100, 2) можно использовать np.arange(0, 100, 2). (Что лучше?)\n",
    "print(vec)\n",
    "print(new_vec1)\n",
    "print(new_vec2)"
   ]
  },
  {
   "cell_type": "markdown",
   "metadata": {},
   "source": [
    "__Задание 5__. Создайте случайный масиив 4х4 из нормального распределения со средним в нуле и произвольной дисперсией и верните индексы положительных элементов (`np.argwhere`)"
   ]
  },
  {
   "cell_type": "code",
   "execution_count": 6,
   "metadata": {},
   "outputs": [
    {
     "name": "stdout",
     "output_type": "stream",
     "text": [
      "[[ 0.44126195 -0.40298317  1.45743459 -0.75612757]\n",
      " [ 2.0516086  -0.30025214 -0.26515998 -1.55811107]\n",
      " [ 0.48888818  0.27559166 -1.19420438  1.23336146]\n",
      " [-1.74981329 -1.87897587  0.41793063 -0.62189026]]\n",
      "[[0 0]\n",
      " [0 2]\n",
      " [1 0]\n",
      " [2 0]\n",
      " [2 1]\n",
      " [2 3]\n",
      " [3 2]]\n"
     ]
    }
   ],
   "source": [
    "matr = np.random.normal(0, 1, 16).reshape((4,4))\n",
    "print(matr)\n",
    "positive_indexes = np.argwhere(matr > 0)\n",
    "print(positive_indexes)"
   ]
  },
  {
   "cell_type": "markdown",
   "metadata": {},
   "source": [
    "__Задание 6__. Создайте матрицу случайных целых чисел от в интервале от 1 до 10 размера 5х5 и посчитайте следующее (сабмодуль `np.linalg`):\n",
    "\n",
    "- определитель матрицы\n",
    "- обратную матрицу\n",
    "- произведение матрицы на саму себя\n",
    "- собственные вектора\n",
    "\n"
   ]
  },
  {
   "cell_type": "code",
   "execution_count": 7,
   "metadata": {
    "scrolled": true
   },
   "outputs": [
    {
     "name": "stdout",
     "output_type": "stream",
     "text": [
      "matrix: \n",
      "[[10  9  5  1  1]\n",
      " [ 7  3  8  2  8]\n",
      " [ 3  3  5  3  8]\n",
      " [10  1  8  1  1]\n",
      " [ 8  9  9  8  1]] \n",
      "\n",
      " determinant 3618.0000000000023 \n",
      " inverse \n",
      " [[ 0.13322278 -0.89800995  0.84273079  0.47678275 -0.16777225]\n",
      " [ 0.05804312  0.45522388 -0.43366501 -0.31094527  0.08043118]\n",
      " [-0.17855169  1.21393035 -1.15644002 -0.49585406  0.21448314]\n",
      " [-0.00276396 -0.95024876  0.9016031   0.41956882 -0.02763958]\n",
      " [ 0.04090658 -0.23631841  0.35627418  0.09038143 -0.09093422]] \n",
      "\n",
      "square: \n",
      "[[196 142 164  52 124]\n",
      " [199 170 187 103 105]\n",
      " [160 126 160  91  78]\n",
      " [149 127 115  45  84]\n",
      " [258 143 230  69 161]]\n",
      "\n",
      "eigenvectors: (array([26.30850937+0.j        , -6.70557299+0.j        ,\n",
      "        1.35324156+2.65502526j,  1.35324156-2.65502526j,\n",
      "       -2.3094195 +0.j        ]), array([[ 0.44046092+0.j        , -0.3329595 +0.j        ,\n",
      "        -0.55529369+0.j        , -0.55529369-0.j        ,\n",
      "         0.36095834+0.j        ],\n",
      "       [ 0.48439984+0.j        ,  0.44646669+0.j        ,\n",
      "         0.28065162-0.15190062j,  0.28065162+0.15190062j,\n",
      "        -0.21680022+0.j        ],\n",
      "       [ 0.38620854+0.j        ,  0.44880369+0.j        ,\n",
      "         0.5246293 -0.11997597j,  0.5246293 +0.11997597j,\n",
      "        -0.67008386+0.j        ],\n",
      "       [ 0.33720258+0.j        , -0.00109786+0.j        ,\n",
      "        -0.40188689+0.33104074j, -0.40188689-0.33104074j,\n",
      "         0.48040386+0.j        ],\n",
      "       [ 0.55541728+0.j        , -0.69884154+0.j        ,\n",
      "         0.05436622+0.16162588j,  0.05436622-0.16162588j,\n",
      "         0.37802976+0.j        ]]))\n"
     ]
    }
   ],
   "source": [
    "matr = np.random.randint(1, 11, 25).reshape((5,5))\n",
    "print( 'matrix: \\n{} \\n\\n determinant {} \\n '\n",
    "      'inverse \\n {} \\n\\n'\n",
    "      'square: \\n{}\\n\\n'\n",
    "       'eigenvectors: {}'.format(matr, np.linalg.det(matr),\n",
    "            np.linalg.inv(matr),\n",
    "            matr.dot(matr),\n",
    "            np.linalg.eig(matr)) )"
   ]
  },
  {
   "cell_type": "markdown",
   "metadata": {},
   "source": [
    "Задания 7-10 необходимо сдать в [Яндекс.контест](https://contest.yandex.ru/contest/16930/problems/) и прикрепить ссылку на решение в формате `https://contest.yandex.ru/contest/xxxxx/run-report/xxxxx/`. Сдавайте задания строго в соответствии с написанной сигнатурой и возвращаемыми типами. Для сдачи необходимо отправить в соответствующую задачу файл, содержащий функции и необходимые импорты. Обратите внимание, что вам доступен только `numpy`. При сдаче выберите компилятор make. __При отсутствии ссылки на решение задание засчитано не будет!__"
   ]
  },
  {
   "cell_type": "markdown",
   "metadata": {},
   "source": [
    "__Задание 7__. Напишите функцию, которая находит сумму квадратов положительных элементов одномерного массива.\n",
    "\n",
    "__Ссылка на посылку в контесте__: https://contest.yandex.ru/contest/16930/run-report/30621657/"
   ]
  },
  {
   "cell_type": "code",
   "execution_count": 8,
   "metadata": {},
   "outputs": [],
   "source": [
    "def get_squares(a: np.ndarray) -> float:\n",
    "    return np.sum(np.square(np.where(a < 0, 0, a)))\n",
    "\n",
    "assert get_squares(np.array([1,-2,3])) == 10\n",
    "\n",
    "# a = np.array([1, -2, 3])\n",
    "# print(np.sum(np.square(np.where(a < 0, 0, a))))\n",
    "\n",
    "# **LINK** `https://contest.yandex.ru/contest/16930/run-report/30621657/`"
   ]
  },
  {
   "cell_type": "markdown",
   "metadata": {},
   "source": [
    "__Задание 8__. Коля -- мастер покера и умеет выигрывать только целые суммы денег от 0 до n - 1. Коля решил сыграть на турнире. На вход подаётся массив `p` размера $n$, где `p[i]` -- вероятность, что Коля выиграет на турнире $i$ рублей ($\\sum_{i=1}^{n}p_i =1$, $p_i \\geqslant 0, \\forall i$). Посчитайте математическое ожидание выигрыша Коли на турнире.\n",
    "\n",
    "\n",
    "__Ссылка на посылку в контесте__: https://contest.yandex.ru/contest/16930/run-report/30621663/"
   ]
  },
  {
   "cell_type": "code",
   "execution_count": 9,
   "metadata": {},
   "outputs": [],
   "source": [
    "def expected_reward(p: np.ndarray) -> float:\n",
    "    return p.dot(np.array(range(len(p))))\n",
    "\n",
    "assert expected_reward(np.array([0.4, 0.5, 0.1])) == 0.7\n",
    "\n",
    "# p = np.array([0.4, 0.5, 0.1])\n",
    "# print(p.dot(np.array(range(len(p)))))\n",
    "\n",
    "# **LINK** `https://contest.yandex.ru/contest/16930/run-report/30621663/`"
   ]
  },
  {
   "cell_type": "markdown",
   "metadata": {},
   "source": [
    "__Задание 9__. Дана квадратная матрица `A`. Посчитайте произведение диагональных элементов матрицы, __строго__ превосходящих среднее значение элементов всей матрицы.\n",
    "\n",
    "__Хинт__: взять диагональ матрицы -- np.diag(), произведение элементов массива -- np.prod(), среднее значение в массиве -- np.mean().\n",
    "\n",
    "__Ссылка на посылку в контесте__: https://contest.yandex.ru/contest/16930/run-report/30720141/"
   ]
  },
  {
   "cell_type": "code",
   "execution_count": 10,
   "metadata": {},
   "outputs": [],
   "source": [
    "def prod_upper_avg_diagonal(a: np.ndarray) -> float:\n",
    "    diag = np.diag(a)\n",
    "    return np.prod( diag[diag > np.mean(a) ] )\n",
    "\n",
    "assert prod_upper_avg_diagonal(np.array([[ 0,  1,  2,  3],\n",
    "                                         [ 4,  5,  6,  7],\n",
    "                                         [ 8,  9, 10, 11],\n",
    "                                         [12, 13, 14, 15]])) == 150\n",
    "\n",
    "# a = np.array([[ 0,  1,  2,  3],\n",
    "#              [ 4,  5,  6,  7],\n",
    "#              [ 8,  9, 10, 11],\n",
    "#              [12, 13, 14, 15]])\n",
    "# diag = np.diag(a)\n",
    "# mean = np.mean(a)\n",
    "# print(diag)\n",
    "# print(mean)\n",
    "# print(np.prod(np.where(diag > mean, diag, 1)))\n",
    "\n",
    "# print(prod_upper_avg_diagonal(a))\n",
    "\n",
    "# **LINK** `https://contest.yandex.ru/contest/16930/run-report/30720141/`"
   ]
  },
  {
   "cell_type": "markdown",
   "metadata": {},
   "source": [
    "__Задание 10__. Дано число $n$. Создайте матрицу $A$ размера $n \\times n$ такую, что $A[i][j] = i \\cdot j$. Нумерация строк и столбцов начинается с нуля.\n",
    "\n",
    "__Ссылка на посылку в контесте:__ https://contest.yandex.ru/contest/16930/run-report/30621681/"
   ]
  },
  {
   "cell_type": "code",
   "execution_count": 11,
   "metadata": {},
   "outputs": [],
   "source": [
    "def create_ij(n: int) -> np.ndarray:\n",
    "    a = np.array(range(n)).reshape(1, -1)\n",
    "    return a.T.dot(a)\n",
    "\n",
    "assert np.all(create_ij(5) == np.array([[ 0,  0,  0,  0,  0],\n",
    "                                        [ 0,  1,  2,  3,  4],\n",
    "                                        [ 0,  2,  4,  6,  8],\n",
    "                                        [ 0,  3,  6,  9, 12],\n",
    "                                        [ 0,  4,  8, 12, 16]]))\n",
    "\n",
    "# print(create_ij(5))\n",
    "\n",
    "# **LINK** `https://contest.yandex.ru/contest/16930/run-report/30621681/`"
   ]
  },
  {
   "cell_type": "markdown",
   "metadata": {},
   "source": [
    "### Part 2. Numpy vs pure python\n",
    "\n",
    "\n",
    "__Задание 11__. (1 балл) Выберите любые 5 функций из заданий 2-10 и имплементируйте их, но без использования сторонних библиотек (считайте, что вам доступны только стандартные библиотеки языка Питон и на вход вместо массивов подаются питоновские списки)."
   ]
  },
  {
   "cell_type": "code",
   "execution_count": 12,
   "metadata": {},
   "outputs": [],
   "source": [
    "import random\n",
    "\n",
    "#1 Task 1\n",
    "def normal_distr(n):\n",
    "    return [random.gauss(0, 1) for _ in range(n)]\n",
    "    \n",
    "def without_negatives(arr):\n",
    "    return [max(x, 0) for x in arr]\n",
    "\n",
    "#2 Task 5\n",
    "def create_gauss_sq_matrix(n):\n",
    "    return [[random.gauss(0, 1) for _ in range(n)] for _ in range(n)]\n",
    "\n",
    "def where_positive(matr):\n",
    "    ans = []\n",
    "    for i in range(len(matr)):\n",
    "        for j in range(len(matr)):\n",
    "            if matr[i][j] > 0:\n",
    "                ans.append([i, j])\n",
    "    return ans\n",
    "# m = create_gauss_sq_matrix(4)\n",
    "# print(m)\n",
    "# print(where_positive(m))\n",
    "\n",
    "#3 Task 7 сумму квадратов положительных элементов одномерного массива.\n",
    "def py_get_squares(arr):\n",
    "    return sum([a*a for a in arr if a > 0])\n",
    "# print(py_get_squares([1,-2,3]))\n",
    "\n",
    "#4 Task 8\n",
    "def py_expected_reward(prob_arr):\n",
    "    ans = 0\n",
    "    for p in range(len(prob_arr)):\n",
    "        ans += p*prob_arr[p]\n",
    "    return ans\n",
    "# print(py_expected_reward([0.4, 0.5, 0.1]))\n",
    "\n",
    "#5 Task 10\n",
    "def py_create_ij(n: int):\n",
    "    arr = []\n",
    "    for i in range(n):\n",
    "        row = []\n",
    "        for j in range(n):\n",
    "            row.append(i*j)\n",
    "        arr.append(row)\n",
    "    return arr\n",
    "# print(py_create_ij(5))"
   ]
  },
  {
   "cell_type": "markdown",
   "metadata": {},
   "source": [
    "__Задание 12__. (3 балла) Сравните время работы векторизованных функций с обычными. Для этого постройте графики зависимости времени исполнения функции от размера входного массива. Перебирайте значения от 1 до $10^6$ по логарифмической шкале. Сделайте выводы.\n",
    "\n",
    "__Графики должны быть опрятными!__. Подписывайте оси, и единицы измерения, указывайте легенду и название графика. Оценка за задание с неопрятными графиками может быть снижена! Сравнение плохого и хорошего графиков:"
   ]
  },
  {
   "cell_type": "code",
   "execution_count": 13,
   "metadata": {},
   "outputs": [],
   "source": [
    "import sys\n",
    "import timeit # https://stackoverflow.com/questions/8220801/how-to-use-timeit-module/29512249\n",
    "import matplotlib.pyplot as plt # для графико\n",
    "plt.ioff()\n",
    "\n",
    "import numpy as np\n",
    "\n",
    "# def compared_plot(legend=''):\n",
    "#     pass\n",
    "\n",
    "def timings_and_plot(pure_py_func, np_func, args_func, title=\"Simple Plot\", \n",
    "                     number=5, low=1, high=6, base=10, samples=13):\n",
    "    '''\n",
    "        pure_py_func -- функция чистого питона, без NP\n",
    "        np_func -- функция NP\n",
    "        args_func -- лямбда функция, которая генерирует входные данные для pure_py_func и np_func\n",
    "                        по сути, функнция-генератор // generation function of input\n",
    "        title -- легенда(название) нашего графика (подПИСЬКА сверху) // забавно, что legend, т.е. легенда графика у matplot это совсем НЕ легенда, а название это легенда [fun facts at 6am]\n",
    "        number -- timeit.timeit(... -->number= <-- ) вот этот номер, \" method with number executions\"\n",
    "                    \"сколько раз выполняется функция\" // https://docs.python.org/3/library/timeit.html\n",
    "        low -- нижнее значение степени base\n",
    "        high -- верхнее значение степени base\n",
    "        base -- \"база\" логарифма\n",
    "        samples -- сколько точек \n",
    "    '''\n",
    "    logspace = np.logspace(low, high, num=samples, base=base) # log space of dots (basicly axis X)\n",
    "    pure_time = [] # timings of Py\n",
    "    numpy_time = [] # timings of NumPy\n",
    "    \n",
    "    for s in logspace:\n",
    "        args = args_func(int(s))\n",
    "        pure_time.append(timeit.timeit(lambda: pure_py_func(*args), number=number) / number)\n",
    "        numpy_time.append(timeit.timeit(lambda: np_func(*args), number=number) / number)\n",
    "        \n",
    "#         print('input: {}\\t np_time: {}\\t, pp_time: {} \\n'.format(s, numpy_time[-1], pure_time[-1]))\n",
    "#         print(s)\n",
    "#         print(logspace)\n",
    "#         print(pure_time)\n",
    "#         print(numpy_time)\n",
    "#         print('\\n')\n",
    "\n",
    "    \n",
    "    normal = plt.gca()\n",
    "    normal.set_title(title)\n",
    "    normal.set_ylabel('time')\n",
    "    normal.set_xlabel('size of input')\n",
    "    normal.plot(logspace, pure_time, label='Pure Python', marker='o')\n",
    "    normal.plot(logspace, numpy_time, label='NumPy', marker='o')\n",
    "    plt.legend()\n",
    "    plt.show()\n",
    "    \n",
    "#     ToDo: https://stackoverflow.com/questions/773814/plot-logarithmic-axes-with-matplotlib-in-python\n",
    "#             Надо подумать как правильно тут логарифм шкалу сделать! \n",
    "    logsized = plt.gca()\n",
    "    logsized.set_title('Log scale')\n",
    "    logsized.set_ylabel('time')\n",
    "    logsized.set_xlabel('size of input')\n",
    "#     logsized.set_yscale('log')\n",
    "    logsized.set_xscale('log')\n",
    "    logsized.plot(logspace, pure_time, label='Pure Python', marker='o')\n",
    "    logsized.plot(logspace, numpy_time, label='NumPy', marker='o')\n",
    "    plt.show()    \n",
    "        "
   ]
  },
  {
   "cell_type": "markdown",
   "metadata": {},
   "source": [
    "__Хинт__: воспользуйтесь библиотекой `time` или мэджиком `%timeit`."
   ]
  },
  {
   "cell_type": "markdown",
   "metadata": {},
   "source": [
    "__Замечание__: Далее будет производиться сравнение быстроты работы функций с использыванием `timings_and_plot(...)`.\n",
    "Для удобства функции будут продублированы, они будут в точности повторять написанные функции в заданиях 2-10.\n",
    "Функции, начинающиеся с `np_` -- это функции, которые написаны с использыванием NumPy, а функции, которые начинаются с `pp_` -- это функции чистого питона, он же PurePython."
   ]
  },
  {
   "cell_type": "code",
   "execution_count": 14,
   "metadata": {},
   "outputs": [
    {
     "data": {
      "image/png": "[encoded data removed]",
      "text/plain": [
       "<Figure size 432x288 with 1 Axes>"
      ]
     },
     "metadata": {
      "needs_background": "light"
     },
     "output_type": "display_data"
    },
    {
     "data": {
      "image/png": "[encoded data removed]",
      "text/plain": [
       "<Figure size 432x288 with 1 Axes>"
      ]
     },
     "metadata": {
      "needs_background": "light"
     },
     "output_type": "display_data"
    }
   ],
   "source": [
    "#             PurePy vs NumPy\n",
    "# Task 0: _Нормальное распределение_\n",
    "# Первым(нулевым) шагом хочется выяснить с помощью чего генерировать случайные числа быстрее\n",
    "\n",
    "import random\n",
    "\n",
    "def np_normal_gaus(n):\n",
    "    return np.random.normal(0, 1, n)\n",
    "\n",
    "def pp_normal_gaus(n):\n",
    "    return [random.gauss(0, 1) for _ in range(n)]\n",
    "\n",
    "timings_and_plot(pp_normal_gaus, np_normal_gaus, lambda n: (n,), title=\"Normal distribution generation\")\n",
    "\n",
    "# Работает за другое О-большое? Но кажется, что работает за другую константу, которая много меньше purepy-const"
   ]
  },
  {
   "cell_type": "markdown",
   "metadata": {},
   "source": [
    "_Вывод 0_: Случаные распределения быстрее генерирует NumPy, в дальнейшем будем его и использовать для данной задачи."
   ]
  },
  {
   "cell_type": "code",
   "execution_count": 15,
   "metadata": {},
   "outputs": [
    {
     "data": {
      "image/png": "[encoded data removed]",
      "text/plain": [
       "<Figure size 432x288 with 1 Axes>"
      ]
     },
     "metadata": {
      "needs_background": "light"
     },
     "output_type": "display_data"
    },
    {
     "data": {
      "image/png": "[encoded data removed]",
      "text/plain": [
       "<Figure size 432x288 with 1 Axes>"
      ]
     },
     "metadata": {
      "needs_background": "light"
     },
     "output_type": "display_data"
    }
   ],
   "source": [
    "#             PurePy vs NumPy\n",
    "# Task 1: _Удаление отрицательных чисел из распределение_\n",
    "# Постановка: на вход подается массив, необходимо вместо отрицательных чисел написать нули.\n",
    "\n",
    "def np_wo_negative(vec):\n",
    "    return np.where(vec < 0, 0, vec)\n",
    "\n",
    "def pp_wo_negative(vec):\n",
    "    return [max(x, 0) for x in vec]\n",
    "\n",
    "timings_and_plot(pp_wo_negative, np_wo_negative, lambda n: (np.random.normal(0, 1, n),),\n",
    "                 title=\"Replacing negative numbers with zero\")\n",
    "\n",
    "# Работает за другое О-большое"
   ]
  },
  {
   "cell_type": "code",
   "execution_count": 16,
   "metadata": {
    "scrolled": false
   },
   "outputs": [
    {
     "data": {
      "image/png": "[encoded data removed]",
      "text/plain": [
       "<Figure size 432x288 with 1 Axes>"
      ]
     },
     "metadata": {
      "needs_background": "light"
     },
     "output_type": "display_data"
    },
    {
     "data": {
      "image/png": "[encoded data removed]",
      "text/plain": [
       "<Figure size 432x288 with 1 Axes>"
      ]
     },
     "metadata": {
      "needs_background": "light"
     },
     "output_type": "display_data"
    }
   ],
   "source": [
    "#             PurePy vs NumPy\n",
    "# Task 2: _Удаление отрицательных чисел из распределение_\n",
    "# Постановка: на вход подается массив, необходимо вместо отрицательных чисел написать нули.\n",
    "\n",
    "def np_positive_indexes(matr):\n",
    "    return np.argwhere(matr > 0)\n",
    "\n",
    "def pp_positive_indexes(matr):\n",
    "    ans = []\n",
    "    for i in range(len(matr)):\n",
    "        for j in range(len(matr)):\n",
    "            if matr[i][j] > 0:\n",
    "                ans.append([i, j])\n",
    "    return ans\n",
    "\n",
    "timings_and_plot(pp_positive_indexes, np_positive_indexes, \n",
    "                 lambda n: (np.random.normal(0, 1, n*n).reshape((n,n)),),\n",
    "                 title=\"Getting positive indexes\", high=3)\n",
    "# O(n^2) => (10^3)^2\n",
    "# Работает за другое О-большое"
   ]
  },
  {
   "cell_type": "code",
   "execution_count": 17,
   "metadata": {},
   "outputs": [
    {
     "data": {
      "image/png": "[encoded data removed]",
      "text/plain": [
       "<Figure size 432x288 with 1 Axes>"
      ]
     },
     "metadata": {
      "needs_background": "light"
     },
     "output_type": "display_data"
    },
    {
     "data": {
      "image/png": "[encoded data removed]",
      "text/plain": [
       "<Figure size 432x288 with 1 Axes>"
      ]
     },
     "metadata": {
      "needs_background": "light"
     },
     "output_type": "display_data"
    }
   ],
   "source": [
    "#             PurePy vs NumPy\n",
    "# Task 3: _Сумма квадратов положительных элементов_\n",
    "# Постановка: на вход подается массив, необходимо взять сумму квадратов всех его положительных элементов.\n",
    "\n",
    "def np_positive_sum(arr):\n",
    "    return np.sum(np.square(np.where(arr < 0, 0, arr)))\n",
    "\n",
    "def pp_positive_sum(arr):\n",
    "    return sum([a*a for a in arr if a > 0])\n",
    "\n",
    "\n",
    "timings_and_plot(pp_positive_sum, np_positive_sum, \n",
    "                 lambda n: (np.random.randint(0, 10**3, n), ),\n",
    "                 title=\"Sum of positive integers in array\")\n",
    "\n",
    "# Работает за другое О-большое"
   ]
  },
  {
   "cell_type": "code",
   "execution_count": 18,
   "metadata": {},
   "outputs": [
    {
     "data": {
      "image/png": "[encoded data removed]",
      "text/plain": [
       "<Figure size 432x288 with 1 Axes>"
      ]
     },
     "metadata": {
      "needs_background": "light"
     },
     "output_type": "display_data"
    },
    {
     "data": {
      "image/png": "[encoded data removed]",
      "text/plain": [
       "<Figure size 432x288 with 1 Axes>"
      ]
     },
     "metadata": {
      "needs_background": "light"
     },
     "output_type": "display_data"
    }
   ],
   "source": [
    "#             PurePy vs NumPy\n",
    "# Task 4: _Математическое ожидание_\n",
    "# Постановка: на вход подается массив вероятностей, необходимо взять сумму его элементов умноженных на индекс, т.е. мат.ожидание.\n",
    "\n",
    "def np_expected_reward(prob_arr):\n",
    "    return prob_arr.dot(np.array(range(len(prob_arr))))\n",
    "\n",
    "def pp_expected_reward(prob_arr):\n",
    "    ans = 0\n",
    "    for p in range(len(prob_arr)):\n",
    "        ans += p*prob_arr[p]\n",
    "    return ans\n",
    "\n",
    "timings_and_plot(pp_expected_reward, np_expected_reward, \n",
    "                 lambda n: (np.random.normal(0, 1, n), ), # тут мог быть бы более умный генератор, который проверял бы что сумма всех вероятностей единица и прочее,\n",
    "                                                          # но нас интересует время работы от длины входа, поэтому можем использовать вот такую глупую\" версию\n",
    "                 title=\"Expected value problem\")\n",
    "\n",
    "# Работает за меньшую константу!"
   ]
  },
  {
   "cell_type": "code",
   "execution_count": 19,
   "metadata": {},
   "outputs": [
    {
     "data": {
      "image/png": "[encoded data removed]",
      "text/plain": [
       "<Figure size 432x288 with 1 Axes>"
      ]
     },
     "metadata": {
      "needs_background": "light"
     },
     "output_type": "display_data"
    },
    {
     "data": {
      "image/png": "[encoded data removed]",
      "text/plain": [
       "<Figure size 432x288 with 1 Axes>"
      ]
     },
     "metadata": {
      "needs_background": "light"
     },
     "output_type": "display_data"
    }
   ],
   "source": [
    "#             PurePy vs NumPy\n",
    "# Task 5: _Создание ij-матрицы_\n",
    "# Постановка: на вход число, необходимо создать матрицу M n*n такую, что M_ij = i*j\n",
    "\n",
    "def np_create_ij(n):\n",
    "    a = np.array(range(n)).reshape(1, -1)\n",
    "    return a.T.dot(a)\n",
    "\n",
    "def pp_create_ij(n):\n",
    "    arr = []\n",
    "    for i in range(n):\n",
    "        row = []\n",
    "        for j in range(n):\n",
    "            row.append(i*j)\n",
    "        arr.append(row)\n",
    "    return arr\n",
    "\n",
    "timings_and_plot(pp_create_ij, np_create_ij, \n",
    "                 lambda n: (n, ),\n",
    "                 title=\"Creating ij matrix\", high=3)\n",
    "\n",
    "# Работает за меньшую константу!"
   ]
  },
  {
   "cell_type": "markdown",
   "metadata": {},
   "source": [
    "__Вывод__: NumPy > PurePy\n",
    " 1. Легко можно видеть, что время работы для \"чистого\" python'а увеличивается линейно от увеличения входа, в то время как у numpy время работы составляет примерно одно и тоже, независимо от длины входа, и, быть может, начинается увеличиваться после $10^6$.\n",
    " 2. Здесь можно увидеть ситуацию аналогичную предыдущему пункту, но в этот раз numpy начинает увеливать время около $10^3$.\n",
    " 3. Ситуация абсолютно аналогичная первой, что в очередной раз подтверждает, что numpy справляется быстрее.\n",
    " 4. Как видно из графика, сложность работы в данном случае у numpy отлична от постоянной, но всё ещё остается быстрее чем чистый питон. То есть, получается, что асимптотика работы у двух подходов примерно одинаковая, но константа работы у numpy меньше, что делает решение задачи быстрее.\n",
    " 5. Очередное подтверждение быстроты numpy на фоне чистого питона. \n",
    "Общий вывод -- __numpy работает быстрее чем чистый python__.\n",
    " \n",
    " \n",
    " \n"
   ]
  },
  {
   "cell_type": "code",
   "execution_count": 20,
   "metadata": {},
   "outputs": [
    {
     "data": {
      "image/png": "[encoded data removed]",
      "text/plain": [
       "<Figure size 432x288 with 1 Axes>"
      ]
     },
     "metadata": {
      "needs_background": "light"
     },
     "output_type": "display_data"
    },
    {
     "data": {
      "image/png": "[encoded data removed]",
      "text/plain": [
       "<Figure size 432x288 with 1 Axes>"
      ]
     },
     "metadata": {
      "needs_background": "light"
     },
     "output_type": "display_data"
    },
    {
     "name": "stdout",
     "output_type": "stream",
     "text": [
      "goin' forward\n"
     ]
    },
    {
     "data": {
      "image/png": "[encoded data removed]",
      "text/plain": [
       "<Figure size 432x288 with 1 Axes>"
      ]
     },
     "metadata": {
      "needs_background": "light"
     },
     "output_type": "display_data"
    },
    {
     "data": {
      "image/png": "[encoded data removed]",
      "text/plain": [
       "<Figure size 432x288 with 1 Axes>"
      ]
     },
     "metadata": {
      "needs_background": "light"
     },
     "output_type": "display_data"
    }
   ],
   "source": [
    "#             PurePy vs NumPy\n",
    "# Task 5.5: _Создание последовательного массива длины n_\n",
    "# Постановка: на вход число, последовательный массив длины n\n",
    "# Замечание: В процессе решения _задания 4_ у меня возник что лучше: использовать range() или np.arrange().\n",
    "# кажется очевидным, что np.arrange лучше, но хочется понять насколько он лучше.\n",
    "\n",
    "\n",
    "timings_and_plot(\n",
    "    lambda m: list(range(m)),\n",
    "    lambda k: np.arange(k),\n",
    "    lambda n: (n, ),\n",
    "    title='Range array generators',\n",
    "    high=6,\n",
    "    number=100,\n",
    "    )\n",
    "\n",
    "# ЧТО? Шок-контент... NumPy создает range дольше!\n",
    "print('goin\\' forward')\n",
    "\n",
    "timings_and_plot(\n",
    "    lambda m: list(range(m)),\n",
    "    lambda k: np.array(range(k)),\n",
    "    lambda n: (n, ),\n",
    "    title='Time for list(array-creation)',\n",
    "    high=6,\n",
    "    number=10,\n",
    "    )"
   ]
  },
  {
   "cell_type": "markdown",
   "metadata": {},
   "source": [
    "### Part 3. Pandas.\n",
    "\n",
    "Задания 13-22 оцениваются в 0.4 баллов.  В заданиях 13-22 запрещается пользоваться циклами `for` и `while` в сдаваемом вами коде. Задания 13-15 также сдаются в контест с компилятором python3.6+numpy+pandas. В конце сдаваемого вами файла должны быть строки\n",
    "```\n",
    "import sys\n",
    "exec(sys.stdin.read())\n",
    "```"
   ]
  },
  {
   "cell_type": "code",
   "execution_count": 21,
   "metadata": {},
   "outputs": [],
   "source": [
    "import pandas as pd"
   ]
  },
  {
   "cell_type": "markdown",
   "metadata": {},
   "source": [
    "__Задание 13__, Дан датафрейм, в котором существует колонка 'email' (строка, длиной не более 255). Напишите функцию, которая в заданном датафрейме заменяет все невалидные email'ы на \"unknown@unknown.com\". Валидным сичтается емэйл, выглядящий как `[name]@[subdomain].[domain]`, где `[name]` -- строка, содержащая латинский буквы, точки и знаки `-` и `_`, `[subdomain]` и `[domain]` -- строки, содержащие только латинские буквы и цифры. Длина строки `[domain]` -- не больше 8 символов.\n",
    "\n",
    "__Хинт__. Вопспользуйтесь методом .apply(), в который передайте функцию для обрабоки одного email'a.\n",
    "\n",
    "\n",
    "__Ссылка на посылку в контесте:__ https://contest.yandex.ru/contest/16930/run-report/30641895/"
   ]
  },
  {
   "cell_type": "code",
   "execution_count": 22,
   "metadata": {},
   "outputs": [],
   "source": [
    "import re\n",
    "\n",
    "def reset_emails(df: pd.DataFrame) -> pd.DataFrame:\n",
    "    df['email'] = df['email'].apply( lambda e: validate(e) )\n",
    "    return df\n",
    "\n",
    "def validate(e):\n",
    "    if bool( re.search('^[\\w\\.\\-]+\\@[a-zA-Z0-9]+\\.[a-zA-Z0-9]{,8}$', e) ):\n",
    "        return e\n",
    "    else:\n",
    "        return \"unknown@unknown.com\"\n",
    "\n",
    "# r'^[\\w\\.\\-]+\\@ [a-zA-Z0-9]+ \\. [a-zA-Z0-9]{,8}$ -- соответсвие регулярному выражению\n",
    "# ^ -- начало\n",
    "# [\\w\\.\\-]+ -- любое из: \\w -- буквы, цифры и _; \\. -- точка; \\- -- черточка. + -- хотяб одно [name]\n",
    "# \\@ -- будет собачка @\n",
    "# [a-zA-Z0-9]+ -- латинские и цифры, хотяб одно [subdomain]\n",
    "# \\. -- точка .\n",
    "# [a-zA-Z0-9]{,8} -- неболее 8 букв или/и цифр [domain]\n",
    "# $ -- конец строки\n",
    "# https://www.geeksforgeeks.org/regular-expression-python-examples-set-1/\n",
    "\n",
    "import sys\n",
    "exec(sys.stdin.read())\n",
    "\n",
    "# df = pd.DataFrame({\n",
    "#     'email': [\n",
    "#         \"qwe@rty.ru\", \"asd@fg.gg\", \"unknown@unknown.com\", \"alex.k-_12\"\n",
    "#     ],\n",
    "#     'income': [5.5, 6.5, 7.2, 8.2]\n",
    "# })\n",
    "# print(\n",
    "#     reset_emails(df)\n",
    "# )\n",
    "# **LINK** `https://contest.yandex.ru/contest/16930/run-report/30641895/`"
   ]
  },
  {
   "cell_type": "markdown",
   "metadata": {},
   "source": [
    "__Задание 14__. Дан датафрейм, в котором существуют колонки `age` (возраст в годах, целое число) и `income` (дробное число). Напишите функцию, которая вернёт средний заработок людей младше 18 лет.\n",
    "\n",
    "__Ссылка на посылку в контесте:__ https://contest.yandex.ru/contest/16930/run-report/30639732/"
   ]
  },
  {
   "cell_type": "code",
   "execution_count": 23,
   "metadata": {},
   "outputs": [],
   "source": [
    "def get_mean_income(df: pd.DataFrame) -> float:\n",
    "    return df[df['age'] < 18]['income'].mean()\n",
    "\n",
    "import sys\n",
    "exec(sys.stdin.read())\n",
    "\n",
    "# df = pd.DataFrame({\n",
    "#     'age': [10, 15, 20, 25, 18, 100],\n",
    "#     'income': [5.5, 6.5, 7.2, 8.2, 8, 1000]\n",
    "# })\n",
    "# print(df[df['age'] < 18]['income'].mean())\n",
    "# print( df[ df['age'] < 18 ].mean()['income'] )\n",
    "# print(get_mean_income(df))\n",
    "# **LINK** `https://contest.yandex.ru/contest/16930/run-report/30639732/`"
   ]
  },
  {
   "cell_type": "markdown",
   "metadata": {},
   "source": [
    "__Задание 15__. Дан датафрейм, в котором существуют колонки 'id' (идентификатор пользователя, целое положительное число), 'age' (возвраст в годах, целое число), 'sex' (пол пользователя, строка, равная либо \"Male\", либо \"Female\", либо \"Other\"), \"favorite_color\" (любимый цвет пользователя, строка длиной не более 255). Найдите число различных любимых цветов у женщин младше 18 лет.\n",
    "\n",
    "__Ссылка на посылку в контесте__: https://contest.yandex.ru/contest/16930/run-report/30640055/"
   ]
  },
  {
   "cell_type": "code",
   "execution_count": 24,
   "metadata": {},
   "outputs": [],
   "source": [
    "def get_fav_color(df: pd.DataFrame) -> int:\n",
    "    return df[\n",
    "         ( df['sex'] == 'Female' ) & ( df['age'] < 18 )\n",
    "    ]['favorite_color'].nunique()\n",
    "\n",
    "import sys\n",
    "exec(sys.stdin.read())\n",
    "\n",
    "# df = pd.DataFrame({\n",
    "#     'id': [10, 15, 20, 25, 18, 100, 11, 5, 21, 35, 28, 110],\n",
    "#     'age': [10, 12, 14, 15, 22, 22, 10, 12, 14, 15, 22, 22],\n",
    "#     'sex': ['Male', 'Female', 'Other', 'Female', 'Female', 'Male', 'Male', 'Female', 'Other', 'Female', 'Female', 'Male'],\n",
    "#     'favorite_color': [5.5, 6.5, 7.2, 8.2, 8, 250, 5.5, 6.5, 7.2, 8.2, 8, 250]\n",
    "# })\n",
    "# print(get_fav_color(df))\n",
    "# **LINK** `https://contest.yandex.ru/contest/16930/run-report/30640055/`"
   ]
  },
  {
   "cell_type": "markdown",
   "metadata": {},
   "source": [
    "### Part 4. EDA with pandas.\n",
    "\n",
    "В этом задании предлагается сделать разведочный анализ данных в датафрейме. \n",
    "\n",
    "Мы будем работать с датасетом русскоязычных твитов. Скачайте данные по ссылке: https://www.dropbox.com/s/ou55qwyhbj1pdav/tweets.csv?dl=1\n",
    "\n",
    "Корпус состоит из 12 столбцов:\n",
    "\n",
    "    – id: уникальный номер сообщения в системе twitter;\n",
    "    – tdate: дата публикации сообщения (твита);\n",
    "    – tmane: имя пользователя, опубликовавшего сообщение;\n",
    "    – ttext:  текст сообщения (твита);\n",
    "    – ttype: поле в котором в дальнейшем будет указано к кому классу относится твит (положительный, отрицательный, нейтральный);\n",
    "    – trep: количество реплаев к данному сообщению. В настоящий момент API твиттера не отдает эту информацию;\n",
    "    – tfav: число сколько раз данное сообщение было добавлено в избранное другими пользователями;\n",
    "    – tstcount: число всех сообщений пользователя в сети twitter;\n",
    "    – tfol: количество фолловеров пользователя (тех людей, которые читают пользователя);\n",
    "    – tfrien: количество друзей пользователя (те люди, которых читает пользователь);\n",
    "    – listcount: количество листов-подписок в которые добавлен твиттер-пользователь.\n"
   ]
  },
  {
   "cell_type": "code",
   "execution_count": 25,
   "metadata": {},
   "outputs": [],
   "source": [
    "# # For linux/google colab users -- download directly from the notebook\n",
    "# ! wget -O tweets.csv https://www.dropbox.com/s/ou55qwyhbj1pdav/tweets.csv?dl=1 "
   ]
  },
  {
   "cell_type": "code",
   "execution_count": 26,
   "metadata": {},
   "outputs": [],
   "source": [
    "df = pd.read_csv(\"data/tweets.csv\")"
   ]
  },
  {
   "cell_type": "code",
   "execution_count": 27,
   "metadata": {},
   "outputs": [
    {
     "data": {
      "text/html": [
       "<div>\n",
       "<style scoped>\n",
       "    .dataframe tbody tr th:only-of-type {\n",
       "        vertical-align: middle;\n",
       "    }\n",
       "\n",
       "    .dataframe tbody tr th {\n",
       "        vertical-align: top;\n",
       "    }\n",
       "\n",
       "    .dataframe thead th {\n",
       "        text-align: right;\n",
       "    }\n",
       "</style>\n",
       "<table border=\"1\" class=\"dataframe\">\n",
       "  <thead>\n",
       "    <tr style=\"text-align: right;\">\n",
       "      <th></th>\n",
       "      <th>id</th>\n",
       "      <th>tdate</th>\n",
       "      <th>tmane</th>\n",
       "      <th>ttext</th>\n",
       "      <th>ttype</th>\n",
       "      <th>trep</th>\n",
       "      <th>tfav</th>\n",
       "      <th>tstcount</th>\n",
       "      <th>tfol</th>\n",
       "      <th>tfrien</th>\n",
       "      <th>listcount</th>\n",
       "    </tr>\n",
       "  </thead>\n",
       "  <tbody>\n",
       "    <tr>\n",
       "      <th>0</th>\n",
       "      <td>410745723928731648</td>\n",
       "      <td>1386764386</td>\n",
       "      <td>chavdaridi</td>\n",
       "      <td>RT @dianochka6464ru: Россия отмочила! Смотреть...</td>\n",
       "      <td>1</td>\n",
       "      <td>0</td>\n",
       "      <td>1</td>\n",
       "      <td>0</td>\n",
       "      <td>285</td>\n",
       "      <td>11</td>\n",
       "      <td>11</td>\n",
       "    </tr>\n",
       "    <tr>\n",
       "      <th>1</th>\n",
       "      <td>409580147185315840</td>\n",
       "      <td>1386486491</td>\n",
       "      <td>pifelanybal</td>\n",
       "      <td>Google сменил алгоритм чексуммы в загребании P...</td>\n",
       "      <td>-1</td>\n",
       "      <td>0</td>\n",
       "      <td>0</td>\n",
       "      <td>0</td>\n",
       "      <td>130</td>\n",
       "      <td>100</td>\n",
       "      <td>86</td>\n",
       "    </tr>\n",
       "    <tr>\n",
       "      <th>2</th>\n",
       "      <td>419794699738570752</td>\n",
       "      <td>1388921830</td>\n",
       "      <td>RomanenkoJulya</td>\n",
       "      <td>мне надо домой, @RomaRudenko1 не отпускает(</td>\n",
       "      <td>-1</td>\n",
       "      <td>0</td>\n",
       "      <td>0</td>\n",
       "      <td>0</td>\n",
       "      <td>730</td>\n",
       "      <td>28</td>\n",
       "      <td>18</td>\n",
       "    </tr>\n",
       "    <tr>\n",
       "      <th>3</th>\n",
       "      <td>410625694087909376</td>\n",
       "      <td>1386735769</td>\n",
       "      <td>VizivayuDyavola</td>\n",
       "      <td>RT @boobear1236969: Линта,я слева:D http://t.c...</td>\n",
       "      <td>1</td>\n",
       "      <td>0</td>\n",
       "      <td>3</td>\n",
       "      <td>0</td>\n",
       "      <td>1959</td>\n",
       "      <td>405</td>\n",
       "      <td>537</td>\n",
       "    </tr>\n",
       "    <tr>\n",
       "      <th>4</th>\n",
       "      <td>410849586635628545</td>\n",
       "      <td>1386789149</td>\n",
       "      <td>Den_Byhovsky</td>\n",
       "      <td>@juliasvirid17 я имел ввиду, что для меня спос...</td>\n",
       "      <td>1</td>\n",
       "      <td>0</td>\n",
       "      <td>0</td>\n",
       "      <td>0</td>\n",
       "      <td>3248</td>\n",
       "      <td>61</td>\n",
       "      <td>48</td>\n",
       "    </tr>\n",
       "  </tbody>\n",
       "</table>\n",
       "</div>"
      ],
      "text/plain": [
       "                   id       tdate            tmane  \\\n",
       "0  410745723928731648  1386764386       chavdaridi   \n",
       "1  409580147185315840  1386486491      pifelanybal   \n",
       "2  419794699738570752  1388921830   RomanenkoJulya   \n",
       "3  410625694087909376  1386735769  VizivayuDyavola   \n",
       "4  410849586635628545  1386789149     Den_Byhovsky   \n",
       "\n",
       "                                               ttext  ttype  trep  tfav  \\\n",
       "0  RT @dianochka6464ru: Россия отмочила! Смотреть...      1     0     1   \n",
       "1  Google сменил алгоритм чексуммы в загребании P...     -1     0     0   \n",
       "2        мне надо домой, @RomaRudenko1 не отпускает(     -1     0     0   \n",
       "3  RT @boobear1236969: Линта,я слева:D http://t.c...      1     0     3   \n",
       "4  @juliasvirid17 я имел ввиду, что для меня спос...      1     0     0   \n",
       "\n",
       "   tstcount  tfol  tfrien  listcount  \n",
       "0         0   285      11         11  \n",
       "1         0   130     100         86  \n",
       "2         0   730      28         18  \n",
       "3         0  1959     405        537  \n",
       "4         0  3248      61         48  "
      ]
     },
     "execution_count": 27,
     "metadata": {},
     "output_type": "execute_result"
    }
   ],
   "source": [
    "df.head()"
   ]
  },
  {
   "cell_type": "markdown",
   "metadata": {},
   "source": [
    "__Задание 16__. Создайте колонку 'tdif', равную разнице числа друзей и числа фолловеров у пользователя."
   ]
  },
  {
   "cell_type": "code",
   "execution_count": 28,
   "metadata": {},
   "outputs": [
    {
     "data": {
      "text/html": [
       "<div>\n",
       "<style scoped>\n",
       "    .dataframe tbody tr th:only-of-type {\n",
       "        vertical-align: middle;\n",
       "    }\n",
       "\n",
       "    .dataframe tbody tr th {\n",
       "        vertical-align: top;\n",
       "    }\n",
       "\n",
       "    .dataframe thead th {\n",
       "        text-align: right;\n",
       "    }\n",
       "</style>\n",
       "<table border=\"1\" class=\"dataframe\">\n",
       "  <thead>\n",
       "    <tr style=\"text-align: right;\">\n",
       "      <th></th>\n",
       "      <th>id</th>\n",
       "      <th>tdate</th>\n",
       "      <th>tmane</th>\n",
       "      <th>ttext</th>\n",
       "      <th>ttype</th>\n",
       "      <th>trep</th>\n",
       "      <th>tfav</th>\n",
       "      <th>tstcount</th>\n",
       "      <th>tfol</th>\n",
       "      <th>tfrien</th>\n",
       "      <th>listcount</th>\n",
       "      <th>tdif</th>\n",
       "    </tr>\n",
       "  </thead>\n",
       "  <tbody>\n",
       "    <tr>\n",
       "      <th>0</th>\n",
       "      <td>410745723928731648</td>\n",
       "      <td>1386764386</td>\n",
       "      <td>chavdaridi</td>\n",
       "      <td>RT @dianochka6464ru: Россия отмочила! Смотреть...</td>\n",
       "      <td>1</td>\n",
       "      <td>0</td>\n",
       "      <td>1</td>\n",
       "      <td>0</td>\n",
       "      <td>285</td>\n",
       "      <td>11</td>\n",
       "      <td>11</td>\n",
       "      <td>274</td>\n",
       "    </tr>\n",
       "    <tr>\n",
       "      <th>1</th>\n",
       "      <td>409580147185315840</td>\n",
       "      <td>1386486491</td>\n",
       "      <td>pifelanybal</td>\n",
       "      <td>Google сменил алгоритм чексуммы в загребании P...</td>\n",
       "      <td>-1</td>\n",
       "      <td>0</td>\n",
       "      <td>0</td>\n",
       "      <td>0</td>\n",
       "      <td>130</td>\n",
       "      <td>100</td>\n",
       "      <td>86</td>\n",
       "      <td>30</td>\n",
       "    </tr>\n",
       "    <tr>\n",
       "      <th>2</th>\n",
       "      <td>419794699738570752</td>\n",
       "      <td>1388921830</td>\n",
       "      <td>RomanenkoJulya</td>\n",
       "      <td>мне надо домой, @RomaRudenko1 не отпускает(</td>\n",
       "      <td>-1</td>\n",
       "      <td>0</td>\n",
       "      <td>0</td>\n",
       "      <td>0</td>\n",
       "      <td>730</td>\n",
       "      <td>28</td>\n",
       "      <td>18</td>\n",
       "      <td>702</td>\n",
       "    </tr>\n",
       "    <tr>\n",
       "      <th>3</th>\n",
       "      <td>410625694087909376</td>\n",
       "      <td>1386735769</td>\n",
       "      <td>VizivayuDyavola</td>\n",
       "      <td>RT @boobear1236969: Линта,я слева:D http://t.c...</td>\n",
       "      <td>1</td>\n",
       "      <td>0</td>\n",
       "      <td>3</td>\n",
       "      <td>0</td>\n",
       "      <td>1959</td>\n",
       "      <td>405</td>\n",
       "      <td>537</td>\n",
       "      <td>1554</td>\n",
       "    </tr>\n",
       "    <tr>\n",
       "      <th>4</th>\n",
       "      <td>410849586635628545</td>\n",
       "      <td>1386789149</td>\n",
       "      <td>Den_Byhovsky</td>\n",
       "      <td>@juliasvirid17 я имел ввиду, что для меня спос...</td>\n",
       "      <td>1</td>\n",
       "      <td>0</td>\n",
       "      <td>0</td>\n",
       "      <td>0</td>\n",
       "      <td>3248</td>\n",
       "      <td>61</td>\n",
       "      <td>48</td>\n",
       "      <td>3187</td>\n",
       "    </tr>\n",
       "  </tbody>\n",
       "</table>\n",
       "</div>"
      ],
      "text/plain": [
       "                   id       tdate            tmane  \\\n",
       "0  410745723928731648  1386764386       chavdaridi   \n",
       "1  409580147185315840  1386486491      pifelanybal   \n",
       "2  419794699738570752  1388921830   RomanenkoJulya   \n",
       "3  410625694087909376  1386735769  VizivayuDyavola   \n",
       "4  410849586635628545  1386789149     Den_Byhovsky   \n",
       "\n",
       "                                               ttext  ttype  trep  tfav  \\\n",
       "0  RT @dianochka6464ru: Россия отмочила! Смотреть...      1     0     1   \n",
       "1  Google сменил алгоритм чексуммы в загребании P...     -1     0     0   \n",
       "2        мне надо домой, @RomaRudenko1 не отпускает(     -1     0     0   \n",
       "3  RT @boobear1236969: Линта,я слева:D http://t.c...      1     0     3   \n",
       "4  @juliasvirid17 я имел ввиду, что для меня спос...      1     0     0   \n",
       "\n",
       "   tstcount  tfol  tfrien  listcount  tdif  \n",
       "0         0   285      11         11   274  \n",
       "1         0   130     100         86    30  \n",
       "2         0   730      28         18   702  \n",
       "3         0  1959     405        537  1554  \n",
       "4         0  3248      61         48  3187  "
      ]
     },
     "execution_count": 28,
     "metadata": {},
     "output_type": "execute_result"
    }
   ],
   "source": [
    "df['tdif'] = df['tfol'] - df['tfrien']\n",
    "df.head()"
   ]
  },
  {
   "cell_type": "markdown",
   "metadata": {},
   "source": [
    "__Задание 16__. Создайте датафрейм, в котором остались только строки с чётными номерами, и пронумеруйте их начиная с 0."
   ]
  },
  {
   "cell_type": "code",
   "execution_count": 29,
   "metadata": {},
   "outputs": [
    {
     "data": {
      "text/html": [
       "<div>\n",
       "<style scoped>\n",
       "    .dataframe tbody tr th:only-of-type {\n",
       "        vertical-align: middle;\n",
       "    }\n",
       "\n",
       "    .dataframe tbody tr th {\n",
       "        vertical-align: top;\n",
       "    }\n",
       "\n",
       "    .dataframe thead th {\n",
       "        text-align: right;\n",
       "    }\n",
       "</style>\n",
       "<table border=\"1\" class=\"dataframe\">\n",
       "  <thead>\n",
       "    <tr style=\"text-align: right;\">\n",
       "      <th></th>\n",
       "      <th>old_index</th>\n",
       "      <th>id</th>\n",
       "      <th>tdate</th>\n",
       "      <th>tmane</th>\n",
       "      <th>ttext</th>\n",
       "      <th>ttype</th>\n",
       "      <th>trep</th>\n",
       "      <th>tfav</th>\n",
       "      <th>tstcount</th>\n",
       "      <th>tfol</th>\n",
       "      <th>tfrien</th>\n",
       "      <th>listcount</th>\n",
       "      <th>tdif</th>\n",
       "    </tr>\n",
       "  </thead>\n",
       "  <tbody>\n",
       "    <tr>\n",
       "      <th>0</th>\n",
       "      <td>0</td>\n",
       "      <td>410745723928731648</td>\n",
       "      <td>1386764386</td>\n",
       "      <td>chavdaridi</td>\n",
       "      <td>RT @dianochka6464ru: Россия отмочила! Смотреть...</td>\n",
       "      <td>1</td>\n",
       "      <td>0</td>\n",
       "      <td>1</td>\n",
       "      <td>0</td>\n",
       "      <td>285</td>\n",
       "      <td>11</td>\n",
       "      <td>11</td>\n",
       "      <td>274</td>\n",
       "    </tr>\n",
       "    <tr>\n",
       "      <th>1</th>\n",
       "      <td>2</td>\n",
       "      <td>419794699738570752</td>\n",
       "      <td>1388921830</td>\n",
       "      <td>RomanenkoJulya</td>\n",
       "      <td>мне надо домой, @RomaRudenko1 не отпускает(</td>\n",
       "      <td>-1</td>\n",
       "      <td>0</td>\n",
       "      <td>0</td>\n",
       "      <td>0</td>\n",
       "      <td>730</td>\n",
       "      <td>28</td>\n",
       "      <td>18</td>\n",
       "      <td>702</td>\n",
       "    </tr>\n",
       "    <tr>\n",
       "      <th>2</th>\n",
       "      <td>4</td>\n",
       "      <td>410849586635628545</td>\n",
       "      <td>1386789149</td>\n",
       "      <td>Den_Byhovsky</td>\n",
       "      <td>@juliasvirid17 я имел ввиду, что для меня спос...</td>\n",
       "      <td>1</td>\n",
       "      <td>0</td>\n",
       "      <td>0</td>\n",
       "      <td>0</td>\n",
       "      <td>3248</td>\n",
       "      <td>61</td>\n",
       "      <td>48</td>\n",
       "      <td>3187</td>\n",
       "    </tr>\n",
       "    <tr>\n",
       "      <th>3</th>\n",
       "      <td>6</td>\n",
       "      <td>415545552320077824</td>\n",
       "      <td>1387908754</td>\n",
       "      <td>VitaVita52</td>\n",
       "      <td>Было неожиданно,все попадали на концерте,никог...</td>\n",
       "      <td>-1</td>\n",
       "      <td>0</td>\n",
       "      <td>0</td>\n",
       "      <td>0</td>\n",
       "      <td>461</td>\n",
       "      <td>16</td>\n",
       "      <td>19</td>\n",
       "      <td>445</td>\n",
       "    </tr>\n",
       "    <tr>\n",
       "      <th>4</th>\n",
       "      <td>8</td>\n",
       "      <td>413821842823348224</td>\n",
       "      <td>1387497790</td>\n",
       "      <td>wyhuzezyg</td>\n",
       "      <td>RT @yvysogoga: мда. центос это стабильность......</td>\n",
       "      <td>-1</td>\n",
       "      <td>0</td>\n",
       "      <td>3</td>\n",
       "      <td>0</td>\n",
       "      <td>641</td>\n",
       "      <td>385</td>\n",
       "      <td>386</td>\n",
       "      <td>256</td>\n",
       "    </tr>\n",
       "  </tbody>\n",
       "</table>\n",
       "</div>"
      ],
      "text/plain": [
       "   old_index                  id       tdate           tmane  \\\n",
       "0          0  410745723928731648  1386764386      chavdaridi   \n",
       "1          2  419794699738570752  1388921830  RomanenkoJulya   \n",
       "2          4  410849586635628545  1386789149    Den_Byhovsky   \n",
       "3          6  415545552320077824  1387908754      VitaVita52   \n",
       "4          8  413821842823348224  1387497790       wyhuzezyg   \n",
       "\n",
       "                                               ttext  ttype  trep  tfav  \\\n",
       "0  RT @dianochka6464ru: Россия отмочила! Смотреть...      1     0     1   \n",
       "1        мне надо домой, @RomaRudenko1 не отпускает(     -1     0     0   \n",
       "2  @juliasvirid17 я имел ввиду, что для меня спос...      1     0     0   \n",
       "3  Было неожиданно,все попадали на концерте,никог...     -1     0     0   \n",
       "4  RT @yvysogoga: мда. центос это стабильность......     -1     0     3   \n",
       "\n",
       "   tstcount  tfol  tfrien  listcount  tdif  \n",
       "0         0   285      11         11   274  \n",
       "1         0   730      28         18   702  \n",
       "2         0  3248      61         48  3187  \n",
       "3         0   461      16         19   445  \n",
       "4         0   641     385        386   256  "
      ]
     },
     "execution_count": 29,
     "metadata": {},
     "output_type": "execute_result"
    }
   ],
   "source": [
    "evendf = df[::2].reset_index().rename( columns={'index':'old_index'} )\n",
    "evendf.head()\n",
    "# .rename (нужно лишь для себя, чтоб увидеть, что индексы действительно только четные взялись)\n",
    "# если что уберём с помощью .drop"
   ]
  },
  {
   "cell_type": "markdown",
   "metadata": {},
   "source": [
    "__Задание 17__. Создайте датафрейм, в котором остались лишь твиты положительной тональности."
   ]
  },
  {
   "cell_type": "code",
   "execution_count": 30,
   "metadata": {},
   "outputs": [
    {
     "data": {
      "text/html": [
       "<div>\n",
       "<style scoped>\n",
       "    .dataframe tbody tr th:only-of-type {\n",
       "        vertical-align: middle;\n",
       "    }\n",
       "\n",
       "    .dataframe tbody tr th {\n",
       "        vertical-align: top;\n",
       "    }\n",
       "\n",
       "    .dataframe thead th {\n",
       "        text-align: right;\n",
       "    }\n",
       "</style>\n",
       "<table border=\"1\" class=\"dataframe\">\n",
       "  <thead>\n",
       "    <tr style=\"text-align: right;\">\n",
       "      <th></th>\n",
       "      <th>id</th>\n",
       "      <th>tdate</th>\n",
       "      <th>tmane</th>\n",
       "      <th>ttext</th>\n",
       "      <th>ttype</th>\n",
       "      <th>trep</th>\n",
       "      <th>tfav</th>\n",
       "      <th>tstcount</th>\n",
       "      <th>tfol</th>\n",
       "      <th>tfrien</th>\n",
       "      <th>listcount</th>\n",
       "      <th>tdif</th>\n",
       "    </tr>\n",
       "  </thead>\n",
       "  <tbody>\n",
       "    <tr>\n",
       "      <th>0</th>\n",
       "      <td>410745723928731648</td>\n",
       "      <td>1386764386</td>\n",
       "      <td>chavdaridi</td>\n",
       "      <td>RT @dianochka6464ru: Россия отмочила! Смотреть...</td>\n",
       "      <td>1</td>\n",
       "      <td>0</td>\n",
       "      <td>1</td>\n",
       "      <td>0</td>\n",
       "      <td>285</td>\n",
       "      <td>11</td>\n",
       "      <td>11</td>\n",
       "      <td>274</td>\n",
       "    </tr>\n",
       "    <tr>\n",
       "      <th>3</th>\n",
       "      <td>410625694087909376</td>\n",
       "      <td>1386735769</td>\n",
       "      <td>VizivayuDyavola</td>\n",
       "      <td>RT @boobear1236969: Линта,я слева:D http://t.c...</td>\n",
       "      <td>1</td>\n",
       "      <td>0</td>\n",
       "      <td>3</td>\n",
       "      <td>0</td>\n",
       "      <td>1959</td>\n",
       "      <td>405</td>\n",
       "      <td>537</td>\n",
       "      <td>1554</td>\n",
       "    </tr>\n",
       "    <tr>\n",
       "      <th>4</th>\n",
       "      <td>410849586635628545</td>\n",
       "      <td>1386789149</td>\n",
       "      <td>Den_Byhovsky</td>\n",
       "      <td>@juliasvirid17 я имел ввиду, что для меня спос...</td>\n",
       "      <td>1</td>\n",
       "      <td>0</td>\n",
       "      <td>0</td>\n",
       "      <td>0</td>\n",
       "      <td>3248</td>\n",
       "      <td>61</td>\n",
       "      <td>48</td>\n",
       "      <td>3187</td>\n",
       "    </tr>\n",
       "    <tr>\n",
       "      <th>15</th>\n",
       "      <td>411098495815131136</td>\n",
       "      <td>1386848494</td>\n",
       "      <td>KlimMasha</td>\n",
       "      <td>как всегда круто посидели на химии:) http://t....</td>\n",
       "      <td>1</td>\n",
       "      <td>0</td>\n",
       "      <td>0</td>\n",
       "      <td>0</td>\n",
       "      <td>583</td>\n",
       "      <td>22</td>\n",
       "      <td>37</td>\n",
       "      <td>561</td>\n",
       "    </tr>\n",
       "    <tr>\n",
       "      <th>17</th>\n",
       "      <td>410406761066405888</td>\n",
       "      <td>1386683571</td>\n",
       "      <td>Alexandrovna_07</td>\n",
       "      <td>Сегодняшнее творение ,больше половины уже нет ...</td>\n",
       "      <td>1</td>\n",
       "      <td>0</td>\n",
       "      <td>0</td>\n",
       "      <td>0</td>\n",
       "      <td>1155</td>\n",
       "      <td>24</td>\n",
       "      <td>20</td>\n",
       "      <td>1131</td>\n",
       "    </tr>\n",
       "  </tbody>\n",
       "</table>\n",
       "</div>"
      ],
      "text/plain": [
       "                    id       tdate            tmane  \\\n",
       "0   410745723928731648  1386764386       chavdaridi   \n",
       "3   410625694087909376  1386735769  VizivayuDyavola   \n",
       "4   410849586635628545  1386789149     Den_Byhovsky   \n",
       "15  411098495815131136  1386848494        KlimMasha   \n",
       "17  410406761066405888  1386683571  Alexandrovna_07   \n",
       "\n",
       "                                                ttext  ttype  trep  tfav  \\\n",
       "0   RT @dianochka6464ru: Россия отмочила! Смотреть...      1     0     1   \n",
       "3   RT @boobear1236969: Линта,я слева:D http://t.c...      1     0     3   \n",
       "4   @juliasvirid17 я имел ввиду, что для меня спос...      1     0     0   \n",
       "15  как всегда круто посидели на химии:) http://t....      1     0     0   \n",
       "17  Сегодняшнее творение ,больше половины уже нет ...      1     0     0   \n",
       "\n",
       "    tstcount  tfol  tfrien  listcount  tdif  \n",
       "0          0   285      11         11   274  \n",
       "3          0  1959     405        537  1554  \n",
       "4          0  3248      61         48  3187  \n",
       "15         0   583      22         37   561  \n",
       "17         0  1155      24         20  1131  "
      ]
     },
     "execution_count": 30,
     "metadata": {},
     "output_type": "execute_result"
    }
   ],
   "source": [
    "df_positive = df[ df['ttype'] > 0]\n",
    "df_positive.head()"
   ]
  },
  {
   "cell_type": "markdown",
   "metadata": {},
   "source": [
    "__Задание 18__. Посчитайте число уникальных пользователей (пользователей с различными tmane).\n",
    "\n",
    "__Хинт__: воспользуйтесь np.unique."
   ]
  },
  {
   "cell_type": "code",
   "execution_count": 31,
   "metadata": {},
   "outputs": [
    {
     "name": "stdout",
     "output_type": "stream",
     "text": [
      "139658\n"
     ]
    }
   ],
   "source": [
    "count_unique_users = df['tmane'].nunique()\n",
    "print(count_unique_users)"
   ]
  },
  {
   "cell_type": "markdown",
   "metadata": {},
   "source": [
    "__Задание 19__. Посчитайте основные статистики по числу подписчиков при помощи метода .describe(). Постройте гистограмму значений признака."
   ]
  },
  {
   "cell_type": "code",
   "execution_count": 32,
   "metadata": {
    "scrolled": false
   },
   "outputs": [
    {
     "name": "stdout",
     "output_type": "stream",
     "text": [
      "count    1.396580e+05\n",
      "mean     4.630246e+03\n",
      "std      1.082876e+04\n",
      "min      0.000000e+00\n",
      "25%      3.250000e+02\n",
      "50%      1.235000e+03\n",
      "75%      4.443000e+03\n",
      "max      1.138639e+06\n",
      "Name: tfol, dtype: float64\n"
     ]
    },
    {
     "data": {
      "image/png": "[encoded data removed]",
      "text/plain": [
       "<Figure size 432x288 with 1 Axes>"
      ]
     },
     "metadata": {
      "needs_background": "light"
     },
     "output_type": "display_data"
    },
    {
     "data": {
      "image/png": "[encoded data removed]",
      "text/plain": [
       "<Figure size 432x288 with 1 Axes>"
      ]
     },
     "metadata": {
      "needs_background": "light"
     },
     "output_type": "display_data"
    }
   ],
   "source": [
    "df_grouped = df[['tmane', 'tfol']].groupby('tmane').max().copy() \n",
    "# Убирает ситуацию с повторяющимся подсчетом от человека, который написал несколько твитов\n",
    "# Без этого было бы, что если 'username'  c 10 подписичиками написал 100к твитов, то его несколько раз учитывает\n",
    "descr = df_grouped['tfol'].describe()\n",
    "\n",
    "print(descr)\n",
    "\n",
    "ax = plt.gca()\n",
    "ax.set_title('Распределение количества подписчиков')\n",
    "ax.set_xlabel('Количество подписчиков на аккаунте')\n",
    "df_grouped['tfol'].hist(\n",
    "    bins=int(descr['count']//descr['mean']*4), \n",
    "    range=(descr['min'], descr['max']),\n",
    "#     column='tfol',\n",
    "    ax=ax\n",
    ")\n",
    "plt.show()\n",
    "\n",
    "ax2 = plt.gca()\n",
    "ax2.set_title('Распределение количества подписчиков 75% от всех')\n",
    "ax2.set_xlabel('Количество подписчиков на аккаунте 75% от всех')\n",
    "df_grouped['tfol'].hist(\n",
    "    bins=int(descr['count']//descr['mean']), \n",
    "    range=(descr['min'], descr['75%']),\n",
    "#     column='tfol',\n",
    "    ax=ax2\n",
    ")\n",
    "plt.show()"
   ]
  },
  {
   "cell_type": "markdown",
   "metadata": {},
   "source": [
    "__Задание 20__. Посчитайте число ретвитов в датасете (твитов, начинающихся с \"RT @\")."
   ]
  },
  {
   "cell_type": "code",
   "execution_count": 33,
   "metadata": {},
   "outputs": [
    {
     "name": "stdout",
     "output_type": "stream",
     "text": [
      "36462\n"
     ]
    }
   ],
   "source": [
    "df_retweets = df[ df['ttext'].str.startswith('RT @', na=False) ] # All retweets (более объемлимо чем просто число ретвитов!)\n",
    "print(len(df_retweets))"
   ]
  },
  {
   "cell_type": "markdown",
   "metadata": {},
   "source": [
    "__Задание 21__. Назовём длинным такой твит, что его длина больше, чем не менее 80% всех твитов. Найдите число длинных твитов."
   ]
  },
  {
   "cell_type": "code",
   "execution_count": 34,
   "metadata": {},
   "outputs": [
    {
     "name": "stdout",
     "output_type": "stream",
     "text": [
      "45081\n"
     ]
    }
   ],
   "source": [
    "q_len = df['ttext'].apply(len).quantile(q=0.8)\n",
    "df_longtweets = df[ df['ttext'].apply(len) > q_len ]\n",
    "print(len(df_longtweets))"
   ]
  },
  {
   "cell_type": "markdown",
   "metadata": {},
   "source": [
    "__Задание 22__. Постройте гистограмму распределения числа твитов по месяцам. В какой месяц какого года было опубликовано больше всего твитов?\n",
    "\n",
    "__Хинт__: Время в колонке tdate -- это Unix time, и оно отображает то, сколько секунд прошло с 00:00:00 1 января 1970 года. Для конвертации этого времени в удобный формат воспользуйтесь библиотекой `datetime`."
   ]
  },
  {
   "cell_type": "code",
   "execution_count": 36,
   "metadata": {},
   "outputs": [
    {
     "data": {
      "image/png": "[encoded data removed]",
      "text/plain": [
       "<Figure size 1080x288 with 1 Axes>"
      ]
     },
     "metadata": {
      "needs_background": "light"
     },
     "output_type": "display_data"
    }
   ],
   "source": [
    "import matplotlib.dates as mdates\n",
    "\n",
    "date_df = df[['tdate']].copy()\n",
    "date_df['date'] = pd.to_datetime(date_df['tdate'], unit='s').dt.normalize()\n",
    "date_df['date'] = date_df['date'].astype(\"datetime64\")\n",
    "\n",
    "#plot data\n",
    "fig, ax = plt.subplots(figsize=(15,4))\n",
    "fig.autofmt_xdate()\n",
    "ax.xaxis.set_major_locator(mdates.DayLocator(interval=2))\n",
    "ax.xaxis.set_major_formatter(mdates.DateFormatter('%d %b %Y'))\n",
    "ax.set_title('Количество твиттов по дням')\n",
    "ax.set_xlabel('Календарная дата')\n",
    "date_df['date'].hist(ax=ax, bins=(date_df['date'].max() - date_df['date'].min()).days)\n",
    "\n",
    "plt.show()\n",
    "\n",
    "# https://stackoverflow.com/questions/38228995/how-can-i-draw-the-histogram-of-date-values-group-by-month-in-each-year-in-pytho\n",
    "# https://scentellegher.github.io/programming/2017/05/24/pandas-bar-plot-with-formatted-dates.html"
   ]
  },
  {
   "cell_type": "markdown",
   "metadata": {},
   "source": [
    "__Вывод__: Из распределения выше можно понять несколько вещей, а также попробовать их объяснить.\n",
    "1) Во-первых, отвечая на вопрос задания, больше всего твиттов было опубликовано в декабре месяце.\n",
    "2) Во-вторых, как мы видимо пик пришелся на первую половину декабря.\n",
    "Это можно объяснить тем, что именно в то время [_начался Майдан_](https://censor.net.ua/photo_news/316008/11_dekabrya_2013_goda_osobennaya_data_v_tu_noch_mayidan_vstal_na_put_borby_i_stalo_yasno_chto_pobeda), а т.к. данная выборка по ру-твиттеру, очевидно, что именно в тот момент времени пользователи были наиболее активны.\n",
    "3) В-третьих, Новый год (т.е. 1ое января), ровно как и рождество (26 декабря или 6 января) не вызывает ажиотажа, который можно было бы предположить\n",
    "\n",
    "PS: Можно попробовать выкинуть первую половину декабря и попробовать соотнести количество твиттов с [событиями декабря-января](https://ru.wikipedia.org/wiki/Декабрь_2013_года), но проделывать такой анализ в 2к20, мне кажется, нерелевантным.\n",
    "\n",
    "Наиболее интересное явление на данном графике -- корреляция событий начала декабря и политических событий, на фоне всего остального."
   ]
  },
  {
   "cell_type": "markdown",
   "metadata": {},
   "source": [
    "__Задание 23__. Вставьте ниже смешную картинку, желательно про машинное обучение. Лучшие картинки мы наградим бонусными баллами (но это не точно).\n",
    "\n",
    "   ![The meme](https://i.imgur.com/BE3w9mu.jpg)\n",
    "\n",
    "\n",
    "( мемы про PyTorch не завезли :с )"
   ]
  },
  {
   "cell_type": "markdown",
   "metadata": {},
   "source": [
    "__Задание 999__. Напишите ниже, чего вы ждёте от курса, какой формат лекций и семинаров вам более интересен, в какие дни хотели бы поставить семинары, темы, которые хотели бы изучить, промежуточный фидбек (при наличии), а также произвольные пожелания и предложения. Мы постараемся всё это учесть.\n"
   ]
  }
 ],
 "metadata": {
  "kernelspec": {
   "display_name": "Python 3",
   "language": "python",
   "name": "python3"
  },
  "language_info": {
   "codemirror_mode": {
    "name": "ipython",
    "version": 3
   },
   "file_extension": ".py",
   "mimetype": "text/x-python",
   "name": "python",
   "nbconvert_exporter": "python",
   "pygments_lexer": "ipython3",
   "version": "3.7.3"
  }
 },
 "nbformat": 4,
 "nbformat_minor": 2
}
