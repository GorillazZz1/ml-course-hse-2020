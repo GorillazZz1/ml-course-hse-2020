{
 "cells": [
  {
   "cell_type": "markdown",
   "metadata": {},
   "source": [
    "# Машинное обучение на матфаке, 2019/2020 уч. год.\n",
    "\n",
    "## Домашнее задание 1 -- numpy, pandas, matplotlib.\n",
    "\n",
    "В этом домашнем задании вам предстоит закрепить навыки работы с важнейшими для data science библиотеками -- numpy, pandas и matplotlib.\n",
    "\n",
    "Правила оценивания на вики-странице. Часть заданий необходимо сдать в [Яндекс.контест](https://contest.yandex.ru/contest/16930/problems/)"
   ]
  },
  {
   "cell_type": "code",
   "execution_count": 1,
   "metadata": {},
   "outputs": [],
   "source": [
    "import numpy as np"
   ]
  },
  {
   "cell_type": "markdown",
   "metadata": {},
   "source": [
    "### Part 1. numpy\n",
    "\n",
    "Задания 1-10 оцениваются в 0.4 баллов."
   ]
  },
  {
   "cell_type": "markdown",
   "metadata": {},
   "source": [
    "__Задание 1__. Создайте несколько одномерных массивов размера $10^n$ для n от 1 до 6. из случайных чисел при помощи модуля `np.random`. Заполните их независимыми случайными величинами из нормального распределения с матожиданием 5 и дисперсией 10. "
   ]
  },
  {
   "cell_type": "code",
   "execution_count": 2,
   "metadata": {},
   "outputs": [],
   "source": [
    "arr = [np.random.normal(5, 10, size=10**(i+1)) for i in range(0,6)]\n",
    "# print(arr[5])"
   ]
  },
  {
   "cell_type": "markdown",
   "metadata": {},
   "source": [
    "В заданиях 2-10 запрещается использование циклов `for` и `while` в сдаваемом вами коде. "
   ]
  },
  {
   "cell_type": "markdown",
   "metadata": {},
   "source": [
    "__Задание 2__. Сгенерируйте случайный вектор (одномерный массив) из нормального распределения со средним в нуле и произвольной дисперсией. С помощью `np.where` замените в созданном массиве все отрицательные элементы на нули."
   ]
  },
  {
   "cell_type": "code",
   "execution_count": 3,
   "metadata": {},
   "outputs": [
    {
     "name": "stdout",
     "output_type": "stream",
     "text": [
      "[-9.91905941e-01  8.58281563e-01  8.67836954e-01  2.18915614e-01\n",
      " -7.30817930e-01 -2.11535176e-01 -1.84391711e-01  5.98273187e-01\n",
      " -1.19870547e-02 -1.20295032e+00 -1.79850975e-01  2.54476205e-01\n",
      " -4.74863154e-01 -2.36771166e-01  3.78749638e-01  1.27461138e+00\n",
      "  1.29943701e-01  1.33425680e-01 -3.81946246e-01  2.33861600e+00\n",
      "  5.62539173e-02 -3.25329836e-01 -4.76384414e-02  7.29652845e-01\n",
      "  7.24318690e-02  4.89215117e-01  2.33835899e-01  8.25873147e-01\n",
      " -3.15487941e-01 -2.90395223e-01 -8.69660122e-01 -1.28453990e+00\n",
      "  8.71922949e-01 -7.61467401e-01  3.91647310e-01 -4.20632357e-01\n",
      "  9.59334804e-01 -8.01945340e-01  4.61630930e-01  6.86486288e-01\n",
      "  6.61455979e-01 -3.44905194e-01 -5.51389638e-01  6.47096531e-02\n",
      " -1.40889992e+00  8.89160596e-01  6.70599713e-01  5.57733714e-01\n",
      " -1.36914189e+00 -1.29713062e+00  1.16067609e-01  6.70804515e-01\n",
      " -1.72815161e-01  4.91007025e-01 -3.65326186e-01  1.48382512e+00\n",
      "  2.31305830e-01 -6.00463630e-01 -2.55492943e+00  1.12397475e+00\n",
      "  4.21422800e-02 -4.33905789e-01 -2.34388002e-01 -9.89243996e-01\n",
      " -5.16515059e-01 -1.18184538e+00 -2.19250125e+00 -9.44986418e-01\n",
      "  7.29600419e-01  6.32002327e-01  8.69360196e-01 -1.73288150e-01\n",
      " -1.54110798e+00  1.33387642e+00 -1.93044589e-01  5.16486259e-01\n",
      " -6.18530493e-01  6.66619824e-01 -1.71162194e-01 -5.93924010e-01\n",
      " -1.57637956e+00 -7.31503347e-01  1.80310131e+00 -8.54041695e-01\n",
      "  1.37094244e+00  6.59237885e-01 -5.98295129e-01  8.28488405e-01\n",
      "  5.54251469e-01  5.44637314e-01  1.01944749e+00 -4.65012729e-01\n",
      " -2.07435678e-01 -1.53985725e+00 -1.55390123e-03 -1.31769728e+00\n",
      "  8.84778094e-01 -7.93620349e-01  7.37532239e-01  3.96985597e-01]\n",
      "[0.         0.85828156 0.86783695 0.21891561 0.         0.\n",
      " 0.         0.59827319 0.         0.         0.         0.25447621\n",
      " 0.         0.         0.37874964 1.27461138 0.1299437  0.13342568\n",
      " 0.         2.338616   0.05625392 0.         0.         0.72965285\n",
      " 0.07243187 0.48921512 0.2338359  0.82587315 0.         0.\n",
      " 0.         0.         0.87192295 0.         0.39164731 0.\n",
      " 0.9593348  0.         0.46163093 0.68648629 0.66145598 0.\n",
      " 0.         0.06470965 0.         0.8891606  0.67059971 0.55773371\n",
      " 0.         0.         0.11606761 0.67080451 0.         0.49100703\n",
      " 0.         1.48382512 0.23130583 0.         0.         1.12397475\n",
      " 0.04214228 0.         0.         0.         0.         0.\n",
      " 0.         0.         0.72960042 0.63200233 0.8693602  0.\n",
      " 0.         1.33387642 0.         0.51648626 0.         0.66661982\n",
      " 0.         0.         0.         0.         1.80310131 0.\n",
      " 1.37094244 0.65923788 0.         0.8284884  0.55425147 0.54463731\n",
      " 1.01944749 0.         0.         0.         0.         0.\n",
      " 0.88477809 0.         0.73753224 0.3969856 ]\n"
     ]
    }
   ],
   "source": [
    "vec = np.random.normal(0, 1, 100)\n",
    "wo_negative = np.where(vec < 0, 0, vec)\n",
    "print(vec)\n",
    "print(wo_negative) # -- все отрицательные превращает в 0\n",
    "# print(np.where(vec >= 0, vec, 0)) # -- все что больше положительного оставляет на месте, остальное подефолту нуль\n",
    "# первое кажется более логичным, хотя выполняет тоже самое (?)"
   ]
  },
  {
   "cell_type": "markdown",
   "metadata": {},
   "source": [
    "__Задание 3__. Дан массив 10х3, который будет использован как массив с цветами RGB (каждый канал обозначается целым числом от 0 до 255), однако вследствие порчи данных при передаче значения массива вышли за границы заданного диапазона. Напишите функцию clip_values, которая вышедшие за границу диапазона значения превращает в ближашие границы диапазона.\n",
    "\n",
    "__Хинт__: воспользуйтесь np.clip"
   ]
  },
  {
   "cell_type": "code",
   "execution_count": 4,
   "metadata": {},
   "outputs": [
    {
     "name": "stdout",
     "output_type": "stream",
     "text": [
      "[[ 369.09979129  393.89355967  518.67738342]\n",
      " [ -42.26076258 -100.24069575  651.7350334 ]\n",
      " [ 192.80158015  515.50449362  411.31788816]\n",
      " [ -91.11969257   91.54166679  345.39948166]\n",
      " [ -27.7582323    65.08891743  213.77145613]\n",
      " [-250.39899349 -182.69093481  -81.62161182]\n",
      " [  44.69946885 -170.35897379  106.07203622]\n",
      " [-388.41800188   64.76395292 -128.49234586]\n",
      " [ 265.54695517  213.32238946  135.94673969]\n",
      " [-205.82065161   62.03820236   72.04164794]]\n",
      "[[255.         255.         255.        ]\n",
      " [  0.           0.         255.        ]\n",
      " [192.80158015 255.         255.        ]\n",
      " [  0.          91.54166679 255.        ]\n",
      " [  0.          65.08891743 213.77145613]\n",
      " [  0.           0.           0.        ]\n",
      " [ 44.69946885   0.         106.07203622]\n",
      " [  0.          64.76395292   0.        ]\n",
      " [255.         213.32238946 135.94673969]\n",
      " [  0.          62.03820236  72.04164794]]\n"
     ]
    }
   ],
   "source": [
    "def clip_values(image: np.ndarray) -> np.ndarray:\n",
    "    return np.clip(image, 0, 255)\n",
    "\n",
    "# [[r, g, b], [r, g, b]...]\n",
    "damaged = np.random.normal(127, 255, 30).reshape((10,3))\n",
    "print(damaged)\n",
    "fixed = clip_values(damaged)\n",
    "print(fixed)"
   ]
  },
  {
   "cell_type": "markdown",
   "metadata": {},
   "source": [
    "__Задание 4__. Сгенерируйте случайный вектор из нормального распределения со средним в нуле и произвольной дисперсией. С помощью `np.insert` в встаьте в него на четные индексы нули."
   ]
  },
  {
   "cell_type": "code",
   "execution_count": 5,
   "metadata": {},
   "outputs": [
    {
     "name": "stdout",
     "output_type": "stream",
     "text": [
      "[ 1.75861283e+00 -4.79433539e-01 -1.54060734e+00  1.30907754e+00\n",
      " -9.48768393e-01 -7.26358310e-03  1.12181898e+00  5.54449679e-01\n",
      " -7.84801410e-02 -1.10117759e+00  1.76691294e+00  5.72602409e-01\n",
      "  3.78050036e-01  4.25759235e-02  9.90164122e-01 -1.31183853e-01\n",
      "  3.07107862e-01 -6.68557106e-01  4.42471234e-01  7.83715841e-01\n",
      " -1.70624814e-01  1.28253839e+00  5.85967086e-01 -5.39586534e-01\n",
      "  6.75898043e-01 -1.66260993e+00 -1.28634116e-02  2.90707412e-02\n",
      "  1.92736719e-01  1.06198140e+00 -1.19216333e+00 -1.34285758e-01\n",
      " -4.62890225e-01 -6.58248281e-01  1.85944776e+00  1.18999678e+00\n",
      " -7.53501925e-01  3.45187460e-01 -1.62789881e+00 -6.30677950e-01\n",
      "  8.90570078e-01  2.25931698e-01 -2.20143860e-01  5.56686713e-01\n",
      " -2.02608688e-02 -1.88651292e+00 -2.07404576e+00 -1.84240514e+00\n",
      " -2.58475496e-01 -1.71861945e+00 -3.00252635e-02 -2.22309585e-04\n",
      "  1.05219104e+00 -1.77726395e+00  7.17637131e-01  8.47878793e-01\n",
      "  1.46504453e+00 -1.89768465e+00 -1.14315472e+00  6.44496108e-01\n",
      "  2.59615961e-01  2.94929268e-02  6.34336872e-01  2.94775777e-01\n",
      "  1.03439283e+00 -2.90739572e+00  9.75414098e-02  6.34633542e-02\n",
      "  1.35227728e+00 -3.55215616e-01 -5.70903986e-01 -1.64036123e+00\n",
      " -2.54541544e-02 -1.87098455e+00  9.01131546e-01 -1.60975144e+00\n",
      " -1.29210312e+00  2.07355223e-01  1.60786644e+00  9.93736997e-01\n",
      " -1.48168345e+00 -1.13254956e+00 -3.10071467e-01 -2.01320843e+00\n",
      "  3.85219145e-01  2.32800636e-01  3.85078125e-01  1.90270509e+00\n",
      " -3.92807146e-01  9.01606783e-01  2.41765490e+00  1.05982612e-01\n",
      " -1.36482947e-01 -1.82998703e+00 -5.62363541e-01 -7.74862137e-01\n",
      " -1.78187639e+00  1.38028189e-01 -7.50517317e-01  5.21299935e-02]\n",
      "[ 0.00000000e+00  1.75861283e+00 -4.79433539e-01  0.00000000e+00\n",
      " -1.54060734e+00  1.30907754e+00  0.00000000e+00 -9.48768393e-01\n",
      " -7.26358310e-03  0.00000000e+00  1.12181898e+00  5.54449679e-01\n",
      "  0.00000000e+00 -7.84801410e-02 -1.10117759e+00  0.00000000e+00\n",
      "  1.76691294e+00  5.72602409e-01  0.00000000e+00  3.78050036e-01\n",
      "  4.25759235e-02  0.00000000e+00  9.90164122e-01 -1.31183853e-01\n",
      "  0.00000000e+00  3.07107862e-01 -6.68557106e-01  0.00000000e+00\n",
      "  4.42471234e-01  7.83715841e-01  0.00000000e+00 -1.70624814e-01\n",
      "  1.28253839e+00  0.00000000e+00  5.85967086e-01 -5.39586534e-01\n",
      "  0.00000000e+00  6.75898043e-01 -1.66260993e+00  0.00000000e+00\n",
      " -1.28634116e-02  2.90707412e-02  0.00000000e+00  1.92736719e-01\n",
      "  1.06198140e+00  0.00000000e+00 -1.19216333e+00 -1.34285758e-01\n",
      "  0.00000000e+00 -4.62890225e-01 -6.58248281e-01  0.00000000e+00\n",
      "  1.85944776e+00  1.18999678e+00  0.00000000e+00 -7.53501925e-01\n",
      "  3.45187460e-01  0.00000000e+00 -1.62789881e+00 -6.30677950e-01\n",
      "  0.00000000e+00  8.90570078e-01  2.25931698e-01  0.00000000e+00\n",
      " -2.20143860e-01  5.56686713e-01  0.00000000e+00 -2.02608688e-02\n",
      " -1.88651292e+00  0.00000000e+00 -2.07404576e+00 -1.84240514e+00\n",
      "  0.00000000e+00 -2.58475496e-01 -1.71861945e+00  0.00000000e+00\n",
      " -3.00252635e-02 -2.22309585e-04  0.00000000e+00  1.05219104e+00\n",
      " -1.77726395e+00  0.00000000e+00  7.17637131e-01  8.47878793e-01\n",
      "  0.00000000e+00  1.46504453e+00 -1.89768465e+00  0.00000000e+00\n",
      " -1.14315472e+00  6.44496108e-01  0.00000000e+00  2.59615961e-01\n",
      "  2.94929268e-02  0.00000000e+00  6.34336872e-01  2.94775777e-01\n",
      "  0.00000000e+00  1.03439283e+00 -2.90739572e+00  0.00000000e+00\n",
      "  9.75414098e-02  6.34633542e-02  0.00000000e+00  1.35227728e+00\n",
      " -3.55215616e-01  0.00000000e+00 -5.70903986e-01 -1.64036123e+00\n",
      "  0.00000000e+00 -2.54541544e-02 -1.87098455e+00  0.00000000e+00\n",
      "  9.01131546e-01 -1.60975144e+00  0.00000000e+00 -1.29210312e+00\n",
      "  2.07355223e-01  0.00000000e+00  1.60786644e+00  9.93736997e-01\n",
      "  0.00000000e+00 -1.48168345e+00 -1.13254956e+00  0.00000000e+00\n",
      " -3.10071467e-01 -2.01320843e+00  0.00000000e+00  3.85219145e-01\n",
      "  2.32800636e-01  0.00000000e+00  3.85078125e-01  1.90270509e+00\n",
      "  0.00000000e+00 -3.92807146e-01  9.01606783e-01  0.00000000e+00\n",
      "  2.41765490e+00  1.05982612e-01  0.00000000e+00 -1.36482947e-01\n",
      " -1.82998703e+00  0.00000000e+00 -5.62363541e-01 -7.74862137e-01\n",
      "  0.00000000e+00 -1.78187639e+00  1.38028189e-01  0.00000000e+00\n",
      " -7.50517317e-01  5.21299935e-02]\n",
      "[ 0.00000000e+00  1.75861283e+00  0.00000000e+00 -4.79433539e-01\n",
      "  0.00000000e+00 -1.54060734e+00  0.00000000e+00  1.30907754e+00\n",
      "  0.00000000e+00 -9.48768393e-01  0.00000000e+00 -7.26358310e-03\n",
      "  0.00000000e+00  1.12181898e+00  0.00000000e+00  5.54449679e-01\n",
      "  0.00000000e+00 -7.84801410e-02  0.00000000e+00 -1.10117759e+00\n",
      "  0.00000000e+00  1.76691294e+00  0.00000000e+00  5.72602409e-01\n",
      "  0.00000000e+00  3.78050036e-01  0.00000000e+00  4.25759235e-02\n",
      "  0.00000000e+00  9.90164122e-01  0.00000000e+00 -1.31183853e-01\n",
      "  0.00000000e+00  3.07107862e-01  0.00000000e+00 -6.68557106e-01\n",
      "  0.00000000e+00  4.42471234e-01  0.00000000e+00  7.83715841e-01\n",
      "  0.00000000e+00 -1.70624814e-01  0.00000000e+00  1.28253839e+00\n",
      "  0.00000000e+00  5.85967086e-01  0.00000000e+00 -5.39586534e-01\n",
      "  0.00000000e+00  6.75898043e-01  0.00000000e+00 -1.66260993e+00\n",
      "  0.00000000e+00 -1.28634116e-02  0.00000000e+00  2.90707412e-02\n",
      "  0.00000000e+00  1.92736719e-01  0.00000000e+00  1.06198140e+00\n",
      "  0.00000000e+00 -1.19216333e+00  0.00000000e+00 -1.34285758e-01\n",
      "  0.00000000e+00 -4.62890225e-01  0.00000000e+00 -6.58248281e-01\n",
      "  0.00000000e+00  1.85944776e+00  0.00000000e+00  1.18999678e+00\n",
      "  0.00000000e+00 -7.53501925e-01  0.00000000e+00  3.45187460e-01\n",
      "  0.00000000e+00 -1.62789881e+00  0.00000000e+00 -6.30677950e-01\n",
      "  0.00000000e+00  8.90570078e-01  0.00000000e+00  2.25931698e-01\n",
      "  0.00000000e+00 -2.20143860e-01  0.00000000e+00  5.56686713e-01\n",
      "  0.00000000e+00 -2.02608688e-02  0.00000000e+00 -1.88651292e+00\n",
      "  0.00000000e+00 -2.07404576e+00  0.00000000e+00 -1.84240514e+00\n",
      "  0.00000000e+00 -2.58475496e-01  0.00000000e+00 -1.71861945e+00\n",
      "  0.00000000e+00 -3.00252635e-02  0.00000000e+00 -2.22309585e-04\n",
      "  0.00000000e+00  1.05219104e+00  0.00000000e+00 -1.77726395e+00\n",
      "  0.00000000e+00  7.17637131e-01  0.00000000e+00  8.47878793e-01\n",
      "  0.00000000e+00  1.46504453e+00  0.00000000e+00 -1.89768465e+00\n",
      "  0.00000000e+00 -1.14315472e+00  0.00000000e+00  6.44496108e-01\n",
      "  0.00000000e+00  2.59615961e-01  0.00000000e+00  2.94929268e-02\n",
      "  0.00000000e+00  6.34336872e-01  0.00000000e+00  2.94775777e-01\n",
      "  0.00000000e+00  1.03439283e+00  0.00000000e+00 -2.90739572e+00\n",
      "  0.00000000e+00  9.75414098e-02  0.00000000e+00  6.34633542e-02\n",
      "  0.00000000e+00  1.35227728e+00  0.00000000e+00 -3.55215616e-01\n",
      "  0.00000000e+00 -5.70903986e-01  0.00000000e+00 -1.64036123e+00\n",
      "  0.00000000e+00 -2.54541544e-02  0.00000000e+00 -1.87098455e+00\n",
      "  0.00000000e+00  9.01131546e-01  0.00000000e+00 -1.60975144e+00\n",
      "  0.00000000e+00 -1.29210312e+00  0.00000000e+00  2.07355223e-01\n",
      "  0.00000000e+00  1.60786644e+00  0.00000000e+00  9.93736997e-01\n",
      "  0.00000000e+00 -1.48168345e+00  0.00000000e+00 -1.13254956e+00\n",
      "  0.00000000e+00 -3.10071467e-01  0.00000000e+00 -2.01320843e+00\n",
      "  0.00000000e+00  3.85219145e-01  0.00000000e+00  2.32800636e-01\n",
      "  0.00000000e+00  3.85078125e-01  0.00000000e+00  1.90270509e+00\n",
      "  0.00000000e+00 -3.92807146e-01  0.00000000e+00  9.01606783e-01\n",
      "  0.00000000e+00  2.41765490e+00  0.00000000e+00  1.05982612e-01\n",
      "  0.00000000e+00 -1.36482947e-01  0.00000000e+00 -1.82998703e+00\n",
      "  0.00000000e+00 -5.62363541e-01  0.00000000e+00 -7.74862137e-01\n",
      "  0.00000000e+00 -1.78187639e+00  0.00000000e+00  1.38028189e-01\n",
      "  0.00000000e+00 -7.50517317e-01  0.00000000e+00  5.21299935e-02]\n"
     ]
    }
   ],
   "source": [
    "vec = np.random.normal(0, 1, 100)\n",
    "# print(vec)\n",
    "new_vec1 = np.insert(vec, range(0, 100, 2), 0) # Вектор, которому на четные места вставили нули\n",
    "new_vec2 = np.insert(vec, range(100), 0) # Вектор, у которого на четных местах нули\n",
    "# PS: вместо range(0, 100, 2) можно использовать np.arange(0, 100, 2). (Что лучше?)\n",
    "print(vec)\n",
    "print(new_vec1)\n",
    "print(new_vec2)"
   ]
  },
  {
   "cell_type": "markdown",
   "metadata": {},
   "source": [
    "__Задание 5__. Создайте случайный масиив 4х4 из нормального распределения со средним в нуле и произвольной дисперсией и верните индексы положительных элементов (`np.argwhere`)"
   ]
  },
  {
   "cell_type": "code",
   "execution_count": 6,
   "metadata": {},
   "outputs": [
    {
     "name": "stdout",
     "output_type": "stream",
     "text": [
      "[[-1.72116328  2.2586814  -0.40283448 -0.30239003]\n",
      " [-0.43477945 -0.75437204 -1.63710815 -0.27627086]\n",
      " [-0.73294568  0.00834854  0.14979034 -1.53731907]\n",
      " [-1.7845714  -0.89004341  0.07691034  0.39782453]]\n",
      "[[0 1]\n",
      " [2 1]\n",
      " [2 2]\n",
      " [3 2]\n",
      " [3 3]]\n"
     ]
    }
   ],
   "source": [
    "matr = np.random.normal(0, 1, 16).reshape((4,4))\n",
    "print(matr)\n",
    "positive_indexes = np.argwhere(matr > 0)\n",
    "print(positive_indexes)"
   ]
  },
  {
   "cell_type": "markdown",
   "metadata": {},
   "source": [
    "__Задание 6__. Создайте матрицу случайных целых чисел от в интервале от 1 до 10 размера 5х5 и посчитайте следующее (сабмодуль `np.linalg`):\n",
    "\n",
    "- определитель матрицы\n",
    "- обратную матрицу\n",
    "- произведение матрицы на саму себя\n",
    "- собственные вектора\n",
    "\n"
   ]
  },
  {
   "cell_type": "code",
   "execution_count": 7,
   "metadata": {
    "scrolled": true
   },
   "outputs": [
    {
     "name": "stdout",
     "output_type": "stream",
     "text": [
      "matrix: \n",
      "[[ 9 10  1  3  2]\n",
      " [ 7  6  5  4  8]\n",
      " [10  2  3  5 10]\n",
      " [ 1  6  4  5  3]\n",
      " [ 5  5  2  2  8]] \n",
      "\n",
      " determinant 5793.000000000003 \n",
      " inverse \n",
      " [[ 0.06542379  0.10771621  0.0467806  -0.11669256 -0.13878819]\n",
      " [ 0.05679268 -0.03314345 -0.09131711  0.0359054   0.11962714]\n",
      " [-0.0709477   0.48213361 -0.13516313 -0.10564474 -0.255826  ]\n",
      " [ 0.01260142 -0.3143449   0.20162265  0.25720697 -0.03728638]\n",
      " [-0.06179872 -0.08855515  0.01122044  0.01260142  0.21025375]] \n",
      "\n",
      "square: \n",
      "[[174 180  78  91 133]\n",
      " [199 180  84 106 188]\n",
      " [189 198  69  98 161]\n",
      " [111  99  69  78 129]\n",
      " [142 136  60  71 140]]\n",
      "\n",
      "eigenvectors: (array([25.28049035+0.j        , -0.97611959+3.59856597j,\n",
      "       -0.97611959-3.59856597j,  3.83587442+1.3299102j ,\n",
      "        3.83587442-1.3299102j ]), array([[-0.46244593+0.j        , -0.02736231+0.33574711j,\n",
      "        -0.02736231-0.33574711j, -0.29935187-0.39625779j,\n",
      "        -0.29935187+0.39625779j],\n",
      "       [-0.52601522+0.j        , -0.02212933-0.3485605j ,\n",
      "        -0.02212933+0.3485605j ,  0.00178954+0.09921381j,\n",
      "         0.00178954-0.09921381j],\n",
      "       [-0.50147674+0.j        ,  0.73988367+0.j        ,\n",
      "         0.73988367-0.j        , -0.08805429-0.06282984j,\n",
      "        -0.08805429+0.06282984j],\n",
      "       [-0.33394297+0.j        , -0.46451597+0.01862629j,\n",
      "        -0.46451597-0.01862629j,  0.77152889+0.j        ,\n",
      "         0.77152889-0.j        ],\n",
      "       [-0.3826943 +0.j        , -0.03014044-0.00909613j,\n",
      "        -0.03014044+0.00909613j, -0.08577491+0.35945281j,\n",
      "        -0.08577491-0.35945281j]]))\n"
     ]
    }
   ],
   "source": [
    "matr = np.random.randint(1, 11, 25).reshape((5,5))\n",
    "print( 'matrix: \\n{} \\n\\n determinant {} \\n '\n",
    "      'inverse \\n {} \\n\\n'\n",
    "      'square: \\n{}\\n\\n'\n",
    "       'eigenvectors: {}'.format(matr, np.linalg.det(matr),\n",
    "            np.linalg.inv(matr),\n",
    "            matr.dot(matr),\n",
    "            np.linalg.eig(matr)) )"
   ]
  },
  {
   "cell_type": "markdown",
   "metadata": {},
   "source": [
    "Задания 7-10 необходимо сдать в [Яндекс.контест](https://contest.yandex.ru/contest/16930/problems/) и прикрепить ссылку на решение в формате `https://contest.yandex.ru/contest/xxxxx/run-report/xxxxx/`. Сдавайте задания строго в соответствии с написанной сигнатурой и возвращаемыми типами. Для сдачи необходимо отправить в соответствующую задачу файл, содержащий функции и необходимые импорты. Обратите внимание, что вам доступен только `numpy`. При сдаче выберите компилятор make. __При отсутствии ссылки на решение задание засчитано не будет!__"
   ]
  },
  {
   "cell_type": "markdown",
   "metadata": {},
   "source": [
    "__Задание 7__. Напишите функцию, которая находит сумму квадратов положительных элементов одномерного массива.\n",
    "\n",
    "__Ссылка на посылку в контесте__: https://contest.yandex.ru/contest/16930/run-report/30621657/"
   ]
  },
  {
   "cell_type": "code",
   "execution_count": 8,
   "metadata": {},
   "outputs": [],
   "source": [
    "def get_squares(a: np.ndarray) -> float:\n",
    "    return np.sum(np.square(np.where(a < 0, 0, a)))\n",
    "\n",
    "assert get_squares(np.array([1,-2,3])) == 10\n",
    "\n",
    "# a = np.array([1, -2, 3])\n",
    "# print(np.sum(np.square(np.where(a < 0, 0, a))))\n",
    "\n",
    "# **LINK** `https://contest.yandex.ru/contest/16930/run-report/30621657/`"
   ]
  },
  {
   "cell_type": "markdown",
   "metadata": {},
   "source": [
    "__Задание 8__. Коля -- мастер покера и умеет выигрывать только целые суммы денег от 0 до n - 1. Коля решил сыграть на турнире. На вход подаётся массив `p` размера $n$, где `p[i]` -- вероятность, что Коля выиграет на турнире $i$ рублей ($\\sum_{i=1}^{n}p_i =1$, $p_i \\geqslant 0, \\forall i$). Посчитайте математическое ожидание выигрыша Коли на турнире.\n",
    "\n",
    "\n",
    "__Ссылка на посылку в контесте__: https://contest.yandex.ru/contest/16930/run-report/30621663/"
   ]
  },
  {
   "cell_type": "code",
   "execution_count": null,
   "metadata": {},
   "outputs": [],
   "source": [
    "def expected_reward(p: np.ndarray) -> float:\n",
    "    return p.dot(np.array(range(len(p))))\n",
    "\n",
    "assert expected_reward(np.array([0.4, 0.5, 0.1])) == 0.7\n",
    "\n",
    "# p = np.array([0.4, 0.5, 0.1])\n",
    "# print(p.dot(np.array(range(len(p)))))\n",
    "\n",
    "# **LINK** `https://contest.yandex.ru/contest/16930/run-report/30621663/`"
   ]
  },
  {
   "cell_type": "markdown",
   "metadata": {},
   "source": [
    "__Задание 9__. Дана квадратная матрица `A`. Посчитайте произведение диагональных элементов матрицы, __строго__ превосходящих среднее значение элементов всей матрицы.\n",
    "\n",
    "__Хинт__: взять диагональ матрицы -- np.diag(), произведение элементов массива -- np.prod(), среднее значение в массиве -- np.mean().\n",
    "\n",
    "__Ссылка на посылку в контесте__: https://contest.yandex.ru/contest/16930/run-report/30720141/"
   ]
  },
  {
   "cell_type": "code",
   "execution_count": null,
   "metadata": {},
   "outputs": [],
   "source": [
    "def prod_upper_avg_diagonal(a: np.ndarray) -> float:\n",
    "    diag = np.diag(a)\n",
    "    return np.prod( diag[diag > np.mean(a) ] )\n",
    "\n",
    "assert prod_upper_avg_diagonal(np.array([[ 0,  1,  2,  3],\n",
    "                                         [ 4,  5,  6,  7],\n",
    "                                         [ 8,  9, 10, 11],\n",
    "                                         [12, 13, 14, 15]])) == 150\n",
    "\n",
    "# a = np.array([[ 0,  1,  2,  3],\n",
    "#              [ 4,  5,  6,  7],\n",
    "#              [ 8,  9, 10, 11],\n",
    "#              [12, 13, 14, 15]])\n",
    "# diag = np.diag(a)\n",
    "# mean = np.mean(a)\n",
    "# print(diag)\n",
    "# print(mean)\n",
    "# print(np.prod(np.where(diag > mean, diag, 1)))\n",
    "\n",
    "# print(prod_upper_avg_diagonal(a))\n",
    "\n",
    "# **LINK** `https://contest.yandex.ru/contest/16930/run-report/30720141/`"
   ]
  },
  {
   "cell_type": "markdown",
   "metadata": {},
   "source": [
    "__Задание 10__. Дано число $n$. Создайте матрицу $A$ размера $n \\times n$ такую, что $A[i][j] = i \\cdot j$. Нумерация строк и столбцов начинается с нуля.\n",
    "\n",
    "__Ссылка на посылку в контесте:__ https://contest.yandex.ru/contest/16930/run-report/30621681/"
   ]
  },
  {
   "cell_type": "code",
   "execution_count": null,
   "metadata": {},
   "outputs": [],
   "source": [
    "def create_ij(n: int) -> np.ndarray:\n",
    "    a = np.array(range(n)).reshape(1, -1)\n",
    "    return a.T.dot(a)\n",
    "\n",
    "assert np.all(create_ij(5) == np.array([[ 0,  0,  0,  0,  0],\n",
    "                                        [ 0,  1,  2,  3,  4],\n",
    "                                        [ 0,  2,  4,  6,  8],\n",
    "                                        [ 0,  3,  6,  9, 12],\n",
    "                                        [ 0,  4,  8, 12, 16]]))\n",
    "\n",
    "# print(create_ij(5))\n",
    "\n",
    "# **LINK** `https://contest.yandex.ru/contest/16930/run-report/30621681/`"
   ]
  },
  {
   "cell_type": "markdown",
   "metadata": {},
   "source": [
    "### Part 2. Numpy vs pure python\n",
    "\n",
    "\n",
    "__Задание 11__. (1 балл) Выберите любые 5 функций из заданий 2-10 и имплементируйте их, но без использования сторонних библиотек (считайте, что вам доступны только стандартные библиотеки языка Питон и на вход вместо массивов подаются питоновские списки)."
   ]
  },
  {
   "cell_type": "code",
   "execution_count": null,
   "metadata": {},
   "outputs": [],
   "source": [
    "import random\n",
    "\n",
    "#1 Task 1\n",
    "def normal_distr(n):\n",
    "    return [random.gauss(0, 1) for _ in range(n)]\n",
    "    \n",
    "def without_negatives(arr):\n",
    "    return [max(x, 0) for x in arr]\n",
    "\n",
    "#2 Task 5\n",
    "def create_gauss_sq_matrix(n):\n",
    "    return [[random.gauss(0, 1) for _ in range(n)] for _ in range(n)]\n",
    "\n",
    "def where_positive(matr):\n",
    "    ans = []\n",
    "    for i in range(len(matr)):\n",
    "        for j in range(len(matr)):\n",
    "            if matr[i][j] > 0:\n",
    "                ans.append([i, j])\n",
    "    return ans\n",
    "# m = create_gauss_sq_matrix(4)\n",
    "# print(m)\n",
    "# print(where_positive(m))\n",
    "\n",
    "#3 Task 7 сумму квадратов положительных элементов одномерного массива.\n",
    "def py_get_squares(arr):\n",
    "    return sum([a*a for a in arr if a > 0])\n",
    "# print(py_get_squares([1,-2,3]))\n",
    "\n",
    "#4 Task 8\n",
    "def py_expected_reward(prob_arr):\n",
    "    ans = 0\n",
    "    for p in range(len(prob_arr)):\n",
    "        ans += p*prob_arr[p]\n",
    "    return ans\n",
    "# print(py_expected_reward([0.4, 0.5, 0.1]))\n",
    "\n",
    "#5 Task 10\n",
    "def py_create_ij(n: int):\n",
    "    arr = []\n",
    "    for i in range(n):\n",
    "        row = []\n",
    "        for j in range(n):\n",
    "            row.append(i*j)\n",
    "        arr.append(row)\n",
    "    return arr\n",
    "# print(py_create_ij(5))"
   ]
  },
  {
   "cell_type": "markdown",
   "metadata": {},
   "source": [
    "__Задание 12__. (3 балла) Сравните время работы векторизованных функций с обычными. Для этого постройте графики зависимости времени исполнения функции от размера входного массива. Перебирайте значения от 1 до $10^6$ по логарифмической шкале. Сделайте выводы.\n",
    "\n",
    "__Графики должны быть опрятными!__. Подписывайте оси, и единицы измерения, указывайте легенду и название графика. Оценка за задание с неопрятными графиками может быть снижена! Сравнение плохого и хорошего графиков:"
   ]
  },
  {
   "cell_type": "code",
   "execution_count": null,
   "metadata": {},
   "outputs": [],
   "source": [
    "import sys\n",
    "import timeit # https://stackoverflow.com/questions/8220801/how-to-use-timeit-module/29512249\n",
    "import matplotlib.pyplot as plt # для графико\n",
    "plt.ioff()\n",
    "\n",
    "import numpy as np\n",
    "\n",
    "# def compared_plot(legend=''):\n",
    "#     pass\n",
    "\n",
    "def timings_and_plot(pure_py_func, np_func, args_func, title=\"Simple Plot\", \n",
    "                     number=5, low=1, high=6, base=10, samples=13):\n",
    "    '''\n",
    "        pure_py_func -- функция чистого питона, без NP\n",
    "        np_func -- функция NP\n",
    "        args_func -- лямбда функция, которая генерирует входные данные для pure_py_func и np_func\n",
    "                        по сути, функнция-генератор // generation function of input\n",
    "        title -- легенда(название) нашего графика (подПИСЬКА сверху) // забавно, что legend, т.е. легенда графика у matplot это совсем НЕ легенда, а название это легенда [fun facts at 6am]\n",
    "        number -- timeit.timeit(... -->number= <-- ) вот этот номер, \" method with number executions\"\n",
    "                    \"сколько раз выполняется функция\" // https://docs.python.org/3/library/timeit.html\n",
    "        low -- нижнее значение степени base\n",
    "        high -- верхнее значение степени base\n",
    "        base -- \"база\" логарифма\n",
    "        samples -- сколько точек \n",
    "    '''\n",
    "    logspace = np.logspace(low, high, num=samples, base=base) # log space of dots (basicly axis X)\n",
    "    pure_time = [] # timings of Py\n",
    "    numpy_time = [] # timings of NumPy\n",
    "    \n",
    "    for s in logspace:\n",
    "        args = args_func(int(s))\n",
    "        pure_time.append(timeit.timeit(lambda: pure_py_func(*args), number=number) / number)\n",
    "        numpy_time.append(timeit.timeit(lambda: np_func(*args), number=number) / number)\n",
    "        \n",
    "#         print('input: {}\\t np_time: {}\\t, pp_time: {} \\n'.format(s, numpy_time[-1], pure_time[-1]))\n",
    "#         print(s)\n",
    "#         print(logspace)\n",
    "#         print(pure_time)\n",
    "#         print(numpy_time)\n",
    "#         print('\\n')\n",
    "\n",
    "    \n",
    "    normal = plt.gca()\n",
    "    normal.set_title(title)\n",
    "    normal.set_ylabel('time')\n",
    "    normal.set_xlabel('size of input')\n",
    "    normal.plot(logspace, pure_time, label='Pure Python', marker='o')\n",
    "    normal.plot(logspace, numpy_time, label='NumPy', marker='o')\n",
    "    plt.legend()\n",
    "    plt.show()\n",
    "    \n",
    "#     ToDo: https://stackoverflow.com/questions/773814/plot-logarithmic-axes-with-matplotlib-in-python\n",
    "#             Надо подумать как правильно тут логарифм шкалу сделать! \n",
    "    logsized = plt.gca()\n",
    "    logsized.set_title('Log scale')\n",
    "    logsized.set_ylabel('log(time)')\n",
    "    logsized.set_xlabel('size of input (with log-scale)')\n",
    "#     logsized.set_yscale('log')\n",
    "    logsized.set_xscale('log')\n",
    "    logsized.plot(logspace, np.log(pure_time), label='Pure Python', marker='o')\n",
    "    logsized.plot(logspace, np.log(numpy_time), label='NumPy', marker='o')\n",
    "    plt.show()    \n",
    "        "
   ]
  },
  {
   "cell_type": "markdown",
   "metadata": {},
   "source": [
    "__Хинт__: воспользуйтесь библиотекой `time` или мэджиком `%timeit`."
   ]
  },
  {
   "cell_type": "markdown",
   "metadata": {},
   "source": [
    "__Замечание__: Далее будет производиться сравнение быстроты работы функций с использыванием `timings_and_plot(...)`.\n",
    "Для удобства функции будут продублированы, они будут в точности повторять написанные функции в заданиях 2-10.\n",
    "Функции, начинающиеся с `np_` -- это функции, которые написаны с использыванием NumPy, а функции, которые начинаются с `pp_` -- это функции чистого питона, он же PurePython."
   ]
  },
  {
   "cell_type": "markdown",
   "metadata": {},
   "source": [
    "__Теория__:\n",
    "Пусть время работы это $t$ и оно зависит от входа как $O(f(n))$. В данном задании работа всех алгоритмов полиномиальна по времени, тогда $t = O(n^m)$, то есть это $t = c_0 + \\sum_{k<n}{c_k n^k}$. \n",
    "\n",
    "Будем строить график времени работы $t(n)$, а также график $\\log(t) (n)$. Второй график позволит нам понять асимптотику работы каждого из алгоритмов, т.к. $\\log(t) = \\log(C) + \\left( \\sum k \\right) \\log n$."
   ]
  },
  {
   "cell_type": "code",
   "execution_count": null,
   "metadata": {},
   "outputs": [
    {
     "data": {
      "image/png": "[encoded data removed]",
      "text/plain": [
       "<Figure size 432x288 with 1 Axes>"
      ]
     },
     "metadata": {
      "needs_background": "light"
     },
     "output_type": "display_data"
    },
    {
     "data": {
      "image/png": "[encoded data removed]",
      "text/plain": [
       "<Figure size 432x288 with 1 Axes>"
      ]
     },
     "metadata": {
      "needs_background": "light"
     },
     "output_type": "display_data"
    }
   ],
   "source": [
    "#             PurePy vs NumPy\n",
    "# Task 0: _Нормальное распределение_\n",
    "# Первым(нулевым) шагом хочется выяснить с помощью чего генерировать случайные числа быстрее\n",
    "\n",
    "import random\n",
    "\n",
    "def np_normal_gaus(n):\n",
    "    return np.random.normal(0, 1, n)\n",
    "\n",
    "def pp_normal_gaus(n):\n",
    "    return [random.gauss(0, 1) for _ in range(n)]\n",
    "\n",
    "timings_and_plot(pp_normal_gaus, np_normal_gaus, lambda n: (n,), title=\"Normal distribution generation\")\n",
    "\n",
    "# Работает за другое О-большое? Но кажется, что работает за другую константу, которая много меньше purepy-const"
   ]
  },
  {
   "cell_type": "markdown",
   "metadata": {},
   "source": [
    "_Вывод 0_: Из первого графика видно, что PurePy работает за $O(n)$, а из второго графика видно, что степени в асимптотике у NumPy и PurePy -- одинаковые, следовательно, NumPy работает тоже за $O(n)$, но с ощутимо меньшей константой.\n",
    "\n",
    "Случаные распределения быстрее генерирует NumPy, в дальнейшем будем его и использовать для данной задачи."
   ]
  },
  {
   "cell_type": "code",
   "execution_count": null,
   "metadata": {},
   "outputs": [
    {
     "data": {
      "image/png": "[encoded data removed]",
      "text/plain": [
       "<Figure size 432x288 with 1 Axes>"
      ]
     },
     "metadata": {
      "needs_background": "light"
     },
     "output_type": "display_data"
    },
    {
     "data": {
      "image/png": "[encoded data removed]",
      "text/plain": [
       "<Figure size 432x288 with 1 Axes>"
      ]
     },
     "metadata": {
      "needs_background": "light"
     },
     "output_type": "display_data"
    }
   ],
   "source": [
    "#             PurePy vs NumPy\n",
    "# Task 1: _Удаление отрицательных чисел из распределение_\n",
    "# Постановка: на вход подается массив, необходимо вместо отрицательных чисел написать нули.\n",
    "\n",
    "def np_wo_negative(vec):\n",
    "    return np.where(vec < 0, 0, vec)\n",
    "\n",
    "def pp_wo_negative(vec):\n",
    "    return [max(x, 0) for x in vec]\n",
    "\n",
    "timings_and_plot(pp_wo_negative, np_wo_negative, lambda n: (np.random.normal(0, 1, n),),\n",
    "                 title=\"Replacing negative numbers with zero\")\n",
    "\n",
    "# Работает за другое О-большое"
   ]
  },
  {
   "cell_type": "code",
   "execution_count": null,
   "metadata": {
    "scrolled": false
   },
   "outputs": [],
   "source": [
    "#             PurePy vs NumPy\n",
    "# Task 2: _Удаление отрицательных чисел из распределение_\n",
    "# Постановка: на вход подается массив, необходимо вместо отрицательных чисел написать нули.\n",
    "\n",
    "def np_positive_indexes(matr):\n",
    "    return np.argwhere(matr > 0)\n",
    "\n",
    "def pp_positive_indexes(matr):\n",
    "    ans = []\n",
    "    for i in range(len(matr)):\n",
    "        for j in range(len(matr)):\n",
    "            if matr[i][j] > 0:\n",
    "                ans.append([i, j])\n",
    "    return ans\n",
    "\n",
    "timings_and_plot(pp_positive_indexes, np_positive_indexes, \n",
    "                 lambda n: (np.random.normal(0, 1, n*n).reshape((n,n)),),\n",
    "                 title=\"Getting positive indexes\", high=3)\n",
    "# O(n^2) => (10^3)^2\n",
    "# Работает за другое О-большое"
   ]
  },
  {
   "cell_type": "code",
   "execution_count": null,
   "metadata": {},
   "outputs": [],
   "source": [
    "#             PurePy vs NumPy\n",
    "# Task 3: _Сумма квадратов положительных элементов_\n",
    "# Постановка: на вход подается массив, необходимо взять сумму квадратов всех его положительных элементов.\n",
    "\n",
    "def np_positive_sum(arr):\n",
    "    return np.sum(np.square(np.where(arr < 0, 0, arr)))\n",
    "\n",
    "def pp_positive_sum(arr):\n",
    "    return sum([a*a for a in arr if a > 0])\n",
    "\n",
    "\n",
    "timings_and_plot(pp_positive_sum, np_positive_sum, \n",
    "                 lambda n: (np.random.randint(0, 10**3, n), ),\n",
    "                 title=\"Sum of positive integers in array\")\n",
    "\n",
    "# Работает за другое О-большое"
   ]
  },
  {
   "cell_type": "code",
   "execution_count": null,
   "metadata": {},
   "outputs": [],
   "source": [
    "#             PurePy vs NumPy\n",
    "# Task 4: _Математическое ожидание_\n",
    "# Постановка: на вход подается массив вероятностей, необходимо взять сумму его элементов умноженных на индекс, т.е. мат.ожидание.\n",
    "\n",
    "def np_expected_reward(prob_arr):\n",
    "    return prob_arr.dot(np.array(range(len(prob_arr))))\n",
    "\n",
    "def pp_expected_reward(prob_arr):\n",
    "    ans = 0\n",
    "    for p in range(len(prob_arr)):\n",
    "        ans += p*prob_arr[p]\n",
    "    return ans\n",
    "\n",
    "timings_and_plot(pp_expected_reward, np_expected_reward, \n",
    "                 lambda n: (np.random.normal(0, 1, n), ), # тут мог быть бы более умный генератор, который проверял бы что сумма всех вероятностей единица и прочее,\n",
    "                                                          # но нас интересует время работы от длины входа, поэтому можем использовать вот такую глупую\" версию\n",
    "                 title=\"Expected value problem\")\n",
    "\n",
    "# Работает за меньшую константу!"
   ]
  },
  {
   "cell_type": "code",
   "execution_count": null,
   "metadata": {},
   "outputs": [],
   "source": [
    "#             PurePy vs NumPy\n",
    "# Task 5: _Создание ij-матрицы_\n",
    "# Постановка: на вход число, необходимо создать матрицу M n*n такую, что M_ij = i*j\n",
    "\n",
    "def np_create_ij(n):\n",
    "    a = np.array(range(n)).reshape(1, -1)\n",
    "    return a.T.dot(a)\n",
    "\n",
    "def pp_create_ij(n):\n",
    "    arr = []\n",
    "    for i in range(n):\n",
    "        row = []\n",
    "        for j in range(n):\n",
    "            row.append(i*j)\n",
    "        arr.append(row)\n",
    "    return arr\n",
    "\n",
    "timings_and_plot(pp_create_ij, np_create_ij, \n",
    "                 lambda n: (n, ),\n",
    "                 title=\"Creating ij matrix\", high=3)\n",
    "\n",
    "# Работает за меньшую константу!"
   ]
  },
  {
   "cell_type": "markdown",
   "metadata": {},
   "source": [
    "__Вывод__: NumPy > PurePy\n",
    "\n",
    " 1. Легко можно видеть, что время работы для \"чистого\" python'а увеличивается линейно от увеличения входа, то есть он работает за $O(n)$. В случае NumPy до определенного момента асимптотика работы NumPy сильно меньше, но примерно начиная $10^3$ он начинает работать аналогично PurePy, но __опять с меньшей константой__.\n",
    " 2. Здесь можно увидеть ситуацию аналогичную предыдущему пункту, но в этот раз numpy работает примерно за константу до $10^2$, а дальше _выходит_ на $O(n)$.\n",
    " 3. Ситуация абсолютно аналогичная предыдущим, что в очередной раз подтверждает, что numpy справляется быстрее.\n",
    " 4. Видно, что время работы numpy и purepy отсличаются не столь сильно, как возможно этого хотелось бы.\n",
    " 5. Очередное подтверждение быстроты numpy на фоне чистого питона. \n",
    "\n",
    "Общий вывод -- __numpy работает быстрее чем чистый python__. Но эта быстрота на _\"небольших\"_ вводах отличается на полином, а на _\"большИх\"_ совпадает с О-большим чистого python (т.е. имеет аналогичную асимптотику), но заметно отличается в константе, чем обеспечивает себе приемущество.\n",
    "\n",
    "__ИТОГ__: __NumPy быстрее чем PurePy__, но имеет аналогичную асимптотику."
   ]
  },
  {
   "cell_type": "code",
   "execution_count": null,
   "metadata": {},
   "outputs": [],
   "source": [
    "#             PurePy vs NumPy\n",
    "# Task 5.5: _Создание последовательного массива длины n_\n",
    "# Постановка: на вход число, последовательный массив длины n\n",
    "# Замечание: В процессе решения _задания 4_ у меня возник что лучше: использовать range() или np.arrange().\n",
    "# кажется очевидным, что np.arrange лучше, но хочется понять насколько он лучше.\n",
    "\n",
    "\n",
    "timings_and_plot(\n",
    "    lambda m: list(range(m)),\n",
    "    lambda k: np.arange(k),\n",
    "    lambda n: (n, ),\n",
    "    title='Range array generators',\n",
    "    high=6,\n",
    "    number=100,\n",
    "    )\n",
    "\n",
    "# ЧТО? Шок-контент... NumPy создает range дольше!\n",
    "print('goin\\' forward')\n",
    "\n",
    "timings_and_plot(\n",
    "    lambda m: list(range(m)),\n",
    "    lambda k: np.array(range(k)),\n",
    "    lambda n: (n, ),\n",
    "    title='Time for list(array-creation)',\n",
    "    high=6,\n",
    "    number=10,\n",
    "    )"
   ]
  },
  {
   "cell_type": "markdown",
   "metadata": {},
   "source": [
    "### Part 3. Pandas.\n",
    "\n",
    "Задания 13-22 оцениваются в 0.4 баллов.  В заданиях 13-22 запрещается пользоваться циклами `for` и `while` в сдаваемом вами коде. Задания 13-15 также сдаются в контест с компилятором python3.6+numpy+pandas. В конце сдаваемого вами файла должны быть строки\n",
    "```\n",
    "import sys\n",
    "exec(sys.stdin.read())\n",
    "```"
   ]
  },
  {
   "cell_type": "code",
   "execution_count": null,
   "metadata": {},
   "outputs": [],
   "source": [
    "import pandas as pd"
   ]
  },
  {
   "cell_type": "markdown",
   "metadata": {},
   "source": [
    "__Задание 13__, Дан датафрейм, в котором существует колонка 'email' (строка, длиной не более 255). Напишите функцию, которая в заданном датафрейме заменяет все невалидные email'ы на \"unknown@unknown.com\". Валидным сичтается емэйл, выглядящий как `[name]@[subdomain].[domain]`, где `[name]` -- строка, содержащая латинский буквы, точки и знаки `-` и `_`, `[subdomain]` и `[domain]` -- строки, содержащие только латинские буквы и цифры. Длина строки `[domain]` -- не больше 8 символов.\n",
    "\n",
    "__Хинт__. Вопспользуйтесь методом .apply(), в который передайте функцию для обрабоки одного email'a.\n",
    "\n",
    "\n",
    "__Ссылка на посылку в контесте:__ https://contest.yandex.ru/contest/16930/run-report/30641895/"
   ]
  },
  {
   "cell_type": "code",
   "execution_count": null,
   "metadata": {},
   "outputs": [],
   "source": [
    "import re\n",
    "\n",
    "def reset_emails(df: pd.DataFrame) -> pd.DataFrame:\n",
    "    df['email'] = df['email'].apply( lambda e: validate(e) )\n",
    "    return df\n",
    "\n",
    "def validate(e):\n",
    "    if bool( re.search('^[\\w\\.\\-]+\\@[a-zA-Z0-9]+\\.[a-zA-Z0-9]{,8}$', e) ):\n",
    "        return e\n",
    "    else:\n",
    "        return \"unknown@unknown.com\"\n",
    "\n",
    "# r'^[\\w\\.\\-]+\\@ [a-zA-Z0-9]+ \\. [a-zA-Z0-9]{,8}$ -- соответсвие регулярному выражению\n",
    "# ^ -- начало\n",
    "# [\\w\\.\\-]+ -- любое из: \\w -- буквы, цифры и _; \\. -- точка; \\- -- черточка. + -- хотяб одно [name]\n",
    "# \\@ -- будет собачка @\n",
    "# [a-zA-Z0-9]+ -- латинские и цифры, хотяб одно [subdomain]\n",
    "# \\. -- точка .\n",
    "# [a-zA-Z0-9]{,8} -- неболее 8 букв или/и цифр [domain]\n",
    "# $ -- конец строки\n",
    "# https://www.geeksforgeeks.org/regular-expression-python-examples-set-1/\n",
    "\n",
    "import sys\n",
    "exec(sys.stdin.read())\n",
    "\n",
    "# df = pd.DataFrame({\n",
    "#     'email': [\n",
    "#         \"qwe@rty.ru\", \"asd@fg.gg\", \"unknown@unknown.com\", \"alex.k-_12\"\n",
    "#     ],\n",
    "#     'income': [5.5, 6.5, 7.2, 8.2]\n",
    "# })\n",
    "# print(\n",
    "#     reset_emails(df)\n",
    "# )\n",
    "# **LINK** `https://contest.yandex.ru/contest/16930/run-report/30641895/`"
   ]
  },
  {
   "cell_type": "markdown",
   "metadata": {},
   "source": [
    "__Задание 14__. Дан датафрейм, в котором существуют колонки `age` (возраст в годах, целое число) и `income` (дробное число). Напишите функцию, которая вернёт средний заработок людей младше 18 лет.\n",
    "\n",
    "__Ссылка на посылку в контесте:__ https://contest.yandex.ru/contest/16930/run-report/30639732/"
   ]
  },
  {
   "cell_type": "code",
   "execution_count": null,
   "metadata": {},
   "outputs": [],
   "source": [
    "def get_mean_income(df: pd.DataFrame) -> float:\n",
    "    return df[df['age'] < 18]['income'].mean()\n",
    "\n",
    "import sys\n",
    "exec(sys.stdin.read())\n",
    "\n",
    "# df = pd.DataFrame({\n",
    "#     'age': [10, 15, 20, 25, 18, 100],\n",
    "#     'income': [5.5, 6.5, 7.2, 8.2, 8, 1000]\n",
    "# })\n",
    "# print(df[df['age'] < 18]['income'].mean())\n",
    "# print( df[ df['age'] < 18 ].mean()['income'] )\n",
    "# print(get_mean_income(df))\n",
    "# **LINK** `https://contest.yandex.ru/contest/16930/run-report/30639732/`"
   ]
  },
  {
   "cell_type": "markdown",
   "metadata": {},
   "source": [
    "__Задание 15__. Дан датафрейм, в котором существуют колонки 'id' (идентификатор пользователя, целое положительное число), 'age' (возвраст в годах, целое число), 'sex' (пол пользователя, строка, равная либо \"Male\", либо \"Female\", либо \"Other\"), \"favorite_color\" (любимый цвет пользователя, строка длиной не более 255). Найдите число различных любимых цветов у женщин младше 18 лет.\n",
    "\n",
    "__Ссылка на посылку в контесте__: https://contest.yandex.ru/contest/16930/run-report/30640055/"
   ]
  },
  {
   "cell_type": "code",
   "execution_count": null,
   "metadata": {},
   "outputs": [],
   "source": [
    "def get_fav_color(df: pd.DataFrame) -> int:\n",
    "    return df[\n",
    "         ( df['sex'] == 'Female' ) & ( df['age'] < 18 )\n",
    "    ]['favorite_color'].nunique()\n",
    "\n",
    "import sys\n",
    "exec(sys.stdin.read())\n",
    "\n",
    "# df = pd.DataFrame({\n",
    "#     'id': [10, 15, 20, 25, 18, 100, 11, 5, 21, 35, 28, 110],\n",
    "#     'age': [10, 12, 14, 15, 22, 22, 10, 12, 14, 15, 22, 22],\n",
    "#     'sex': ['Male', 'Female', 'Other', 'Female', 'Female', 'Male', 'Male', 'Female', 'Other', 'Female', 'Female', 'Male'],\n",
    "#     'favorite_color': [5.5, 6.5, 7.2, 8.2, 8, 250, 5.5, 6.5, 7.2, 8.2, 8, 250]\n",
    "# })\n",
    "# print(get_fav_color(df))\n",
    "# **LINK** `https://contest.yandex.ru/contest/16930/run-report/30640055/`"
   ]
  },
  {
   "cell_type": "markdown",
   "metadata": {},
   "source": [
    "### Part 4. EDA with pandas.\n",
    "\n",
    "В этом задании предлагается сделать разведочный анализ данных в датафрейме. \n",
    "\n",
    "Мы будем работать с датасетом русскоязычных твитов. Скачайте данные по ссылке: https://www.dropbox.com/s/ou55qwyhbj1pdav/tweets.csv?dl=1\n",
    "\n",
    "Корпус состоит из 12 столбцов:\n",
    "\n",
    "    – id: уникальный номер сообщения в системе twitter;\n",
    "    – tdate: дата публикации сообщения (твита);\n",
    "    – tmane: имя пользователя, опубликовавшего сообщение;\n",
    "    – ttext:  текст сообщения (твита);\n",
    "    – ttype: поле в котором в дальнейшем будет указано к кому классу относится твит (положительный, отрицательный, нейтральный);\n",
    "    – trep: количество реплаев к данному сообщению. В настоящий момент API твиттера не отдает эту информацию;\n",
    "    – tfav: число сколько раз данное сообщение было добавлено в избранное другими пользователями;\n",
    "    – tstcount: число всех сообщений пользователя в сети twitter;\n",
    "    – tfol: количество фолловеров пользователя (тех людей, которые читают пользователя);\n",
    "    – tfrien: количество друзей пользователя (те люди, которых читает пользователь);\n",
    "    – listcount: количество листов-подписок в которые добавлен твиттер-пользователь.\n"
   ]
  },
  {
   "cell_type": "code",
   "execution_count": null,
   "metadata": {},
   "outputs": [],
   "source": [
    "# # For linux/google colab users -- download directly from the notebook\n",
    "# ! wget -O tweets.csv https://www.dropbox.com/s/ou55qwyhbj1pdav/tweets.csv?dl=1 "
   ]
  },
  {
   "cell_type": "code",
   "execution_count": null,
   "metadata": {},
   "outputs": [],
   "source": [
    "df = pd.read_csv(\"data/tweets.csv\")"
   ]
  },
  {
   "cell_type": "code",
   "execution_count": null,
   "metadata": {},
   "outputs": [],
   "source": [
    "df.head()"
   ]
  },
  {
   "cell_type": "markdown",
   "metadata": {},
   "source": [
    "__Задание 16__. Создайте колонку 'tdif', равную разнице числа друзей и числа фолловеров у пользователя."
   ]
  },
  {
   "cell_type": "code",
   "execution_count": null,
   "metadata": {},
   "outputs": [],
   "source": [
    "df['tdif'] = df['tfol'] - df['tfrien']\n",
    "df.head()"
   ]
  },
  {
   "cell_type": "markdown",
   "metadata": {},
   "source": [
    "__Задание 16__. Создайте датафрейм, в котором остались только строки с чётными номерами, и пронумеруйте их начиная с 0."
   ]
  },
  {
   "cell_type": "code",
   "execution_count": null,
   "metadata": {},
   "outputs": [],
   "source": [
    "evendf = df[::2].reset_index().rename( columns={'index':'old_index'} )\n",
    "evendf.head()\n",
    "# .rename (нужно лишь для себя, чтоб увидеть, что индексы действительно только четные взялись)\n",
    "# если что уберём с помощью .drop"
   ]
  },
  {
   "cell_type": "markdown",
   "metadata": {},
   "source": [
    "__Задание 17__. Создайте датафрейм, в котором остались лишь твиты положительной тональности."
   ]
  },
  {
   "cell_type": "code",
   "execution_count": null,
   "metadata": {},
   "outputs": [],
   "source": [
    "df_positive = df[ df['ttype'] > 0]\n",
    "df_positive.head()"
   ]
  },
  {
   "cell_type": "markdown",
   "metadata": {},
   "source": [
    "__Задание 18__. Посчитайте число уникальных пользователей (пользователей с различными tmane).\n",
    "\n",
    "__Хинт__: воспользуйтесь np.unique."
   ]
  },
  {
   "cell_type": "code",
   "execution_count": null,
   "metadata": {},
   "outputs": [],
   "source": [
    "count_unique_users = df['tmane'].nunique()\n",
    "print(count_unique_users)"
   ]
  },
  {
   "cell_type": "markdown",
   "metadata": {},
   "source": [
    "__Задание 19__. Посчитайте основные статистики по числу подписчиков при помощи метода .describe(). Постройте гистограмму значений признака."
   ]
  },
  {
   "cell_type": "code",
   "execution_count": null,
   "metadata": {
    "scrolled": false
   },
   "outputs": [],
   "source": [
    "df_grouped = df[['tmane', 'tfol']].groupby('tmane').max().copy() \n",
    "# Убирает ситуацию с повторяющимся подсчетом от человека, который написал несколько твитов\n",
    "# Без этого было бы, что если 'username'  c 10 подписичиками написал 100к твитов, то его несколько раз учитывает\n",
    "descr = df_grouped['tfol'].describe()\n",
    "\n",
    "print(descr)\n",
    "\n",
    "ax = plt.gca()\n",
    "ax.set_title('Распределение количества подписчиков')\n",
    "ax.set_xlabel('Количество подписчиков на аккаунте')\n",
    "df_grouped['tfol'].hist(\n",
    "    bins=int(descr['count']//descr['mean']*4), \n",
    "    range=(descr['min'], descr['max']),\n",
    "#     column='tfol',\n",
    "    ax=ax\n",
    ")\n",
    "plt.show()\n",
    "\n",
    "ax2 = plt.gca()\n",
    "ax2.set_title('Распределение количества подписчиков 75% от всех')\n",
    "ax2.set_xlabel('Количество подписчиков на аккаунте 75% от всех')\n",
    "df_grouped['tfol'].hist(\n",
    "    bins=int(descr['count']//descr['mean']), \n",
    "    range=(descr['min'], descr['75%']),\n",
    "#     column='tfol',\n",
    "    ax=ax2\n",
    ")\n",
    "plt.show()"
   ]
  },
  {
   "cell_type": "markdown",
   "metadata": {},
   "source": [
    "__Задание 20__. Посчитайте число ретвитов в датасете (твитов, начинающихся с \"RT @\")."
   ]
  },
  {
   "cell_type": "code",
   "execution_count": null,
   "metadata": {},
   "outputs": [],
   "source": [
    "df_retweets = df[ df['ttext'].str.startswith('RT @', na=False) ] # All retweets (более объемлимо чем просто число ретвитов!)\n",
    "print(len(df_retweets))"
   ]
  },
  {
   "cell_type": "markdown",
   "metadata": {},
   "source": [
    "__Задание 21__. Назовём длинным такой твит, что его длина больше, чем не менее 80% всех твитов. Найдите число длинных твитов."
   ]
  },
  {
   "cell_type": "code",
   "execution_count": null,
   "metadata": {},
   "outputs": [],
   "source": [
    "q_len = df['ttext'].apply(len).quantile(q=0.8)\n",
    "df_longtweets = df[ df['ttext'].apply(len) > q_len ]\n",
    "print(len(df_longtweets))"
   ]
  },
  {
   "cell_type": "markdown",
   "metadata": {},
   "source": [
    "__Задание 22__. Постройте гистограмму распределения числа твитов по месяцам. В какой месяц какого года было опубликовано больше всего твитов?\n",
    "\n",
    "__Хинт__: Время в колонке tdate -- это Unix time, и оно отображает то, сколько секунд прошло с 00:00:00 1 января 1970 года. Для конвертации этого времени в удобный формат воспользуйтесь библиотекой `datetime`."
   ]
  },
  {
   "cell_type": "code",
   "execution_count": null,
   "metadata": {},
   "outputs": [],
   "source": [
    "import matplotlib.dates as mdates\n",
    "\n",
    "date_df = df[['tdate']].copy()\n",
    "date_df['date'] = pd.to_datetime(date_df['tdate'], unit='s').dt.normalize()\n",
    "date_df['date'] = date_df['date'].astype(\"datetime64\")\n",
    "\n",
    "#plot data\n",
    "fig, ax = plt.subplots(figsize=(15,4))\n",
    "fig.autofmt_xdate()\n",
    "ax.xaxis.set_major_locator(mdates.DayLocator(interval=2))\n",
    "ax.xaxis.set_major_formatter(mdates.DateFormatter('%d %b %Y'))\n",
    "ax.set_title('Количество твиттов по дням')\n",
    "ax.set_xlabel('Календарная дата')\n",
    "date_df['date'].hist(ax=ax, bins=(date_df['date'].max() - date_df['date'].min()).days)\n",
    "\n",
    "plt.show()\n",
    "\n",
    "# https://stackoverflow.com/questions/38228995/how-can-i-draw-the-histogram-of-date-values-group-by-month-in-each-year-in-pytho\n",
    "# https://scentellegher.github.io/programming/2017/05/24/pandas-bar-plot-with-formatted-dates.html"
   ]
  },
  {
   "cell_type": "markdown",
   "metadata": {},
   "source": [
    "__Вывод__: Из распределения выше можно понять несколько вещей, а также попробовать их объяснить.\n",
    "1) Во-первых, отвечая на вопрос задания, больше всего твиттов было опубликовано в декабре месяце.\n",
    "2) Во-вторых, как мы видимо пик пришелся на первую половину декабря.\n",
    "Это можно объяснить тем, что именно в то время [_начался Майдан_](https://censor.net.ua/photo_news/316008/11_dekabrya_2013_goda_osobennaya_data_v_tu_noch_mayidan_vstal_na_put_borby_i_stalo_yasno_chto_pobeda), а т.к. данная выборка по ру-твиттеру, очевидно, что именно в тот момент времени пользователи были наиболее активны.\n",
    "3) В-третьих, Новый год (т.е. 1ое января), ровно как и рождество (26 декабря или 6 января) не вызывает ажиотажа, который можно было бы предположить\n",
    "\n",
    "PS: Можно попробовать выкинуть первую половину декабря и попробовать соотнести количество твиттов с [событиями декабря-января](https://ru.wikipedia.org/wiki/Декабрь_2013_года), но проделывать такой анализ в 2к20, мне кажется, нерелевантным.\n",
    "\n",
    "Наиболее интересное явление на данном графике -- корреляция событий начала декабря и политических событий, на фоне всего остального."
   ]
  },
  {
   "cell_type": "markdown",
   "metadata": {},
   "source": [
    "__Задание 23__. Вставьте ниже смешную картинку, желательно про машинное обучение. Лучшие картинки мы наградим бонусными баллами (но это не точно).\n",
    "\n",
    "   ![The meme](https://i.imgur.com/BE3w9mu.jpg)\n",
    "\n",
    "\n",
    "( мемы про PyTorch не завезли :с )"
   ]
  },
  {
   "cell_type": "markdown",
   "metadata": {},
   "source": [
    "__Задание 999__. Напишите ниже, чего вы ждёте от курса, какой формат лекций и семинаров вам более интересен, в какие дни хотели бы поставить семинары, темы, которые хотели бы изучить, промежуточный фидбек (при наличии), а также произвольные пожелания и предложения. Мы постараемся всё это учесть.\n"
   ]
  }
 ],
 "metadata": {
  "kernelspec": {
   "display_name": "Python 3",
   "language": "python",
   "name": "python3"
  },
  "language_info": {
   "codemirror_mode": {
    "name": "ipython",
    "version": 3
   },
   "file_extension": ".py",
   "mimetype": "text/x-python",
   "name": "python",
   "nbconvert_exporter": "python",
   "pygments_lexer": "ipython3",
   "version": "3.7.3"
  }
 },
 "nbformat": 4,
 "nbformat_minor": 2
}
