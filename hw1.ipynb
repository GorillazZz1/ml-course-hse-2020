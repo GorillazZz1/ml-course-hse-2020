{
 "cells": [
  {
   "cell_type": "markdown",
   "metadata": {},
   "source": [
    "# Машинное обучение на матфаке, 2019/2020 уч. год.\n",
    "\n",
    "## Домашнее задание 1 -- numpy, pandas, matplotlib.\n",
    "\n",
    "В этом домашнем задании вам предстоит закрепить навыки работы с важнейшими для data science библиотеками -- numpy, pandas и matplotlib.\n",
    "\n",
    "Правила оценивания на вики-странице. Часть заданий необходимо сдать в [Яндекс.контест](https://contest.yandex.ru/contest/16930/problems/)"
   ]
  },
  {
   "cell_type": "code",
   "execution_count": null,
   "metadata": {},
   "outputs": [],
   "source": [
    "import numpy as np"
   ]
  },
  {
   "cell_type": "markdown",
   "metadata": {},
   "source": [
    "### Part 1. numpy\n",
    "\n",
    "Задания 1-10 оцениваются в 0.4 баллов."
   ]
  },
  {
   "cell_type": "markdown",
   "metadata": {},
   "source": [
    "__Задание 1__. Создайте несколько одномерных массивов размера $10^n$ для n от 1 до 6. из случайных чисел при помощи модуля `np.random`. Заполните их независимыми случайными величинами из нормального распределения с матожиданием 5 и дисперсией 10. "
   ]
  },
  {
   "cell_type": "code",
   "execution_count": null,
   "metadata": {},
   "outputs": [],
   "source": [
    "arr = [np.random.normal(5, 10, size=10**(i+1)) for i in range(0,6)]\n",
    "# print(arr[5])"
   ]
  },
  {
   "cell_type": "markdown",
   "metadata": {},
   "source": [
    "В заданиях 2-10 запрещается использование циклов `for` и `while` в сдаваемом вами коде. "
   ]
  },
  {
   "cell_type": "markdown",
   "metadata": {},
   "source": [
    "__Задание 2__. Сгенерируйте случайный вектор (одномерный массив) из нормального распределения со средним в нуле и произвольной дисперсией. С помощью `np.where` замените в созданном массиве все отрицательные элементы на нули."
   ]
  },
  {
   "cell_type": "code",
   "execution_count": null,
   "metadata": {},
   "outputs": [],
   "source": [
    "vec = np.random.normal(0, 1, 100)\n",
    "# print(vec)\n",
    "# print(np.where(vec < 0, 0, vec)) # -- все отрицательные превращает в 0\n",
    "# print(np.where(vec >= 0, vec, 0)) # -- все что больше положительного оставляет на месте, остальное подефолту нуль\n",
    "# первое кажется более логичным, хотя выполняет тоже самое (?)\n",
    "np.where(vec < 0, 0, vec)"
   ]
  },
  {
   "cell_type": "markdown",
   "metadata": {},
   "source": [
    "__Задание 3__. Дан массив 10х3, который будет использован как массив с цветами RGB (каждый канал обозначается целым числом от 0 до 255), однако вследствие порчи данных при передаче значения массива вышли за границы заданного диапазона. Напишите функцию clip_values, которая вышедшие за границу диапазона значения превращает в ближашие границы диапазона.\n",
    "\n",
    "__Хинт__: воспользуйтесь np.clip"
   ]
  },
  {
   "cell_type": "code",
   "execution_count": null,
   "metadata": {},
   "outputs": [],
   "source": [
    "def clip_values(image: np.ndarray) -> np.ndarray:\n",
    "    return np.clip(image, 0, 255)\n",
    "\n",
    "# [[r, g, b], [r, g, b]...]\n",
    "damaged = np.random.normal(127, 255, 30).reshape((10,3))\n",
    "print(damaged)\n",
    "fixed = clip_values(damaged)\n",
    "print(fixed)"
   ]
  },
  {
   "cell_type": "markdown",
   "metadata": {},
   "source": [
    "__Задание 4__. Сгенерируйте случайный вектор из нормального распределения со средним в нуле и произвольной дисперсией. С помощью `np.insert` в встаьте в него на четные индексы нули."
   ]
  },
  {
   "cell_type": "code",
   "execution_count": null,
   "metadata": {},
   "outputs": [],
   "source": [
    "vec = np.random.normal(0, 1, 100)\n",
    "# print(vec)\n",
    "new_vec2 = np.insert(vec, range(0, 100, 2), 0) # Вектор, которому на четные места вставили нули\n",
    "new_vec2 = np.insert(vec, range(100), 0) # Вектор, у которого на четных местах нули\n",
    "# PS: вместо range(0, 100, 2) можно использовать np.arange(0, 100, 2). (Что лучше?)\n",
    "# print(new_vec)"
   ]
  },
  {
   "cell_type": "markdown",
   "metadata": {},
   "source": [
    "__Задание 5__. Создайте случайный масиив 4х4 из нормального распределения со средним в нуле и произвольной дисперсией и верните индексы положительных элементов (`np.argwhere`)"
   ]
  },
  {
   "cell_type": "code",
   "execution_count": null,
   "metadata": {},
   "outputs": [],
   "source": [
    "matr = np.random.normal(0, 1, 16).reshape((4,4))\n",
    "print(matr)\n",
    "np.argwhere(matr > 0)"
   ]
  },
  {
   "cell_type": "markdown",
   "metadata": {},
   "source": [
    "__Задание 6__. Создайте матрицу случайных целых чисел от в интервале от 1 до 10 размера 5х5 и посчитайте следующее (сабмодуль `np.linalg`):\n",
    "\n",
    "- определитель матрицы\n",
    "- обратную матрицу\n",
    "- произведение матрицы на саму себя\n",
    "- собственные вектора\n",
    "\n"
   ]
  },
  {
   "cell_type": "code",
   "execution_count": null,
   "metadata": {
    "scrolled": true
   },
   "outputs": [],
   "source": [
    "matr = np.random.randint(1, 11, 25).reshape((5,5))\n",
    "print( 'matrix: \\n{} \\n\\n determinant {} \\n '\n",
    "      'inverse \\n {} \\n\\n'\n",
    "      'square: \\n{}\\n\\n'\n",
    "       'eigenvectors: {}'.format(matr, np.linalg.det(matr),\n",
    "            np.linalg.inv(matr),\n",
    "            matr.dot(matr),\n",
    "            np.linalg.eig(matr)) )"
   ]
  },
  {
   "cell_type": "markdown",
   "metadata": {},
   "source": [
    "Задания 7-10 необходимо сдать в [Яндекс.контест](https://contest.yandex.ru/contest/16930/problems/) и прикрепить ссылку на решение в формате `https://contest.yandex.ru/contest/xxxxx/run-report/xxxxx/`. Сдавайте задания строго в соответствии с написанной сигнатурой и возвращаемыми типами. Для сдачи необходимо отправить в соответствующую задачу файл, содержащий функции и необходимые импорты. Обратите внимание, что вам доступен только `numpy`. При сдаче выберите компилятор make. __При отсутствии ссылки на решение задание засчитано не будет!__"
   ]
  },
  {
   "cell_type": "markdown",
   "metadata": {},
   "source": [
    "__Задание 7__. Напишите функцию, которая находит сумму квадратов положительных элементов одномерного массива.\n",
    "\n",
    "__Ссылка на посылку в контесте__: https://contest.yandex.ru/contest/16930/run-report/30621657/"
   ]
  },
  {
   "cell_type": "code",
   "execution_count": null,
   "metadata": {},
   "outputs": [],
   "source": [
    "def get_squares(a: np.ndarray) -> float:\n",
    "    return np.sum(np.square(np.where(a < 0, 0, a)))\n",
    "\n",
    "assert get_squares(np.array([1,-2,3])) == 10\n",
    "\n",
    "# a = np.array([1, -2, 3])\n",
    "# print(np.sum(np.square(np.where(a < 0, 0, a))))\n",
    "\n",
    "# **LINK** `https://contest.yandex.ru/contest/16930/run-report/30621657/`"
   ]
  },
  {
   "cell_type": "markdown",
   "metadata": {},
   "source": [
    "__Задание 8__. Коля -- мастер покера и умеет выигрывать только целые суммы денег от 0 до n - 1. Коля решил сыграть на турнире. На вход подаётся массив `p` размера $n$, где `p[i]` -- вероятность, что Коля выиграет на турнире $i$ рублей ($\\sum_{i=1}^{n}p_i =1$, $p_i \\geqslant 0, \\forall i$). Посчитайте математическое ожидание выигрыша Коли на турнире.\n",
    "\n",
    "\n",
    "__Ссылка на посылку в контесте__: https://contest.yandex.ru/contest/16930/run-report/30621663/"
   ]
  },
  {
   "cell_type": "code",
   "execution_count": null,
   "metadata": {},
   "outputs": [],
   "source": [
    "def expected_reward(p: np.ndarray) -> float:\n",
    "    return p.dot(np.array(range(len(p))))\n",
    "\n",
    "assert expected_reward(np.array([0.4, 0.5, 0.1])) == 0.7\n",
    "\n",
    "# p = np.array([0.4, 0.5, 0.1])\n",
    "# print(p.dot(np.array(range(len(p)))))\n",
    "\n",
    "# **LINK** `https://contest.yandex.ru/contest/16930/run-report/30621663/`"
   ]
  },
  {
   "cell_type": "markdown",
   "metadata": {},
   "source": [
    "__Задание 9__. Дана квадратная матрица `A`. Посчитайте произведение диагональных элементов матрицы, __строго__ превосходящих среднее значение элементов всей матрицы.\n",
    "\n",
    "__Хинт__: взять диагональ матрицы -- np.diag(), произведение элементов массива -- np.prod(), среднее значение в массиве -- np.mean().\n",
    "\n",
    "__Ссылка на посылку в контесте__: https://contest.yandex.ru/contest/16930/run-report/30621668/"
   ]
  },
  {
   "cell_type": "code",
   "execution_count": null,
   "metadata": {},
   "outputs": [],
   "source": [
    "def prod_upper_avg_diagonal(a: np.ndarray) -> float:\n",
    "    diag = np.diag(a)\n",
    "    return np.prod(np.where(diag > np.mean(a), diag, 1))\n",
    "\n",
    "assert prod_upper_avg_diagonal(np.array([[ 0,  1,  2,  3],\n",
    "                                         [ 4,  5,  6,  7],\n",
    "                                         [ 8,  9, 10, 11],\n",
    "                                         [12, 13, 14, 15]])) == 150\n",
    "\n",
    "# a = np.array([[ 0,  1,  2,  3],\n",
    "#              [ 4,  5,  6,  7],\n",
    "#              [ 8,  9, 10, 11],\n",
    "#              [12, 13, 14, 15]])\n",
    "# diag = np.diag(a)\n",
    "# mean = np.mean(a)\n",
    "# print(diag)\n",
    "# print(mean)\n",
    "# print(np.prod(np.where(diag > mean, diag, 1)))\n",
    "\n",
    "# **LINK** `https://contest.yandex.ru/contest/16930/run-report/30621668/`"
   ]
  },
  {
   "cell_type": "markdown",
   "metadata": {},
   "source": [
    "__Задание 10__. Дано число $n$. Создайте матрицу $A$ размера $n \\times n$ такую, что $A[i][j] = i \\cdot j$. Нумерация строк и столбцов начинается с нуля.\n",
    "\n",
    "__Ссылка на посылку в контесте:__ https://contest.yandex.ru/contest/16930/run-report/30621681/"
   ]
  },
  {
   "cell_type": "code",
   "execution_count": null,
   "metadata": {},
   "outputs": [],
   "source": [
    "def create_ij(n: int) -> np.ndarray:\n",
    "    a = np.array(range(n)).reshape(1, -1)\n",
    "    return a.T.dot(a)\n",
    "\n",
    "assert np.all(create_ij(5) == np.array([[ 0,  0,  0,  0,  0],\n",
    "                                        [ 0,  1,  2,  3,  4],\n",
    "                                        [ 0,  2,  4,  6,  8],\n",
    "                                        [ 0,  3,  6,  9, 12],\n",
    "                                        [ 0,  4,  8, 12, 16]]))\n",
    "\n",
    "# print(create_ij(5))\n",
    "\n",
    "# **LINK** `https://contest.yandex.ru/contest/16930/run-report/30621681/`"
   ]
  },
  {
   "cell_type": "markdown",
   "metadata": {},
   "source": [
    "### Part 2. Numpy vs pure python\n",
    "\n",
    "\n",
    "__Задание 11__. (1 балл) Выберите любые 5 функций из заданий 2-10 и имплементируйте их, но без использования сторонних библиотек (считайте, что вам доступны только стандартные библиотеки языка Питон и на вход вместо массивов подаются питоновские списки)."
   ]
  },
  {
   "cell_type": "code",
   "execution_count": null,
   "metadata": {},
   "outputs": [],
   "source": [
    "import random\n",
    "\n",
    "#1 Task 1\n",
    "def normal_distr(n):\n",
    "    return [random.gauss(0, 1) for _ in range(n)]\n",
    "    \n",
    "def without_negatives(arr):\n",
    "    return [max(x, 0) for x in arr]\n",
    "\n",
    "#2 Task 5\n",
    "def create_gauss_sq_matrix(n):\n",
    "    return [[random.gauss(0, 1) for _ in range(n)] for _ in range(n)]\n",
    "\n",
    "def where_positive(matr):\n",
    "    ans = []\n",
    "    for i in range(len(matr)):\n",
    "        for j in range(len(matr)):\n",
    "            if matr[i][j] > 0:\n",
    "                ans.append([i, j])\n",
    "    return ans\n",
    "# m = create_gauss_sq_matrix(4)\n",
    "# print(m)\n",
    "# print(where_positive(m))\n",
    "\n",
    "#3 Task 7 сумму квадратов положительных элементов одномерного массива.\n",
    "def py_get_squares(arr):\n",
    "    return sum([a*a for a in arr if a > 0])\n",
    "# print(py_get_squares([1,-2,3]))\n",
    "\n",
    "#4 Task 8\n",
    "def py_expected_reward(prob_arr):\n",
    "    ans = 0\n",
    "    for p in range(len(prob_arr)):\n",
    "        ans += p*prob_arr[p]\n",
    "    return ans\n",
    "# print(py_expected_reward([0.4, 0.5, 0.1]))\n",
    "\n",
    "#5 Task 10\n",
    "def py_create_ij(n: int):\n",
    "    arr = []\n",
    "    for i in range(n):\n",
    "        row = []\n",
    "        for j in range(n):\n",
    "            row.append(i*j)\n",
    "        arr.append(row)\n",
    "    return arr\n",
    "# print(py_create_ij(5))"
   ]
  },
  {
   "cell_type": "markdown",
   "metadata": {},
   "source": [
    "__Задание 12__. (3 балла) Сравните время работы векторизованных функций с обычными. Для этого постройте графики зависимости времени исполнения функции от размера входного массива. Перебирайте значения от 1 до $10^6$ по логарифмической шкале. Сделайте выводы.\n",
    "\n",
    "__Графики должны быть опрятными!__. Подписывайте оси, и единицы измерения, указывайте легенду и название графика. Оценка за задание с неопрятными графиками может быть снижена! Сравнение плохого и хорошего графиков:"
   ]
  },
  {
   "cell_type": "code",
   "execution_count": 14,
   "metadata": {},
   "outputs": [],
   "source": [
    "import sys\n",
    "import timeit # https://stackoverflow.com/questions/8220801/how-to-use-timeit-module/29512249\n",
    "import matplotlib.pyplot as plt # для графико\n",
    "plt.ioff()\n",
    "\n",
    "import numpy as np\n",
    "\n",
    "# def compared_plot(legend=''):\n",
    "#     pass\n",
    "\n",
    "def timings_and_plot(pure_py_func, np_func, args_func, title=\"Simple Plot\", \n",
    "                     number=5, low=1, high=6, base=10, samples=13):\n",
    "    '''\n",
    "        pure_py_func -- функция чистого питона, без NP\n",
    "        np_func -- функция NP\n",
    "        args_func -- лямбда функция, которая генерирует входные данные для pure_py_func и np_func\n",
    "                        по сути, функнция-генератор // generation function of input\n",
    "        title -- легенда(название) нашего графика (подПИСЬКА сверху) // забавно, что legend, т.е. легенда графика у matplot это совсем НЕ легенда, а название это легенда [fun facts at 6am]\n",
    "        number -- timeit.timeit(... -->number= <-- ) вот этот номер, \" method with number executions\"\n",
    "                    \"сколько раз выполняется функция\" // https://docs.python.org/3/library/timeit.html\n",
    "        low -- нижнее значение степени base\n",
    "        high -- верхнее значение степени base\n",
    "        base -- \"база\" логарифма\n",
    "        samples -- сколько точек \n",
    "    '''\n",
    "    logspace = np.logspace(low, high, num=samples, base=base) # log space of dots (basicly axis X)\n",
    "    pure_time = [] # timings of Py\n",
    "    numpy_time = [] # timings of NumPy\n",
    "    \n",
    "    for s in logspace:\n",
    "        args = args_func(int(s))\n",
    "        pure_time.append(timeit.timeit(lambda: pure_py_func(*args), number=number) / number)\n",
    "        numpy_time.append(timeit.timeit(lambda: np_func(*args), number=number) / number)\n",
    "#         print(s)\n",
    "#         print(logspace)\n",
    "#         print(pure_time)\n",
    "#         print(numpy_time)\n",
    "#         print('\\n')\n",
    "\n",
    "    \n",
    "    normal = plt.gca()\n",
    "    normal.set_title(title)\n",
    "    normal.set_ylabel('time')\n",
    "    normal.set_xlabel('size of input')\n",
    "    normal.plot(logspace, pure_time, label='Pure Python', marker='o')\n",
    "    normal.plot(logspace, numpy_time, label='NumPy', marker='o')\n",
    "    plt.legend()\n",
    "    plt.show()\n",
    "    \n",
    "#     ToDo: https://stackoverflow.com/questions/773814/plot-logarithmic-axes-with-matplotlib-in-python\n",
    "#             Надо подумать как правильно тут логарифм шкалу сделать! \n",
    "    logsized = plt.gca()\n",
    "    logsized.set_title('Log scale')\n",
    "    logsized.set_ylabel('time')\n",
    "    logsized.set_xlabel('size of input')\n",
    "#     logsized.set_yscale('log')\n",
    "    logsized.set_xscale('log')\n",
    "    logsized.plot(logspace, pure_time, label='Pure Python', marker='o')\n",
    "    logsized.plot(logspace, numpy_time, label='NumPy', marker='o')\n",
    "    plt.show()    \n",
    "        "
   ]
  },
  {
   "cell_type": "markdown",
   "metadata": {},
   "source": [
    "__Хинт__: воспользуйтесь библиотекой `time` или мэджиком `%timeit`."
   ]
  },
  {
   "cell_type": "markdown",
   "metadata": {},
   "source": [
    "__Замечание__: Далее будет производиться сравнение быстроты работы функций с использыванием `timings_and_plot(...)`.\n",
    "Для удобства функции будут продублированы, они будут в точности повторять написанные функции в заданиях 2-10.\n",
    "Функции, начинающиеся с `np_` -- это функции, которые написаны с использыванием NumPy, а функции, которые начинаются с `pp_` -- это функции чистого питона, он же PurePython."
   ]
  },
  {
   "cell_type": "code",
   "execution_count": 17,
   "metadata": {},
   "outputs": [
    {
     "data": {
      "image/png": "[encoded data removed]",
      "text/plain": [
       "<Figure size 432x288 with 1 Axes>"
      ]
     },
     "metadata": {
      "needs_background": "light"
     },
     "output_type": "display_data"
    },
    {
     "data": {
      "image/png": "[encoded data removed]",
      "text/plain": [
       "<Figure size 432x288 with 1 Axes>"
      ]
     },
     "metadata": {
      "needs_background": "light"
     },
     "output_type": "display_data"
    }
   ],
   "source": [
    "#             PurePy vs NumPy\n",
    "# Task 0: _Нормальное распределение_\n",
    "# Первым(нулевым) шагом хочется выяснить с помощью чего генерировать случайные числа быстрее\n",
    "\n",
    "import random\n",
    "\n",
    "def np_normal_gaus(n):\n",
    "    return np.random.normal(0, 1, n)\n",
    "\n",
    "def pp_normal_gaus(n):\n",
    "    return [random.gauss(0, 1) for _ in range(n)]\n",
    "\n",
    "timings_and_plot(pp_normal_gaus, np_normal_gaus, lambda n: (n,), title=\"Normal distribution generation\")"
   ]
  },
  {
   "cell_type": "markdown",
   "metadata": {},
   "source": [
    "_Вывод 0_: Случаные распределения быстрее генерирует NumPy, в дальнейшем будем его и использовать для данной задачи."
   ]
  },
  {
   "cell_type": "code",
   "execution_count": 5,
   "metadata": {},
   "outputs": [
    {
     "data": {
      "image/png": "[encoded data removed]",
      "text/plain": [
       "<Figure size 432x288 with 1 Axes>"
      ]
     },
     "metadata": {
      "needs_background": "light"
     },
     "output_type": "display_data"
    },
    {
     "data": {
      "image/png": "[encoded data removed]",
      "text/plain": [
       "<Figure size 432x288 with 1 Axes>"
      ]
     },
     "metadata": {
      "needs_background": "light"
     },
     "output_type": "display_data"
    }
   ],
   "source": [
    "#             PurePy vs NumPy\n",
    "# Task 1: _Удаление отрицательных чисел из распределение_\n",
    "# Постановка: на вход подается массив, необходимо вместо отрицательных чисел написать нули.\n",
    "\n",
    "def np_wo_negative(vec):\n",
    "    return np.where(vec < 0, 0, vec)\n",
    "\n",
    "def pp_wo_negative(vec):\n",
    "    return [max(x, 0) for x in vec]\n",
    "\n",
    "timings_and_plot(pp_wo_negative, np_wo_negative, lambda n: (np.random.normal(0, 1, n),),\n",
    "                 title=\"Replacing negative numbers with zero\")"
   ]
  },
  {
   "cell_type": "code",
   "execution_count": 6,
   "metadata": {},
   "outputs": [
    {
     "data": {
      "image/png": "[encoded data removed]",
      "text/plain": [
       "<Figure size 432x288 with 1 Axes>"
      ]
     },
     "metadata": {
      "needs_background": "light"
     },
     "output_type": "display_data"
    },
    {
     "data": {
      "image/png": "[encoded data removed]",
      "text/plain": [
       "<Figure size 432x288 with 1 Axes>"
      ]
     },
     "metadata": {
      "needs_background": "light"
     },
     "output_type": "display_data"
    }
   ],
   "source": [
    "#             PurePy vs NumPy\n",
    "# Task 2: _Удаление отрицательных чисел из распределение_\n",
    "# Постановка: на вход подается массив, необходимо вместо отрицательных чисел написать нули.\n",
    "\n",
    "def np_positive_indexes(matr):\n",
    "    return np.argwhere(matr > 0)\n",
    "\n",
    "def pp_positive_indexes(matr):\n",
    "    ans = []\n",
    "    for i in range(len(matr)):\n",
    "        for j in range(len(matr)):\n",
    "            if matr[i][j] > 0:\n",
    "                ans.append([i, j])\n",
    "    return ans\n",
    "\n",
    "timings_and_plot(pp_positive_indexes, np_positive_indexes, \n",
    "                 lambda n: (np.random.normal(0, 1, n*n).reshape((n,n)),),\n",
    "                 title=\"Getting positive indexes\", high=3, s)\n",
    "# O(n^2) => (10^3)^2"
   ]
  },
  {
   "cell_type": "code",
   "execution_count": 16,
   "metadata": {},
   "outputs": [
    {
     "data": {
      "image/png": "[encoded data removed]",
      "text/plain": [
       "<Figure size 432x288 with 1 Axes>"
      ]
     },
     "metadata": {
      "needs_background": "light"
     },
     "output_type": "display_data"
    },
    {
     "data": {
      "image/png": "[encoded data removed]",
      "text/plain": [
       "<Figure size 432x288 with 1 Axes>"
      ]
     },
     "metadata": {
      "needs_background": "light"
     },
     "output_type": "display_data"
    }
   ],
   "source": [
    "#             PurePy vs NumPy\n",
    "# Task 3: _Сумма квадратов положительных элементов_\n",
    "# Постановка: на вход подается массив, необходимо взять сумму квадратов всех его положительных элементов.\n",
    "\n",
    "def np_positive_sum(arr):\n",
    "    return np.sum(np.square(np.where(arr < 0, 0, arr)))\n",
    "\n",
    "def pp_positive_sum(arr):\n",
    "    return sum([a*a for a in arr if a > 0])\n",
    "\n",
    "\n",
    "timings_and_plot(pp_positive_sum, np_positive_sum, \n",
    "                 lambda n: (np.random.randint(0, 10**3, n), ),\n",
    "                 title=\"Sum of positive integers in array\")"
   ]
  },
  {
   "cell_type": "code",
   "execution_count": 18,
   "metadata": {},
   "outputs": [
    {
     "data": {
      "image/png": "[encoded data removed]",
      "text/plain": [
       "<Figure size 432x288 with 1 Axes>"
      ]
     },
     "metadata": {
      "needs_background": "light"
     },
     "output_type": "display_data"
    },
    {
     "data": {
      "image/png": "[encoded data removed]",
      "text/plain": [
       "<Figure size 432x288 with 1 Axes>"
      ]
     },
     "metadata": {
      "needs_background": "light"
     },
     "output_type": "display_data"
    }
   ],
   "source": [
    "#             PurePy vs NumPy\n",
    "# Task 4: _Математическое ожидание_\n",
    "# Постановка: на вход подается массив вероятностей, необходимо взять сумму его элементов умноженных на индекс, т.е. мат.ожидание.\n",
    "\n",
    "def np_expected_reward(prob_arr):\n",
    "    return prob_arr.dot(np.array(range(len(prob_arr))))\n",
    "\n",
    "def pp_expected_reward(prob_arr):\n",
    "    ans = 0\n",
    "    for p in range(len(prob_arr)):\n",
    "        ans += p*prob_arr[p]\n",
    "    return ans\n",
    "\n",
    "timings_and_plot(pp_expected_reward, np_expected_reward, \n",
    "                 lambda n: (np.random.normal(0, 1, n), ), # тут мог быть бы более умный генератор, который проверял бы что сумма всех вероятностей единица и прочее,\n",
    "                                                          # но нас интересует время работы от длины входа, поэтому можем использовать вот такую глупую\" версию\n",
    "                 title=\"Expected \")"
   ]
  },
  {
   "cell_type": "code",
   "execution_count": 20,
   "metadata": {},
   "outputs": [
    {
     "ename": "TypeError",
     "evalue": "object of type 'int' has no len()",
     "output_type": "error",
     "traceback": [
      "\u001b[0;31m---------------------------------------------------------------------------\u001b[0m",
      "\u001b[0;31mTypeError\u001b[0m                                 Traceback (most recent call last)",
      "\u001b[0;32m<ipython-input-20-baa22e954384>\u001b[0m in \u001b[0;36m<module>\u001b[0;34m\u001b[0m\n\u001b[1;32m     18\u001b[0m timings_and_plot(pp_expected_reward, np_expected_reward, \n\u001b[1;32m     19\u001b[0m                  \u001b[0;32mlambda\u001b[0m \u001b[0mn\u001b[0m\u001b[0;34m:\u001b[0m \u001b[0;34m(\u001b[0m\u001b[0mn\u001b[0m\u001b[0;34m,\u001b[0m \u001b[0;34m)\u001b[0m\u001b[0;34m,\u001b[0m\u001b[0;34m\u001b[0m\u001b[0;34m\u001b[0m\u001b[0m\n\u001b[0;32m---> 20\u001b[0;31m                  title=\"Creating ij matrix\", high=3)\n\u001b[0m",
      "\u001b[0;32m<ipython-input-14-160f7d24930e>\u001b[0m in \u001b[0;36mtimings_and_plot\u001b[0;34m(pure_py_func, np_func, args_func, title, number, low, high, base, samples)\u001b[0m\n\u001b[1;32m     30\u001b[0m     \u001b[0;32mfor\u001b[0m \u001b[0ms\u001b[0m \u001b[0;32min\u001b[0m \u001b[0mlogspace\u001b[0m\u001b[0;34m:\u001b[0m\u001b[0;34m\u001b[0m\u001b[0;34m\u001b[0m\u001b[0m\n\u001b[1;32m     31\u001b[0m         \u001b[0margs\u001b[0m \u001b[0;34m=\u001b[0m \u001b[0margs_func\u001b[0m\u001b[0;34m(\u001b[0m\u001b[0mint\u001b[0m\u001b[0;34m(\u001b[0m\u001b[0ms\u001b[0m\u001b[0;34m)\u001b[0m\u001b[0;34m)\u001b[0m\u001b[0;34m\u001b[0m\u001b[0;34m\u001b[0m\u001b[0m\n\u001b[0;32m---> 32\u001b[0;31m         \u001b[0mpure_time\u001b[0m\u001b[0;34m.\u001b[0m\u001b[0mappend\u001b[0m\u001b[0;34m(\u001b[0m\u001b[0mtimeit\u001b[0m\u001b[0;34m.\u001b[0m\u001b[0mtimeit\u001b[0m\u001b[0;34m(\u001b[0m\u001b[0;32mlambda\u001b[0m\u001b[0;34m:\u001b[0m \u001b[0mpure_py_func\u001b[0m\u001b[0;34m(\u001b[0m\u001b[0;34m*\u001b[0m\u001b[0margs\u001b[0m\u001b[0;34m)\u001b[0m\u001b[0;34m,\u001b[0m \u001b[0mnumber\u001b[0m\u001b[0;34m=\u001b[0m\u001b[0mnumber\u001b[0m\u001b[0;34m)\u001b[0m \u001b[0;34m/\u001b[0m \u001b[0mnumber\u001b[0m\u001b[0;34m)\u001b[0m\u001b[0;34m\u001b[0m\u001b[0;34m\u001b[0m\u001b[0m\n\u001b[0m\u001b[1;32m     33\u001b[0m         \u001b[0mnumpy_time\u001b[0m\u001b[0;34m.\u001b[0m\u001b[0mappend\u001b[0m\u001b[0;34m(\u001b[0m\u001b[0mtimeit\u001b[0m\u001b[0;34m.\u001b[0m\u001b[0mtimeit\u001b[0m\u001b[0;34m(\u001b[0m\u001b[0;32mlambda\u001b[0m\u001b[0;34m:\u001b[0m \u001b[0mnp_func\u001b[0m\u001b[0;34m(\u001b[0m\u001b[0;34m*\u001b[0m\u001b[0margs\u001b[0m\u001b[0;34m)\u001b[0m\u001b[0;34m,\u001b[0m \u001b[0mnumber\u001b[0m\u001b[0;34m=\u001b[0m\u001b[0mnumber\u001b[0m\u001b[0;34m)\u001b[0m \u001b[0;34m/\u001b[0m \u001b[0mnumber\u001b[0m\u001b[0;34m)\u001b[0m\u001b[0;34m\u001b[0m\u001b[0;34m\u001b[0m\u001b[0m\n\u001b[1;32m     34\u001b[0m \u001b[0;31m#         print(s)\u001b[0m\u001b[0;34m\u001b[0m\u001b[0;34m\u001b[0m\u001b[0;34m\u001b[0m\u001b[0m\n",
      "\u001b[0;32m/anaconda3/lib/python3.7/timeit.py\u001b[0m in \u001b[0;36mtimeit\u001b[0;34m(stmt, setup, timer, number, globals)\u001b[0m\n\u001b[1;32m    230\u001b[0m            number=default_number, globals=None):\n\u001b[1;32m    231\u001b[0m     \u001b[0;34m\"\"\"Convenience function to create Timer object and call timeit method.\"\"\"\u001b[0m\u001b[0;34m\u001b[0m\u001b[0;34m\u001b[0m\u001b[0m\n\u001b[0;32m--> 232\u001b[0;31m     \u001b[0;32mreturn\u001b[0m \u001b[0mTimer\u001b[0m\u001b[0;34m(\u001b[0m\u001b[0mstmt\u001b[0m\u001b[0;34m,\u001b[0m \u001b[0msetup\u001b[0m\u001b[0;34m,\u001b[0m \u001b[0mtimer\u001b[0m\u001b[0;34m,\u001b[0m \u001b[0mglobals\u001b[0m\u001b[0;34m)\u001b[0m\u001b[0;34m.\u001b[0m\u001b[0mtimeit\u001b[0m\u001b[0;34m(\u001b[0m\u001b[0mnumber\u001b[0m\u001b[0;34m)\u001b[0m\u001b[0;34m\u001b[0m\u001b[0;34m\u001b[0m\u001b[0m\n\u001b[0m\u001b[1;32m    233\u001b[0m \u001b[0;34m\u001b[0m\u001b[0m\n\u001b[1;32m    234\u001b[0m def repeat(stmt=\"pass\", setup=\"pass\", timer=default_timer,\n",
      "\u001b[0;32m/anaconda3/lib/python3.7/timeit.py\u001b[0m in \u001b[0;36mtimeit\u001b[0;34m(self, number)\u001b[0m\n\u001b[1;32m    174\u001b[0m         \u001b[0mgc\u001b[0m\u001b[0;34m.\u001b[0m\u001b[0mdisable\u001b[0m\u001b[0;34m(\u001b[0m\u001b[0;34m)\u001b[0m\u001b[0;34m\u001b[0m\u001b[0;34m\u001b[0m\u001b[0m\n\u001b[1;32m    175\u001b[0m         \u001b[0;32mtry\u001b[0m\u001b[0;34m:\u001b[0m\u001b[0;34m\u001b[0m\u001b[0;34m\u001b[0m\u001b[0m\n\u001b[0;32m--> 176\u001b[0;31m             \u001b[0mtiming\u001b[0m \u001b[0;34m=\u001b[0m \u001b[0mself\u001b[0m\u001b[0;34m.\u001b[0m\u001b[0minner\u001b[0m\u001b[0;34m(\u001b[0m\u001b[0mit\u001b[0m\u001b[0;34m,\u001b[0m \u001b[0mself\u001b[0m\u001b[0;34m.\u001b[0m\u001b[0mtimer\u001b[0m\u001b[0;34m)\u001b[0m\u001b[0;34m\u001b[0m\u001b[0;34m\u001b[0m\u001b[0m\n\u001b[0m\u001b[1;32m    177\u001b[0m         \u001b[0;32mfinally\u001b[0m\u001b[0;34m:\u001b[0m\u001b[0;34m\u001b[0m\u001b[0;34m\u001b[0m\u001b[0m\n\u001b[1;32m    178\u001b[0m             \u001b[0;32mif\u001b[0m \u001b[0mgcold\u001b[0m\u001b[0;34m:\u001b[0m\u001b[0;34m\u001b[0m\u001b[0;34m\u001b[0m\u001b[0m\n",
      "\u001b[0;32m/anaconda3/lib/python3.7/timeit.py\u001b[0m in \u001b[0;36minner\u001b[0;34m(_it, _timer, _stmt)\u001b[0m\n",
      "\u001b[0;32m<ipython-input-14-160f7d24930e>\u001b[0m in \u001b[0;36m<lambda>\u001b[0;34m()\u001b[0m\n\u001b[1;32m     30\u001b[0m     \u001b[0;32mfor\u001b[0m \u001b[0ms\u001b[0m \u001b[0;32min\u001b[0m \u001b[0mlogspace\u001b[0m\u001b[0;34m:\u001b[0m\u001b[0;34m\u001b[0m\u001b[0;34m\u001b[0m\u001b[0m\n\u001b[1;32m     31\u001b[0m         \u001b[0margs\u001b[0m \u001b[0;34m=\u001b[0m \u001b[0margs_func\u001b[0m\u001b[0;34m(\u001b[0m\u001b[0mint\u001b[0m\u001b[0;34m(\u001b[0m\u001b[0ms\u001b[0m\u001b[0;34m)\u001b[0m\u001b[0;34m)\u001b[0m\u001b[0;34m\u001b[0m\u001b[0;34m\u001b[0m\u001b[0m\n\u001b[0;32m---> 32\u001b[0;31m         \u001b[0mpure_time\u001b[0m\u001b[0;34m.\u001b[0m\u001b[0mappend\u001b[0m\u001b[0;34m(\u001b[0m\u001b[0mtimeit\u001b[0m\u001b[0;34m.\u001b[0m\u001b[0mtimeit\u001b[0m\u001b[0;34m(\u001b[0m\u001b[0;32mlambda\u001b[0m\u001b[0;34m:\u001b[0m \u001b[0mpure_py_func\u001b[0m\u001b[0;34m(\u001b[0m\u001b[0;34m*\u001b[0m\u001b[0margs\u001b[0m\u001b[0;34m)\u001b[0m\u001b[0;34m,\u001b[0m \u001b[0mnumber\u001b[0m\u001b[0;34m=\u001b[0m\u001b[0mnumber\u001b[0m\u001b[0;34m)\u001b[0m \u001b[0;34m/\u001b[0m \u001b[0mnumber\u001b[0m\u001b[0;34m)\u001b[0m\u001b[0;34m\u001b[0m\u001b[0;34m\u001b[0m\u001b[0m\n\u001b[0m\u001b[1;32m     33\u001b[0m         \u001b[0mnumpy_time\u001b[0m\u001b[0;34m.\u001b[0m\u001b[0mappend\u001b[0m\u001b[0;34m(\u001b[0m\u001b[0mtimeit\u001b[0m\u001b[0;34m.\u001b[0m\u001b[0mtimeit\u001b[0m\u001b[0;34m(\u001b[0m\u001b[0;32mlambda\u001b[0m\u001b[0;34m:\u001b[0m \u001b[0mnp_func\u001b[0m\u001b[0;34m(\u001b[0m\u001b[0;34m*\u001b[0m\u001b[0margs\u001b[0m\u001b[0;34m)\u001b[0m\u001b[0;34m,\u001b[0m \u001b[0mnumber\u001b[0m\u001b[0;34m=\u001b[0m\u001b[0mnumber\u001b[0m\u001b[0;34m)\u001b[0m \u001b[0;34m/\u001b[0m \u001b[0mnumber\u001b[0m\u001b[0;34m)\u001b[0m\u001b[0;34m\u001b[0m\u001b[0;34m\u001b[0m\u001b[0m\n\u001b[1;32m     34\u001b[0m \u001b[0;31m#         print(s)\u001b[0m\u001b[0;34m\u001b[0m\u001b[0;34m\u001b[0m\u001b[0;34m\u001b[0m\u001b[0m\n",
      "\u001b[0;32m<ipython-input-18-04043652f735>\u001b[0m in \u001b[0;36mpp_expected_reward\u001b[0;34m(prob_arr)\u001b[0m\n\u001b[1;32m      8\u001b[0m \u001b[0;32mdef\u001b[0m \u001b[0mpp_expected_reward\u001b[0m\u001b[0;34m(\u001b[0m\u001b[0mprob_arr\u001b[0m\u001b[0;34m)\u001b[0m\u001b[0;34m:\u001b[0m\u001b[0;34m\u001b[0m\u001b[0;34m\u001b[0m\u001b[0m\n\u001b[1;32m      9\u001b[0m     \u001b[0mans\u001b[0m \u001b[0;34m=\u001b[0m \u001b[0;36m0\u001b[0m\u001b[0;34m\u001b[0m\u001b[0;34m\u001b[0m\u001b[0m\n\u001b[0;32m---> 10\u001b[0;31m     \u001b[0;32mfor\u001b[0m \u001b[0mp\u001b[0m \u001b[0;32min\u001b[0m \u001b[0mrange\u001b[0m\u001b[0;34m(\u001b[0m\u001b[0mlen\u001b[0m\u001b[0;34m(\u001b[0m\u001b[0mprob_arr\u001b[0m\u001b[0;34m)\u001b[0m\u001b[0;34m)\u001b[0m\u001b[0;34m:\u001b[0m\u001b[0;34m\u001b[0m\u001b[0;34m\u001b[0m\u001b[0m\n\u001b[0m\u001b[1;32m     11\u001b[0m         \u001b[0mans\u001b[0m \u001b[0;34m+=\u001b[0m \u001b[0mp\u001b[0m\u001b[0;34m*\u001b[0m\u001b[0mprob_arr\u001b[0m\u001b[0;34m[\u001b[0m\u001b[0mp\u001b[0m\u001b[0;34m]\u001b[0m\u001b[0;34m\u001b[0m\u001b[0;34m\u001b[0m\u001b[0m\n\u001b[1;32m     12\u001b[0m     \u001b[0;32mreturn\u001b[0m \u001b[0mans\u001b[0m\u001b[0;34m\u001b[0m\u001b[0;34m\u001b[0m\u001b[0m\n",
      "\u001b[0;31mTypeError\u001b[0m: object of type 'int' has no len()"
     ]
    }
   ],
   "source": [
    "#             PurePy vs NumPy\n",
    "# Task 4: _Создание ij-матрицы_\n",
    "# Постановка: на вход число, необходимо создать матрицу M n*n такую, что M_ij = i*j\n",
    "\n",
    "def np_create_ij(n):\n",
    "    a = np.array(range(n)).reshape(1, -1)\n",
    "    return a.T.dot(a)\n",
    "\n",
    "def pp_create_ij(n):\n",
    "    arr = []\n",
    "    for i in range(n):\n",
    "        row = []\n",
    "        for j in range(n):\n",
    "            row.append(i*j)\n",
    "        arr.append(row)\n",
    "    return arr\n",
    "\n",
    "timings_and_plot(pp_create_ij, np_create_ij, \n",
    "                 lambda n: (n, ),\n",
    "                 title=\"Creating ij matrix\", high=3)"
   ]
  },
  {
   "cell_type": "markdown",
   "metadata": {},
   "source": [
    "__Вывод__:"
   ]
  },
  {
   "cell_type": "markdown",
   "metadata": {},
   "source": [
    "### Part 3. Pandas.\n",
    "\n",
    "Задания 13-22 оцениваются в 0.4 баллов.  В заданиях 13-22 запрещается пользоваться циклами `for` и `while` в сдаваемом вами коде. Задания 13-15 также сдаются в контест с компилятором python3.6+numpy+pandas. В конце сдаваемого вами файла должны быть строки\n",
    "```\n",
    "import sys\n",
    "exec(sys.stdin.read())\n",
    "```"
   ]
  },
  {
   "cell_type": "code",
   "execution_count": null,
   "metadata": {},
   "outputs": [],
   "source": [
    "import pandas as pd"
   ]
  },
  {
   "cell_type": "markdown",
   "metadata": {},
   "source": [
    "__Задание 13__, Дан датафрейм, в котором существует колонка 'email' (строка, длиной не более 255). Напишите функцию, которая в заданном датафрейме заменяет все невалидные email'ы на \"unknown@unknown.com\". Валидным сичтается емэйл, выглядящий как `[name]@[subdomain].[domain]`, где `[name]` -- строка, содержащая латинский буквы, точки и знаки `-` и `_`, `[subdomain]` и `[domain]` -- строки, содержащие только латинские буквы и цифры. Длина строки `[domain]` -- не больше 8 символов.\n",
    "\n",
    "__Хинт__. Вопспользуйтесь методом .apply(), в который передайте функцию для обрабоки одного email'a.\n",
    "\n",
    "\n",
    "__Ссылка на посылку в контесте:__"
   ]
  },
  {
   "cell_type": "code",
   "execution_count": null,
   "metadata": {},
   "outputs": [],
   "source": [
    "def reset_emails(df: pd.DataFrame) -> pd.DataFrame:\n",
    "    # remark: надо использовать регулярные выражения\n",
    "    ### YOUR CODE\n",
    "    pass\n",
    "\n",
    "import sys\n",
    "exec(sys.stdin.read())"
   ]
  },
  {
   "cell_type": "markdown",
   "metadata": {},
   "source": [
    "__Задание 14__. Дан датафрейм, в котором существуют колонки 'age' (возраст в годах, целое число) и 'income' (дробное число). Напишите функцию, которая вернёт средний заработок людей младше 18 лет.\n",
    "\n",
    "__Ссылка на посылку в контесте:__"
   ]
  },
  {
   "cell_type": "code",
   "execution_count": null,
   "metadata": {},
   "outputs": [],
   "source": [
    "def get_mean_income(df: pd.DataFrame) -> float:\n",
    "    ### YOUR CODE\n",
    "    pass"
   ]
  },
  {
   "cell_type": "markdown",
   "metadata": {},
   "source": [
    "__Задание 15__. Дан датафрейм, в котором существуют колонки 'id' (идентификатор пользователя, целое положительное число), 'age' (возвраст в годах, целое число), 'sex' (пол пользователя, строка, равная либо \"Male\", либо \"Female\", либо \"Other\"), \"favorite_color\" (любимый цвет пользователя, строка длиной не более 255). Найдите число различных любимых цветов у женщин младше 18 лет.\n",
    "\n",
    "__Ссылка на посылку в контесте__:"
   ]
  },
  {
   "cell_type": "code",
   "execution_count": null,
   "metadata": {},
   "outputs": [],
   "source": [
    "def get_fav_colosr(df: pd.DataFrame) -> int:\n",
    "    ### YOUR CODE\n",
    "    pass"
   ]
  },
  {
   "cell_type": "code",
   "execution_count": null,
   "metadata": {},
   "outputs": [],
   "source": []
  },
  {
   "cell_type": "markdown",
   "metadata": {},
   "source": [
    "### Part 4. EDA with pandas.\n",
    "\n",
    "В этом задании предлагается сделать разведочный анализ данных в датафрейме. \n",
    "\n",
    "Мы будем работать с датасетом русскоязычных твитов. Скачайте данные по ссылке: https://www.dropbox.com/s/ou55qwyhbj1pdav/tweets.csv?dl=1\n",
    "\n",
    "Корпус состоит из 12 столбцов:\n",
    "\n",
    "    – id: уникальный номер сообщения в системе twitter;\n",
    "    – tdate: дата публикации сообщения (твита);\n",
    "    – tmane: имя пользователя, опубликовавшего сообщение;\n",
    "    – ttext:  текст сообщения (твита);\n",
    "    – ttype: поле в котором в дальнейшем будет указано к кому классу относится твит (положительный, отрицательный, нейтральный);\n",
    "    – trep: количество реплаев к данному сообщению. В настоящий момент API твиттера не отдает эту информацию;\n",
    "    – tfav: число сколько раз данное сообщение было добавлено в избранное другими пользователями;\n",
    "    – tstcount: число всех сообщений пользователя в сети twitter;\n",
    "    – tfol: количество фолловеров пользователя (тех людей, которые читают пользователя);\n",
    "    – tfrien: количество друзей пользователя (те люди, которых читает пользователь);\n",
    "    – listcount: количество листов-подписок в которые добавлен твиттер-пользователь.\n"
   ]
  },
  {
   "cell_type": "code",
   "execution_count": null,
   "metadata": {},
   "outputs": [],
   "source": [
    "# For linux/google colab users -- download directly from the notebook\n",
    "! wget -O tweets.csv https://www.dropbox.com/s/ou55qwyhbj1pdav/tweets.csv?dl=1 "
   ]
  },
  {
   "cell_type": "code",
   "execution_count": null,
   "metadata": {},
   "outputs": [],
   "source": [
    "df = pd.read_csv(\"./tweets.csv\")"
   ]
  },
  {
   "cell_type": "code",
   "execution_count": null,
   "metadata": {},
   "outputs": [],
   "source": [
    "df.head()"
   ]
  },
  {
   "cell_type": "markdown",
   "metadata": {},
   "source": [
    "__Задание 16__. Создайте колонку 'tdif', равную разнице числа друзей и числа фолловеров у пользователя."
   ]
  },
  {
   "cell_type": "code",
   "execution_count": null,
   "metadata": {},
   "outputs": [],
   "source": [
    "### YOUR CODE"
   ]
  },
  {
   "cell_type": "markdown",
   "metadata": {},
   "source": [
    "__Задание 16__. Создайте датафрейм, в котором остались только строки с чётными номерами, и пронумеруйте их начиная с 0."
   ]
  },
  {
   "cell_type": "code",
   "execution_count": null,
   "metadata": {},
   "outputs": [],
   "source": [
    "### YOUR CODE"
   ]
  },
  {
   "cell_type": "markdown",
   "metadata": {},
   "source": [
    "__Задание 17__. Создайте датафрейм, в котором остались лишь твиты положительной тональности."
   ]
  },
  {
   "cell_type": "code",
   "execution_count": null,
   "metadata": {},
   "outputs": [],
   "source": [
    "### YOUR CODE"
   ]
  },
  {
   "cell_type": "markdown",
   "metadata": {},
   "source": [
    "__Задание 18__. Посчитайте число уникальных пользователей (пользователей с различными tmane).\n",
    "\n",
    "__Хинт__: воспользуйтесь np.unique."
   ]
  },
  {
   "cell_type": "code",
   "execution_count": null,
   "metadata": {},
   "outputs": [],
   "source": [
    "### YOUR CODE"
   ]
  },
  {
   "cell_type": "markdown",
   "metadata": {},
   "source": [
    "__Задание 19__. Посчитайте основные статистики по числу подписчиков при помощи метода .describe(). Постройте гистограмму значений признака."
   ]
  },
  {
   "cell_type": "code",
   "execution_count": null,
   "metadata": {},
   "outputs": [],
   "source": [
    "### YOUR CODE"
   ]
  },
  {
   "cell_type": "markdown",
   "metadata": {},
   "source": [
    "__Задание 20__. Посчитайте число ретвитов в датасете (твитов, начинающихся с \"RT @\")."
   ]
  },
  {
   "cell_type": "code",
   "execution_count": null,
   "metadata": {},
   "outputs": [],
   "source": [
    "### YOUR CODE"
   ]
  },
  {
   "cell_type": "markdown",
   "metadata": {},
   "source": [
    "__Задание 21__. Назовём длинным такой твит, что его длина больше, чем не менее 80% всех твитов. Найдите число длинных твитов."
   ]
  },
  {
   "cell_type": "code",
   "execution_count": null,
   "metadata": {},
   "outputs": [],
   "source": [
    "### YOUR CODE"
   ]
  },
  {
   "cell_type": "markdown",
   "metadata": {},
   "source": [
    "__Задание 22__. Постройте гистограмму распределения числа твитов по месяцам. В какой месяц какого года было опубликовано больше всего твитов?\n",
    "\n",
    "__Хинт__: Время в колонке tdate -- это Unix time, и оно отображает то, сколько секунд прошло с 00:00:00 1 января 1970 года. Для конвертации этого времени в удобный формат воспользуйтесь библиотекой `datetime`."
   ]
  },
  {
   "cell_type": "code",
   "execution_count": null,
   "metadata": {},
   "outputs": [],
   "source": [
    "### YOUR CODE"
   ]
  },
  {
   "cell_type": "markdown",
   "metadata": {},
   "source": [
    "__Задание 23__. Вставьте ниже смешную картинку, желательно про машинное обучение. Лучшие картинки мы наградим бонусными баллами (но это не точно)."
   ]
  },
  {
   "cell_type": "markdown",
   "metadata": {},
   "source": [
    "__Задание 999__. Напишите ниже, чего вы ждёте от курса, какой формат лекций и семинаров вам более интересен, в какие дни хотели бы поставить семинары, темы, которые хотели бы изучить, промежуточный фидбек (при наличии), а также произвольные пожелания и предложения. Мы постараемся всё это учесть."
   ]
  }
 ],
 "metadata": {
  "kernelspec": {
   "display_name": "Python 3",
   "language": "python",
   "name": "python3"
  },
  "language_info": {
   "codemirror_mode": {
    "name": "ipython",
    "version": 3
   },
   "file_extension": ".py",
   "mimetype": "text/x-python",
   "name": "python",
   "nbconvert_exporter": "python",
   "pygments_lexer": "ipython3",
   "version": "3.7.3"
  }
 },
 "nbformat": 4,
 "nbformat_minor": 2
}
