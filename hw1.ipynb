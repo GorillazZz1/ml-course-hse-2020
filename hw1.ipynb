{
 "cells": [
  {
   "cell_type": "markdown",
   "metadata": {},
   "source": [
    "# Машинное обучение на матфаке, 2019/2020 уч. год.\n",
    "\n",
    "## Домашнее задание 1 -- numpy, pandas, matplotlib.\n",
    "\n",
    "В этом домашнем задании вам предстоит закрепить навыки работы с важнейшими для data science библиотеками -- numpy, pandas и matplotlib.\n",
    "\n",
    "Правила оценивания на вики-странице. Часть заданий необходимо сдать в [Яндекс.контест](https://contest.yandex.ru/contest/16930/problems/)"
   ]
  },
  {
   "cell_type": "code",
   "execution_count": 1,
   "metadata": {},
   "outputs": [],
   "source": [
    "import numpy as np"
   ]
  },
  {
   "cell_type": "markdown",
   "metadata": {},
   "source": [
    "### Part 1. numpy\n",
    "\n",
    "Задания 1-10 оцениваются в 0.4 баллов."
   ]
  },
  {
   "cell_type": "markdown",
   "metadata": {},
   "source": [
    "__Задание 1__. Создайте несколько одномерных массивов размера $10^n$ для n от 1 до 6. из случайных чисел при помощи модуля `np.random`. Заполните их независимыми случайными величинами из нормального распределения с матожиданием 5 и дисперсией 10. "
   ]
  },
  {
   "cell_type": "code",
   "execution_count": 2,
   "metadata": {},
   "outputs": [],
   "source": [
    "arr = [np.random.normal(5, 10, size=10**(i+1)) for i in range(0,6)]\n",
    "# print(arr[5])"
   ]
  },
  {
   "cell_type": "markdown",
   "metadata": {},
   "source": [
    "В заданиях 2-10 запрещается использование циклов `for` и `while` в сдаваемом вами коде. "
   ]
  },
  {
   "cell_type": "markdown",
   "metadata": {},
   "source": [
    "__Задание 2__. Сгенерируйте случайный вектор (одномерный массив) из нормального распределения со средним в нуле и произвольной дисперсией. С помощью `np.where` замените в созданном массиве все отрицательные элементы на нули."
   ]
  },
  {
   "cell_type": "code",
   "execution_count": 3,
   "metadata": {},
   "outputs": [
    {
     "name": "stdout",
     "output_type": "stream",
     "text": [
      "[-9.90208697e-01 -7.16779516e-02 -1.12206283e+00  1.48930739e+00\n",
      " -8.16346496e-01  9.09024800e-01 -1.13330026e+00  8.83591311e-01\n",
      " -2.03108947e-02  7.51200346e-01  4.93571562e-01 -1.29357658e+00\n",
      " -2.10531781e+00 -2.70066639e-01 -1.41098549e+00 -1.31888165e+00\n",
      " -2.92428572e-02 -5.89414754e-01 -7.93687528e-01  6.62238367e-01\n",
      "  1.23280865e+00 -1.59643756e-01  5.15806700e-01 -6.03649484e-01\n",
      " -5.10935056e-01 -1.70185745e+00  6.00046639e-02 -2.14259618e-01\n",
      " -1.56080002e+00 -4.98008761e-01  1.30312832e+00 -2.50938074e-01\n",
      "  4.24561617e-01 -9.33523682e-02  2.70583302e-01  4.55294311e-01\n",
      "  1.14310459e+00  2.53221594e-01 -1.06280817e+00 -9.09851453e-02\n",
      "  2.05902693e+00  4.93140051e-01  1.89959993e+00 -6.11902583e-01\n",
      "  3.30058109e-01  5.59625721e-01 -8.14303041e-01 -1.00853950e+00\n",
      "  7.63828471e-01  1.33775613e+00  7.84927820e-05 -8.95925143e-01\n",
      "  2.14574279e+00  5.74633761e-02  1.72850569e+00 -5.46474708e-01\n",
      "  4.75702072e-02  1.69494143e+00  6.91353721e-01  5.10052110e-02\n",
      " -2.88374713e-01  5.44998166e-01  1.98669710e+00  1.68838427e+00\n",
      " -4.34201395e-01 -3.15124410e-01  1.34131867e+00 -1.97919946e+00\n",
      " -1.18408295e-01 -7.69940216e-01 -4.26090409e-01  3.01175883e-02\n",
      "  5.72272828e-01  2.89805879e-01  1.71423979e+00 -1.76370815e+00\n",
      "  1.07654622e+00  1.84135352e-01  1.20457808e-01 -1.53637210e+00\n",
      "  3.45115565e-01  6.12595588e-01 -6.93295953e-01  1.14397563e+00\n",
      "  2.21570029e-02 -2.40374185e-01  1.65217131e+00  5.58695260e-01\n",
      "  4.02377555e-01  4.82407009e-01  5.96488584e-01 -1.96598789e-01\n",
      " -6.35813297e-01  1.23112417e+00  1.31008164e+00 -6.59970943e-01\n",
      "  1.63318844e+00  4.10368428e-01  1.72732055e+00  2.42284176e+00]\n",
      "[0.00000000e+00 0.00000000e+00 0.00000000e+00 1.48930739e+00\n",
      " 0.00000000e+00 9.09024800e-01 0.00000000e+00 8.83591311e-01\n",
      " 0.00000000e+00 7.51200346e-01 4.93571562e-01 0.00000000e+00\n",
      " 0.00000000e+00 0.00000000e+00 0.00000000e+00 0.00000000e+00\n",
      " 0.00000000e+00 0.00000000e+00 0.00000000e+00 6.62238367e-01\n",
      " 1.23280865e+00 0.00000000e+00 5.15806700e-01 0.00000000e+00\n",
      " 0.00000000e+00 0.00000000e+00 6.00046639e-02 0.00000000e+00\n",
      " 0.00000000e+00 0.00000000e+00 1.30312832e+00 0.00000000e+00\n",
      " 4.24561617e-01 0.00000000e+00 2.70583302e-01 4.55294311e-01\n",
      " 1.14310459e+00 2.53221594e-01 0.00000000e+00 0.00000000e+00\n",
      " 2.05902693e+00 4.93140051e-01 1.89959993e+00 0.00000000e+00\n",
      " 3.30058109e-01 5.59625721e-01 0.00000000e+00 0.00000000e+00\n",
      " 7.63828471e-01 1.33775613e+00 7.84927820e-05 0.00000000e+00\n",
      " 2.14574279e+00 5.74633761e-02 1.72850569e+00 0.00000000e+00\n",
      " 4.75702072e-02 1.69494143e+00 6.91353721e-01 5.10052110e-02\n",
      " 0.00000000e+00 5.44998166e-01 1.98669710e+00 1.68838427e+00\n",
      " 0.00000000e+00 0.00000000e+00 1.34131867e+00 0.00000000e+00\n",
      " 0.00000000e+00 0.00000000e+00 0.00000000e+00 3.01175883e-02\n",
      " 5.72272828e-01 2.89805879e-01 1.71423979e+00 0.00000000e+00\n",
      " 1.07654622e+00 1.84135352e-01 1.20457808e-01 0.00000000e+00\n",
      " 3.45115565e-01 6.12595588e-01 0.00000000e+00 1.14397563e+00\n",
      " 2.21570029e-02 0.00000000e+00 1.65217131e+00 5.58695260e-01\n",
      " 4.02377555e-01 4.82407009e-01 5.96488584e-01 0.00000000e+00\n",
      " 0.00000000e+00 1.23112417e+00 1.31008164e+00 0.00000000e+00\n",
      " 1.63318844e+00 4.10368428e-01 1.72732055e+00 2.42284176e+00]\n"
     ]
    }
   ],
   "source": [
    "vec = np.random.normal(0, 1, 100)\n",
    "wo_negative = np.where(vec < 0, 0, vec)\n",
    "print(vec)\n",
    "print(wo_negative) # -- все отрицательные превращает в 0\n",
    "# print(np.where(vec >= 0, vec, 0)) # -- все что больше положительного оставляет на месте, остальное подефолту нуль\n",
    "# первое кажется более логичным, хотя выполняет тоже самое (?)"
   ]
  },
  {
   "cell_type": "markdown",
   "metadata": {},
   "source": [
    "__Задание 3__. Дан массив 10х3, который будет использован как массив с цветами RGB (каждый канал обозначается целым числом от 0 до 255), однако вследствие порчи данных при передаче значения массива вышли за границы заданного диапазона. Напишите функцию clip_values, которая вышедшие за границу диапазона значения превращает в ближашие границы диапазона.\n",
    "\n",
    "__Хинт__: воспользуйтесь np.clip"
   ]
  },
  {
   "cell_type": "code",
   "execution_count": 4,
   "metadata": {},
   "outputs": [
    {
     "name": "stdout",
     "output_type": "stream",
     "text": [
      "[[ -85.24603589  278.25968686   93.21322038]\n",
      " [ -50.30399605  153.14704406  441.83941589]\n",
      " [-175.12623184 -127.9153161   133.86841129]\n",
      " [ 192.76752044 -263.23546038  131.99844349]\n",
      " [ -13.47184335  281.49681427   61.51041613]\n",
      " [ -80.88752971   28.44993983  260.55784555]\n",
      " [ 114.94627714  249.67199138 -116.56790761]\n",
      " [ 504.32431841  281.12862048 -148.22233228]\n",
      " [ 337.7130532   384.61821922  300.39555164]\n",
      " [-103.46925965  -82.06151042  175.46937629]]\n",
      "[[  0.         255.          93.21322038]\n",
      " [  0.         153.14704406 255.        ]\n",
      " [  0.           0.         133.86841129]\n",
      " [192.76752044   0.         131.99844349]\n",
      " [  0.         255.          61.51041613]\n",
      " [  0.          28.44993983 255.        ]\n",
      " [114.94627714 249.67199138   0.        ]\n",
      " [255.         255.           0.        ]\n",
      " [255.         255.         255.        ]\n",
      " [  0.           0.         175.46937629]]\n"
     ]
    }
   ],
   "source": [
    "def clip_values(image: np.ndarray) -> np.ndarray:\n",
    "    return np.clip(image, 0, 255)\n",
    "\n",
    "# [[r, g, b], [r, g, b]...]\n",
    "damaged = np.random.normal(127, 255, 30).reshape((10,3))\n",
    "print(damaged)\n",
    "fixed = clip_values(damaged)\n",
    "print(fixed)"
   ]
  },
  {
   "cell_type": "markdown",
   "metadata": {},
   "source": [
    "__Задание 4__. Сгенерируйте случайный вектор из нормального распределения со средним в нуле и произвольной дисперсией. С помощью `np.insert` в встаьте в него на четные индексы нули."
   ]
  },
  {
   "cell_type": "code",
   "execution_count": 5,
   "metadata": {},
   "outputs": [
    {
     "name": "stdout",
     "output_type": "stream",
     "text": [
      "[-0.13586029  0.09946758  0.05074459  1.36732444 -0.41920236  0.35035724\n",
      "  0.87398554  0.80623683  2.05527145  1.60606766  1.50764198 -0.96234895\n",
      " -0.82169771  0.75619422 -3.25733809 -1.08842167  0.5486761  -1.27697386\n",
      " -0.49899644  1.62442646 -0.24772088 -1.19587682 -0.22066261 -1.22130094\n",
      "  0.34812373 -0.86168477 -1.44260168 -0.42722813 -0.15050249 -1.48575036\n",
      " -0.8443389   0.2184602  -1.15126555  3.26141435 -1.21370005  0.20400055\n",
      " -0.01597552  0.25538225  0.05979929  1.13745922 -0.06021152  0.97161023\n",
      " -2.1033006   1.20118591  1.36952012 -0.45044127 -0.96211473  0.85079011\n",
      "  1.70069573  0.63986346 -1.43719534  0.33143602 -1.11173248 -0.66216675\n",
      " -1.03944924 -0.59580921  0.12839835  1.11268624  0.44648876 -0.66108482\n",
      "  1.80689766  0.75205066 -1.35919715 -0.39859195 -0.04323637 -0.57587218\n",
      "  0.22776774 -1.18409765 -0.79810037 -0.57449859  1.4652159   0.19938497\n",
      "  0.63759882 -0.67128762 -0.1248576  -1.10809095  0.01167404  0.77940066\n",
      " -1.1900448   0.25357584 -0.7226008   0.02812375 -0.72193362  0.15458387\n",
      " -1.82895445  1.11086097  2.4528564  -0.77748525 -0.79503712 -0.10620308\n",
      "  0.48678419  1.97115707  0.01298672 -1.25594238  0.6471925  -0.26175665\n",
      " -0.82020357  0.61166909 -0.98471292 -0.2009121 ]\n",
      "[ 0.         -0.13586029  0.09946758  0.          0.05074459  1.36732444\n",
      "  0.         -0.41920236  0.35035724  0.          0.87398554  0.80623683\n",
      "  0.          2.05527145  1.60606766  0.          1.50764198 -0.96234895\n",
      "  0.         -0.82169771  0.75619422  0.         -3.25733809 -1.08842167\n",
      "  0.          0.5486761  -1.27697386  0.         -0.49899644  1.62442646\n",
      "  0.         -0.24772088 -1.19587682  0.         -0.22066261 -1.22130094\n",
      "  0.          0.34812373 -0.86168477  0.         -1.44260168 -0.42722813\n",
      "  0.         -0.15050249 -1.48575036  0.         -0.8443389   0.2184602\n",
      "  0.         -1.15126555  3.26141435  0.         -1.21370005  0.20400055\n",
      "  0.         -0.01597552  0.25538225  0.          0.05979929  1.13745922\n",
      "  0.         -0.06021152  0.97161023  0.         -2.1033006   1.20118591\n",
      "  0.          1.36952012 -0.45044127  0.         -0.96211473  0.85079011\n",
      "  0.          1.70069573  0.63986346  0.         -1.43719534  0.33143602\n",
      "  0.         -1.11173248 -0.66216675  0.         -1.03944924 -0.59580921\n",
      "  0.          0.12839835  1.11268624  0.          0.44648876 -0.66108482\n",
      "  0.          1.80689766  0.75205066  0.         -1.35919715 -0.39859195\n",
      "  0.         -0.04323637 -0.57587218  0.          0.22776774 -1.18409765\n",
      "  0.         -0.79810037 -0.57449859  0.          1.4652159   0.19938497\n",
      "  0.          0.63759882 -0.67128762  0.         -0.1248576  -1.10809095\n",
      "  0.          0.01167404  0.77940066  0.         -1.1900448   0.25357584\n",
      "  0.         -0.7226008   0.02812375  0.         -0.72193362  0.15458387\n",
      "  0.         -1.82895445  1.11086097  0.          2.4528564  -0.77748525\n",
      "  0.         -0.79503712 -0.10620308  0.          0.48678419  1.97115707\n",
      "  0.          0.01298672 -1.25594238  0.          0.6471925  -0.26175665\n",
      "  0.         -0.82020357  0.61166909  0.         -0.98471292 -0.2009121 ]\n",
      "[ 0.         -0.13586029  0.          0.09946758  0.          0.05074459\n",
      "  0.          1.36732444  0.         -0.41920236  0.          0.35035724\n",
      "  0.          0.87398554  0.          0.80623683  0.          2.05527145\n",
      "  0.          1.60606766  0.          1.50764198  0.         -0.96234895\n",
      "  0.         -0.82169771  0.          0.75619422  0.         -3.25733809\n",
      "  0.         -1.08842167  0.          0.5486761   0.         -1.27697386\n",
      "  0.         -0.49899644  0.          1.62442646  0.         -0.24772088\n",
      "  0.         -1.19587682  0.         -0.22066261  0.         -1.22130094\n",
      "  0.          0.34812373  0.         -0.86168477  0.         -1.44260168\n",
      "  0.         -0.42722813  0.         -0.15050249  0.         -1.48575036\n",
      "  0.         -0.8443389   0.          0.2184602   0.         -1.15126555\n",
      "  0.          3.26141435  0.         -1.21370005  0.          0.20400055\n",
      "  0.         -0.01597552  0.          0.25538225  0.          0.05979929\n",
      "  0.          1.13745922  0.         -0.06021152  0.          0.97161023\n",
      "  0.         -2.1033006   0.          1.20118591  0.          1.36952012\n",
      "  0.         -0.45044127  0.         -0.96211473  0.          0.85079011\n",
      "  0.          1.70069573  0.          0.63986346  0.         -1.43719534\n",
      "  0.          0.33143602  0.         -1.11173248  0.         -0.66216675\n",
      "  0.         -1.03944924  0.         -0.59580921  0.          0.12839835\n",
      "  0.          1.11268624  0.          0.44648876  0.         -0.66108482\n",
      "  0.          1.80689766  0.          0.75205066  0.         -1.35919715\n",
      "  0.         -0.39859195  0.         -0.04323637  0.         -0.57587218\n",
      "  0.          0.22776774  0.         -1.18409765  0.         -0.79810037\n",
      "  0.         -0.57449859  0.          1.4652159   0.          0.19938497\n",
      "  0.          0.63759882  0.         -0.67128762  0.         -0.1248576\n",
      "  0.         -1.10809095  0.          0.01167404  0.          0.77940066\n",
      "  0.         -1.1900448   0.          0.25357584  0.         -0.7226008\n",
      "  0.          0.02812375  0.         -0.72193362  0.          0.15458387\n",
      "  0.         -1.82895445  0.          1.11086097  0.          2.4528564\n",
      "  0.         -0.77748525  0.         -0.79503712  0.         -0.10620308\n",
      "  0.          0.48678419  0.          1.97115707  0.          0.01298672\n",
      "  0.         -1.25594238  0.          0.6471925   0.         -0.26175665\n",
      "  0.         -0.82020357  0.          0.61166909  0.         -0.98471292\n",
      "  0.         -0.2009121 ]\n"
     ]
    }
   ],
   "source": [
    "vec = np.random.normal(0, 1, 100)\n",
    "# print(vec)\n",
    "new_vec1 = np.insert(vec, range(0, 100, 2), 0) # Вектор, которому на четные места вставили нули\n",
    "new_vec2 = np.insert(vec, range(100), 0) # Вектор, у которого на четных местах нули\n",
    "# PS: вместо range(0, 100, 2) можно использовать np.arange(0, 100, 2). (Что лучше?)\n",
    "print(vec)\n",
    "print(new_vec1)\n",
    "print(new_vec2)"
   ]
  },
  {
   "cell_type": "markdown",
   "metadata": {},
   "source": [
    "__Задание 5__. Создайте случайный масиив 4х4 из нормального распределения со средним в нуле и произвольной дисперсией и верните индексы положительных элементов (`np.argwhere`)"
   ]
  },
  {
   "cell_type": "code",
   "execution_count": 6,
   "metadata": {},
   "outputs": [
    {
     "name": "stdout",
     "output_type": "stream",
     "text": [
      "[[ 0.74764282  1.46521183  0.25484661  0.88861509]\n",
      " [-0.34129956 -1.37727211 -0.43356589  0.31889634]\n",
      " [-0.81153707  0.11319208 -0.16556042 -0.23204477]\n",
      " [-0.4910833   0.10499878  0.47518879  0.03603596]]\n",
      "[[0 0]\n",
      " [0 1]\n",
      " [0 2]\n",
      " [0 3]\n",
      " [1 3]\n",
      " [2 1]\n",
      " [3 1]\n",
      " [3 2]\n",
      " [3 3]]\n"
     ]
    }
   ],
   "source": [
    "matr = np.random.normal(0, 1, 16).reshape((4,4))\n",
    "print(matr)\n",
    "positive_indexes = np.argwhere(matr > 0)\n",
    "print(positive_indexes)"
   ]
  },
  {
   "cell_type": "markdown",
   "metadata": {},
   "source": [
    "__Задание 6__. Создайте матрицу случайных целых чисел от в интервале от 1 до 10 размера 5х5 и посчитайте следующее (сабмодуль `np.linalg`):\n",
    "\n",
    "- определитель матрицы\n",
    "- обратную матрицу\n",
    "- произведение матрицы на саму себя\n",
    "- собственные вектора\n",
    "\n"
   ]
  },
  {
   "cell_type": "code",
   "execution_count": 7,
   "metadata": {
    "scrolled": true
   },
   "outputs": [
    {
     "name": "stdout",
     "output_type": "stream",
     "text": [
      "matrix: \n",
      "[[ 3  1  8  2 10]\n",
      " [ 7  6  1  4  3]\n",
      " [ 9  3  4  4  5]\n",
      " [ 3  9  3 10  3]\n",
      " [ 6  2  7  6  2]] \n",
      "\n",
      " determinant 6144.000000000003 \n",
      " inverse \n",
      " [[-0.05208333  0.03125     0.11328125 -0.05598958  0.01432292]\n",
      " [ 0.1015625   0.5390625  -0.51464844 -0.12207031  0.15332031]\n",
      " [ 0.10677083  0.3359375  -0.43847656 -0.15397135  0.28938802]\n",
      " [-0.12109375 -0.52734375  0.47900391  0.24169922 -0.16357422]\n",
      " [ 0.04427083 -0.2265625   0.27246094  0.10384115 -0.21842448]] \n",
      "\n",
      "square: \n",
      "[[154  71 133 122  99]\n",
      " [102  88  99 100 111]\n",
      " [126  85 138 116 141]\n",
      " [147 162  96 172 108]\n",
      " [125  97 110 120 123]]\n",
      "\n",
      "eigenvectors: (array([24.34701803, -5.14909055, -3.05538464,  6.31908973,  2.53836743]), array([[ 0.44100432,  0.65306811,  0.37997419,  0.42140799, -0.20565864],\n",
      "       [ 0.37649088, -0.42658855, -0.4558708 ,  0.07813514, -0.50811946],\n",
      "       [ 0.45846877, -0.56526778, -0.67904456,  0.34560422, -0.31552699],\n",
      "       [ 0.51500594,  0.25347633,  0.31503219, -0.83448372,  0.75761122],\n",
      "       [ 0.43398742, -0.0880133 ,  0.29572731,  0.02246895,  0.16120516]]))\n"
     ]
    }
   ],
   "source": [
    "matr = np.random.randint(1, 11, 25).reshape((5,5))\n",
    "print( 'matrix: \\n{} \\n\\n determinant {} \\n '\n",
    "      'inverse \\n {} \\n\\n'\n",
    "      'square: \\n{}\\n\\n'\n",
    "       'eigenvectors: {}'.format(matr, np.linalg.det(matr),\n",
    "            np.linalg.inv(matr),\n",
    "            matr.dot(matr),\n",
    "            np.linalg.eig(matr)) )"
   ]
  },
  {
   "cell_type": "markdown",
   "metadata": {},
   "source": [
    "Задания 7-10 необходимо сдать в [Яндекс.контест](https://contest.yandex.ru/contest/16930/problems/) и прикрепить ссылку на решение в формате `https://contest.yandex.ru/contest/xxxxx/run-report/xxxxx/`. Сдавайте задания строго в соответствии с написанной сигнатурой и возвращаемыми типами. Для сдачи необходимо отправить в соответствующую задачу файл, содержащий функции и необходимые импорты. Обратите внимание, что вам доступен только `numpy`. При сдаче выберите компилятор make. __При отсутствии ссылки на решение задание засчитано не будет!__"
   ]
  },
  {
   "cell_type": "markdown",
   "metadata": {},
   "source": [
    "__Задание 7__. Напишите функцию, которая находит сумму квадратов положительных элементов одномерного массива.\n",
    "\n",
    "__Ссылка на посылку в контесте__: https://contest.yandex.ru/contest/16930/run-report/30621657/"
   ]
  },
  {
   "cell_type": "code",
   "execution_count": 8,
   "metadata": {},
   "outputs": [],
   "source": [
    "def get_squares(a: np.ndarray) -> float:\n",
    "    return np.sum(np.square(np.where(a < 0, 0, a)))\n",
    "\n",
    "assert get_squares(np.array([1,-2,3])) == 10\n",
    "\n",
    "# a = np.array([1, -2, 3])\n",
    "# print(np.sum(np.square(np.where(a < 0, 0, a))))\n",
    "\n",
    "# **LINK** `https://contest.yandex.ru/contest/16930/run-report/30621657/`"
   ]
  },
  {
   "cell_type": "markdown",
   "metadata": {},
   "source": [
    "__Задание 8__. Коля -- мастер покера и умеет выигрывать только целые суммы денег от 0 до n - 1. Коля решил сыграть на турнире. На вход подаётся массив `p` размера $n$, где `p[i]` -- вероятность, что Коля выиграет на турнире $i$ рублей ($\\sum_{i=1}^{n}p_i =1$, $p_i \\geqslant 0, \\forall i$). Посчитайте математическое ожидание выигрыша Коли на турнире.\n",
    "\n",
    "\n",
    "__Ссылка на посылку в контесте__: https://contest.yandex.ru/contest/16930/run-report/30621663/"
   ]
  },
  {
   "cell_type": "code",
   "execution_count": 9,
   "metadata": {},
   "outputs": [],
   "source": [
    "def expected_reward(p: np.ndarray) -> float:\n",
    "    return p.dot(np.array(range(len(p))))\n",
    "\n",
    "assert expected_reward(np.array([0.4, 0.5, 0.1])) == 0.7\n",
    "\n",
    "# p = np.array([0.4, 0.5, 0.1])\n",
    "# print(p.dot(np.array(range(len(p)))))\n",
    "\n",
    "# **LINK** `https://contest.yandex.ru/contest/16930/run-report/30621663/`"
   ]
  },
  {
   "cell_type": "markdown",
   "metadata": {},
   "source": [
    "__Задание 9__. Дана квадратная матрица `A`. Посчитайте произведение диагональных элементов матрицы, __строго__ превосходящих среднее значение элементов всей матрицы.\n",
    "\n",
    "__Хинт__: взять диагональ матрицы -- np.diag(), произведение элементов массива -- np.prod(), среднее значение в массиве -- np.mean().\n",
    "\n",
    "__Ссылка на посылку в контесте__: https://contest.yandex.ru/contest/16930/run-report/30621668/"
   ]
  },
  {
   "cell_type": "code",
   "execution_count": 10,
   "metadata": {},
   "outputs": [],
   "source": [
    "def prod_upper_avg_diagonal(a: np.ndarray) -> float:\n",
    "    diag = np.diag(a)\n",
    "    return np.prod(np.where(diag > np.mean(a), diag, 1))\n",
    "\n",
    "assert prod_upper_avg_diagonal(np.array([[ 0,  1,  2,  3],\n",
    "                                         [ 4,  5,  6,  7],\n",
    "                                         [ 8,  9, 10, 11],\n",
    "                                         [12, 13, 14, 15]])) == 150\n",
    "\n",
    "# a = np.array([[ 0,  1,  2,  3],\n",
    "#              [ 4,  5,  6,  7],\n",
    "#              [ 8,  9, 10, 11],\n",
    "#              [12, 13, 14, 15]])\n",
    "# diag = np.diag(a)\n",
    "# mean = np.mean(a)\n",
    "# print(diag)\n",
    "# print(mean)\n",
    "# print(np.prod(np.where(diag > mean, diag, 1)))\n",
    "\n",
    "# **LINK** `https://contest.yandex.ru/contest/16930/run-report/30621668/`"
   ]
  },
  {
   "cell_type": "markdown",
   "metadata": {},
   "source": [
    "__Задание 10__. Дано число $n$. Создайте матрицу $A$ размера $n \\times n$ такую, что $A[i][j] = i \\cdot j$. Нумерация строк и столбцов начинается с нуля.\n",
    "\n",
    "__Ссылка на посылку в контесте:__ https://contest.yandex.ru/contest/16930/run-report/30621681/"
   ]
  },
  {
   "cell_type": "code",
   "execution_count": 11,
   "metadata": {},
   "outputs": [],
   "source": [
    "def create_ij(n: int) -> np.ndarray:\n",
    "    a = np.array(range(n)).reshape(1, -1)\n",
    "    return a.T.dot(a)\n",
    "\n",
    "assert np.all(create_ij(5) == np.array([[ 0,  0,  0,  0,  0],\n",
    "                                        [ 0,  1,  2,  3,  4],\n",
    "                                        [ 0,  2,  4,  6,  8],\n",
    "                                        [ 0,  3,  6,  9, 12],\n",
    "                                        [ 0,  4,  8, 12, 16]]))\n",
    "\n",
    "# print(create_ij(5))\n",
    "\n",
    "# **LINK** `https://contest.yandex.ru/contest/16930/run-report/30621681/`"
   ]
  },
  {
   "cell_type": "markdown",
   "metadata": {},
   "source": [
    "### Part 2. Numpy vs pure python\n",
    "\n",
    "\n",
    "__Задание 11__. (1 балл) Выберите любые 5 функций из заданий 2-10 и имплементируйте их, но без использования сторонних библиотек (считайте, что вам доступны только стандартные библиотеки языка Питон и на вход вместо массивов подаются питоновские списки)."
   ]
  },
  {
   "cell_type": "code",
   "execution_count": 12,
   "metadata": {},
   "outputs": [],
   "source": [
    "import random\n",
    "\n",
    "#1 Task 1\n",
    "def normal_distr(n):\n",
    "    return [random.gauss(0, 1) for _ in range(n)]\n",
    "    \n",
    "def without_negatives(arr):\n",
    "    return [max(x, 0) for x in arr]\n",
    "\n",
    "#2 Task 5\n",
    "def create_gauss_sq_matrix(n):\n",
    "    return [[random.gauss(0, 1) for _ in range(n)] for _ in range(n)]\n",
    "\n",
    "def where_positive(matr):\n",
    "    ans = []\n",
    "    for i in range(len(matr)):\n",
    "        for j in range(len(matr)):\n",
    "            if matr[i][j] > 0:\n",
    "                ans.append([i, j])\n",
    "    return ans\n",
    "# m = create_gauss_sq_matrix(4)\n",
    "# print(m)\n",
    "# print(where_positive(m))\n",
    "\n",
    "#3 Task 7 сумму квадратов положительных элементов одномерного массива.\n",
    "def py_get_squares(arr):\n",
    "    return sum([a*a for a in arr if a > 0])\n",
    "# print(py_get_squares([1,-2,3]))\n",
    "\n",
    "#4 Task 8\n",
    "def py_expected_reward(prob_arr):\n",
    "    ans = 0\n",
    "    for p in range(len(prob_arr)):\n",
    "        ans += p*prob_arr[p]\n",
    "    return ans\n",
    "# print(py_expected_reward([0.4, 0.5, 0.1]))\n",
    "\n",
    "#5 Task 10\n",
    "def py_create_ij(n: int):\n",
    "    arr = []\n",
    "    for i in range(n):\n",
    "        row = []\n",
    "        for j in range(n):\n",
    "            row.append(i*j)\n",
    "        arr.append(row)\n",
    "    return arr\n",
    "# print(py_create_ij(5))"
   ]
  },
  {
   "cell_type": "markdown",
   "metadata": {},
   "source": [
    "__Задание 12__. (3 балла) Сравните время работы векторизованных функций с обычными. Для этого постройте графики зависимости времени исполнения функции от размера входного массива. Перебирайте значения от 1 до $10^6$ по логарифмической шкале. Сделайте выводы.\n",
    "\n",
    "__Графики должны быть опрятными!__. Подписывайте оси, и единицы измерения, указывайте легенду и название графика. Оценка за задание с неопрятными графиками может быть снижена! Сравнение плохого и хорошего графиков:"
   ]
  },
  {
   "cell_type": "code",
   "execution_count": 13,
   "metadata": {},
   "outputs": [],
   "source": [
    "import sys\n",
    "import timeit # https://stackoverflow.com/questions/8220801/how-to-use-timeit-module/29512249\n",
    "import matplotlib.pyplot as plt # для графико\n",
    "plt.ioff()\n",
    "\n",
    "import numpy as np\n",
    "\n",
    "# def compared_plot(legend=''):\n",
    "#     pass\n",
    "\n",
    "def timings_and_plot(pure_py_func, np_func, args_func, title=\"Simple Plot\", \n",
    "                     number=5, low=1, high=6, base=10, samples=13):\n",
    "    '''\n",
    "        pure_py_func -- функция чистого питона, без NP\n",
    "        np_func -- функция NP\n",
    "        args_func -- лямбда функция, которая генерирует входные данные для pure_py_func и np_func\n",
    "                        по сути, функнция-генератор // generation function of input\n",
    "        title -- легенда(название) нашего графика (подПИСЬКА сверху) // забавно, что legend, т.е. легенда графика у matplot это совсем НЕ легенда, а название это легенда [fun facts at 6am]\n",
    "        number -- timeit.timeit(... -->number= <-- ) вот этот номер, \" method with number executions\"\n",
    "                    \"сколько раз выполняется функция\" // https://docs.python.org/3/library/timeit.html\n",
    "        low -- нижнее значение степени base\n",
    "        high -- верхнее значение степени base\n",
    "        base -- \"база\" логарифма\n",
    "        samples -- сколько точек \n",
    "    '''\n",
    "    logspace = np.logspace(low, high, num=samples, base=base) # log space of dots (basicly axis X)\n",
    "    pure_time = [] # timings of Py\n",
    "    numpy_time = [] # timings of NumPy\n",
    "    \n",
    "    for s in logspace:\n",
    "        args = args_func(int(s))\n",
    "        pure_time.append(timeit.timeit(lambda: pure_py_func(*args), number=number) / number)\n",
    "        numpy_time.append(timeit.timeit(lambda: np_func(*args), number=number) / number)\n",
    "        \n",
    "#         print('input: {}\\t np_time: {}\\t, pp_time: {} \\n'.format(s, numpy_time[-1], pure_time[-1]))\n",
    "#         print(s)\n",
    "#         print(logspace)\n",
    "#         print(pure_time)\n",
    "#         print(numpy_time)\n",
    "#         print('\\n')\n",
    "\n",
    "    \n",
    "    normal = plt.gca()\n",
    "    normal.set_title(title)\n",
    "    normal.set_ylabel('time')\n",
    "    normal.set_xlabel('size of input')\n",
    "    normal.plot(logspace, pure_time, label='Pure Python', marker='o')\n",
    "    normal.plot(logspace, numpy_time, label='NumPy', marker='o')\n",
    "    plt.legend()\n",
    "    plt.show()\n",
    "    \n",
    "#     ToDo: https://stackoverflow.com/questions/773814/plot-logarithmic-axes-with-matplotlib-in-python\n",
    "#             Надо подумать как правильно тут логарифм шкалу сделать! \n",
    "    logsized = plt.gca()\n",
    "    logsized.set_title('Log scale')\n",
    "    logsized.set_ylabel('time')\n",
    "    logsized.set_xlabel('size of input')\n",
    "#     logsized.set_yscale('log')\n",
    "    logsized.set_xscale('log')\n",
    "    logsized.plot(logspace, pure_time, label='Pure Python', marker='o')\n",
    "    logsized.plot(logspace, numpy_time, label='NumPy', marker='o')\n",
    "    plt.show()    \n",
    "        "
   ]
  },
  {
   "cell_type": "markdown",
   "metadata": {},
   "source": [
    "__Хинт__: воспользуйтесь библиотекой `time` или мэджиком `%timeit`."
   ]
  },
  {
   "cell_type": "markdown",
   "metadata": {},
   "source": [
    "__Замечание__: Далее будет производиться сравнение быстроты работы функций с использыванием `timings_and_plot(...)`.\n",
    "Для удобства функции будут продублированы, они будут в точности повторять написанные функции в заданиях 2-10.\n",
    "Функции, начинающиеся с `np_` -- это функции, которые написаны с использыванием NumPy, а функции, которые начинаются с `pp_` -- это функции чистого питона, он же PurePython."
   ]
  },
  {
   "cell_type": "code",
   "execution_count": 14,
   "metadata": {},
   "outputs": [
    {
     "data": {
      "image/png": "[encoded data removed]",
      "text/plain": [
       "<Figure size 432x288 with 1 Axes>"
      ]
     },
     "metadata": {
      "needs_background": "light"
     },
     "output_type": "display_data"
    },
    {
     "data": {
      "image/png": "[encoded data removed]",
      "text/plain": [
       "<Figure size 432x288 with 1 Axes>"
      ]
     },
     "metadata": {
      "needs_background": "light"
     },
     "output_type": "display_data"
    }
   ],
   "source": [
    "#             PurePy vs NumPy\n",
    "# Task 0: _Нормальное распределение_\n",
    "# Первым(нулевым) шагом хочется выяснить с помощью чего генерировать случайные числа быстрее\n",
    "\n",
    "import random\n",
    "\n",
    "def np_normal_gaus(n):\n",
    "    return np.random.normal(0, 1, n)\n",
    "\n",
    "def pp_normal_gaus(n):\n",
    "    return [random.gauss(0, 1) for _ in range(n)]\n",
    "\n",
    "timings_and_plot(pp_normal_gaus, np_normal_gaus, lambda n: (n,), title=\"Normal distribution generation\")\n",
    "\n",
    "# Работает за другое О-большое? Но кажется, что работает за другую константу, которая много меньше purepy-const"
   ]
  },
  {
   "cell_type": "markdown",
   "metadata": {},
   "source": [
    "_Вывод 0_: Случаные распределения быстрее генерирует NumPy, в дальнейшем будем его и использовать для данной задачи."
   ]
  },
  {
   "cell_type": "code",
   "execution_count": 15,
   "metadata": {},
   "outputs": [
    {
     "data": {
      "image/png": "[encoded data removed]",
      "text/plain": [
       "<Figure size 432x288 with 1 Axes>"
      ]
     },
     "metadata": {
      "needs_background": "light"
     },
     "output_type": "display_data"
    },
    {
     "data": {
      "image/png": "[encoded data removed]",
      "text/plain": [
       "<Figure size 432x288 with 1 Axes>"
      ]
     },
     "metadata": {
      "needs_background": "light"
     },
     "output_type": "display_data"
    }
   ],
   "source": [
    "#             PurePy vs NumPy\n",
    "# Task 1: _Удаление отрицательных чисел из распределение_\n",
    "# Постановка: на вход подается массив, необходимо вместо отрицательных чисел написать нули.\n",
    "\n",
    "def np_wo_negative(vec):\n",
    "    return np.where(vec < 0, 0, vec)\n",
    "\n",
    "def pp_wo_negative(vec):\n",
    "    return [max(x, 0) for x in vec]\n",
    "\n",
    "timings_and_plot(pp_wo_negative, np_wo_negative, lambda n: (np.random.normal(0, 1, n),),\n",
    "                 title=\"Replacing negative numbers with zero\")\n",
    "\n",
    "# Работает за другое О-большое"
   ]
  },
  {
   "cell_type": "code",
   "execution_count": 16,
   "metadata": {
    "scrolled": false
   },
   "outputs": [
    {
     "data": {
      "image/png": "[encoded data removed]",
      "text/plain": [
       "<Figure size 432x288 with 1 Axes>"
      ]
     },
     "metadata": {
      "needs_background": "light"
     },
     "output_type": "display_data"
    },
    {
     "data": {
      "image/png": "[encoded data removed]",
      "text/plain": [
       "<Figure size 432x288 with 1 Axes>"
      ]
     },
     "metadata": {
      "needs_background": "light"
     },
     "output_type": "display_data"
    }
   ],
   "source": [
    "#             PurePy vs NumPy\n",
    "# Task 2: _Удаление отрицательных чисел из распределение_\n",
    "# Постановка: на вход подается массив, необходимо вместо отрицательных чисел написать нули.\n",
    "\n",
    "def np_positive_indexes(matr):\n",
    "    return np.argwhere(matr > 0)\n",
    "\n",
    "def pp_positive_indexes(matr):\n",
    "    ans = []\n",
    "    for i in range(len(matr)):\n",
    "        for j in range(len(matr)):\n",
    "            if matr[i][j] > 0:\n",
    "                ans.append([i, j])\n",
    "    return ans\n",
    "\n",
    "timings_and_plot(pp_positive_indexes, np_positive_indexes, \n",
    "                 lambda n: (np.random.normal(0, 1, n*n).reshape((n,n)),),\n",
    "                 title=\"Getting positive indexes\", high=3)\n",
    "# O(n^2) => (10^3)^2\n",
    "# Работает за другое О-большое"
   ]
  },
  {
   "cell_type": "code",
   "execution_count": 17,
   "metadata": {},
   "outputs": [
    {
     "data": {
      "image/png": "[encoded data removed]",
      "text/plain": [
       "<Figure size 432x288 with 1 Axes>"
      ]
     },
     "metadata": {
      "needs_background": "light"
     },
     "output_type": "display_data"
    },
    {
     "data": {
      "image/png": "[encoded data removed]",
      "text/plain": [
       "<Figure size 432x288 with 1 Axes>"
      ]
     },
     "metadata": {
      "needs_background": "light"
     },
     "output_type": "display_data"
    }
   ],
   "source": [
    "#             PurePy vs NumPy\n",
    "# Task 3: _Сумма квадратов положительных элементов_\n",
    "# Постановка: на вход подается массив, необходимо взять сумму квадратов всех его положительных элементов.\n",
    "\n",
    "def np_positive_sum(arr):\n",
    "    return np.sum(np.square(np.where(arr < 0, 0, arr)))\n",
    "\n",
    "def pp_positive_sum(arr):\n",
    "    return sum([a*a for a in arr if a > 0])\n",
    "\n",
    "\n",
    "timings_and_plot(pp_positive_sum, np_positive_sum, \n",
    "                 lambda n: (np.random.randint(0, 10**3, n), ),\n",
    "                 title=\"Sum of positive integers in array\")\n",
    "\n",
    "# Работает за другое О-большое"
   ]
  },
  {
   "cell_type": "code",
   "execution_count": 18,
   "metadata": {},
   "outputs": [
    {
     "data": {
      "image/png": "[encoded data removed]",
      "text/plain": [
       "<Figure size 432x288 with 1 Axes>"
      ]
     },
     "metadata": {
      "needs_background": "light"
     },
     "output_type": "display_data"
    },
    {
     "data": {
      "image/png": "[encoded data removed]",
      "text/plain": [
       "<Figure size 432x288 with 1 Axes>"
      ]
     },
     "metadata": {
      "needs_background": "light"
     },
     "output_type": "display_data"
    }
   ],
   "source": [
    "#             PurePy vs NumPy\n",
    "# Task 4: _Математическое ожидание_\n",
    "# Постановка: на вход подается массив вероятностей, необходимо взять сумму его элементов умноженных на индекс, т.е. мат.ожидание.\n",
    "\n",
    "def np_expected_reward(prob_arr):\n",
    "    return prob_arr.dot(np.array(range(len(prob_arr))))\n",
    "\n",
    "def pp_expected_reward(prob_arr):\n",
    "    ans = 0\n",
    "    for p in range(len(prob_arr)):\n",
    "        ans += p*prob_arr[p]\n",
    "    return ans\n",
    "\n",
    "timings_and_plot(pp_expected_reward, np_expected_reward, \n",
    "                 lambda n: (np.random.normal(0, 1, n), ), # тут мог быть бы более умный генератор, который проверял бы что сумма всех вероятностей единица и прочее,\n",
    "                                                          # но нас интересует время работы от длины входа, поэтому можем использовать вот такую глупую\" версию\n",
    "                 title=\"Expected value problem\")\n",
    "\n",
    "# Работает за меньшую константу!"
   ]
  },
  {
   "cell_type": "code",
   "execution_count": 19,
   "metadata": {},
   "outputs": [
    {
     "data": {
      "image/png": "[encoded data removed]",
      "text/plain": [
       "<Figure size 432x288 with 1 Axes>"
      ]
     },
     "metadata": {
      "needs_background": "light"
     },
     "output_type": "display_data"
    },
    {
     "data": {
      "image/png": "[encoded data removed]",
      "text/plain": [
       "<Figure size 432x288 with 1 Axes>"
      ]
     },
     "metadata": {
      "needs_background": "light"
     },
     "output_type": "display_data"
    }
   ],
   "source": [
    "#             PurePy vs NumPy\n",
    "# Task 5: _Создание ij-матрицы_\n",
    "# Постановка: на вход число, необходимо создать матрицу M n*n такую, что M_ij = i*j\n",
    "\n",
    "def np_create_ij(n):\n",
    "    a = np.array(range(n)).reshape(1, -1)\n",
    "    return a.T.dot(a)\n",
    "\n",
    "def pp_create_ij(n):\n",
    "    arr = []\n",
    "    for i in range(n):\n",
    "        row = []\n",
    "        for j in range(n):\n",
    "            row.append(i*j)\n",
    "        arr.append(row)\n",
    "    return arr\n",
    "\n",
    "timings_and_plot(pp_create_ij, np_create_ij, \n",
    "                 lambda n: (n, ),\n",
    "                 title=\"Creating ij matrix\", high=3)\n",
    "\n",
    "# Работает за меньшую константу!"
   ]
  },
  {
   "cell_type": "markdown",
   "metadata": {},
   "source": [
    "__Вывод__: NumPy > PurePy\n",
    " 1. Легко можно видеть, что время работы для \"чистого\" python'а увеличивается линейно от увеличения входа, в то время как у numpy время работы составляет примерно одно и тоже, независимо от длины входа, и, быть может, начинается увеличиваться после $10^6$.\n",
    " 2. Здесь можно увидеть ситуацию аналогичную предыдущему пункту, но в этот раз numpy начинает увеливать время около $10^3$.\n",
    " 3. Ситуация абсолютно аналогичная первой, что в очередной раз подтверждает, что numpy справляется быстрее.\n",
    " 4. Как видно из графика, сложность работы в данном случае у numpy отлична от постоянной, но всё ещё остается быстрее чем чистый питон. То есть, получается, что асимптотика работы у двух подходов примерно одинаковая, но константа работы у numpy меньше, что делает решение задачи быстрее.\n",
    " 5. Очередное подтверждение быстроты numpy на фоне чистого питона. \n",
    "Общий вывод -- __numpy работает быстрее чем чистый python__.\n",
    " \n",
    " \n",
    " \n"
   ]
  },
  {
   "cell_type": "code",
   "execution_count": 20,
   "metadata": {},
   "outputs": [
    {
     "data": {
      "image/png": "[encoded data removed]",
      "text/plain": [
       "<Figure size 432x288 with 1 Axes>"
      ]
     },
     "metadata": {
      "needs_background": "light"
     },
     "output_type": "display_data"
    },
    {
     "data": {
      "image/png": "[encoded data removed]",
      "text/plain": [
       "<Figure size 432x288 with 1 Axes>"
      ]
     },
     "metadata": {
      "needs_background": "light"
     },
     "output_type": "display_data"
    },
    {
     "name": "stdout",
     "output_type": "stream",
     "text": [
      "goin' forward\n"
     ]
    },
    {
     "data": {
      "image/png": "[encoded data removed]",
      "text/plain": [
       "<Figure size 432x288 with 1 Axes>"
      ]
     },
     "metadata": {
      "needs_background": "light"
     },
     "output_type": "display_data"
    },
    {
     "data": {
      "image/png": "[encoded data removed]",
      "text/plain": [
       "<Figure size 432x288 with 1 Axes>"
      ]
     },
     "metadata": {
      "needs_background": "light"
     },
     "output_type": "display_data"
    }
   ],
   "source": [
    "#             PurePy vs NumPy\n",
    "# Task 5.5: _Создание последовательного массива длины n_\n",
    "# Постановка: на вход число, последовательный массив длины n\n",
    "# Замечание: В процессе решения _задания 4_ у меня возник что лучше: использовать range() или np.arrange().\n",
    "# кажется очевидным, что np.arrange лучше, но хочется понять насколько он лучше.\n",
    "\n",
    "\n",
    "timings_and_plot(\n",
    "    lambda m: list(range(m)),\n",
    "    lambda k: np.arange(k),\n",
    "    lambda n: (n, ),\n",
    "    title='Range array generators',\n",
    "    high=6,\n",
    "    number=100,\n",
    "    )\n",
    "\n",
    "# ЧТО? Шок-контент... NumPy создает range дольше!\n",
    "print('goin\\' forward')\n",
    "\n",
    "timings_and_plot(\n",
    "    lambda m: list(range(m)),\n",
    "    lambda k: np.array(range(k)),\n",
    "    lambda n: (n, ),\n",
    "    title='Time for list(array-creation)',\n",
    "    high=6,\n",
    "    number=10,\n",
    "    )"
   ]
  },
  {
   "cell_type": "markdown",
   "metadata": {},
   "source": [
    "### Part 3. Pandas.\n",
    "\n",
    "Задания 13-22 оцениваются в 0.4 баллов.  В заданиях 13-22 запрещается пользоваться циклами `for` и `while` в сдаваемом вами коде. Задания 13-15 также сдаются в контест с компилятором python3.6+numpy+pandas. В конце сдаваемого вами файла должны быть строки\n",
    "```\n",
    "import sys\n",
    "exec(sys.stdin.read())\n",
    "```"
   ]
  },
  {
   "cell_type": "code",
   "execution_count": 21,
   "metadata": {},
   "outputs": [],
   "source": [
    "import pandas as pd"
   ]
  },
  {
   "cell_type": "markdown",
   "metadata": {},
   "source": [
    "__Задание 13__, Дан датафрейм, в котором существует колонка 'email' (строка, длиной не более 255). Напишите функцию, которая в заданном датафрейме заменяет все невалидные email'ы на \"unknown@unknown.com\". Валидным сичтается емэйл, выглядящий как `[name]@[subdomain].[domain]`, где `[name]` -- строка, содержащая латинский буквы, точки и знаки `-` и `_`, `[subdomain]` и `[domain]` -- строки, содержащие только латинские буквы и цифры. Длина строки `[domain]` -- не больше 8 символов.\n",
    "\n",
    "__Хинт__. Вопспользуйтесь методом .apply(), в который передайте функцию для обрабоки одного email'a.\n",
    "\n",
    "\n",
    "__Ссылка на посылку в контесте:__ https://contest.yandex.ru/contest/16930/run-report/30641895/"
   ]
  },
  {
   "cell_type": "code",
   "execution_count": 22,
   "metadata": {},
   "outputs": [],
   "source": [
    "import re\n",
    "\n",
    "def reset_emails(df: pd.DataFrame) -> pd.DataFrame:\n",
    "    df['email'] = df['email'].apply( lambda e: validate(e) )\n",
    "    return df\n",
    "\n",
    "def validate(e):\n",
    "    if bool( re.search('^[\\w\\.\\-]+\\@[a-zA-Z0-9]+\\.[a-zA-Z0-9]{,8}$', e) ):\n",
    "        return e\n",
    "    else:\n",
    "        return \"unknown@unknown.com\"\n",
    "\n",
    "# r'^[\\w\\.\\-]+\\@ [a-zA-Z0-9]+ \\. [a-zA-Z0-9]{,8}$ -- соответсвие регулярному выражению\n",
    "# ^ -- начало\n",
    "# [\\w\\.\\-]+ -- любое из: \\w -- буквы, цифры и _; \\. -- точка; \\- -- черточка. + -- хотяб одно [name]\n",
    "# \\@ -- будет собачка @\n",
    "# [a-zA-Z0-9]+ -- латинские и цифры, хотяб одно [subdomain]\n",
    "# \\. -- точка .\n",
    "# [a-zA-Z0-9]{,8} -- неболее 8 букв или/и цифр [domain]\n",
    "# $ -- конец строки\n",
    "# https://www.geeksforgeeks.org/regular-expression-python-examples-set-1/\n",
    "\n",
    "import sys\n",
    "exec(sys.stdin.read())\n",
    "\n",
    "# df = pd.DataFrame({\n",
    "#     'email': [\n",
    "#         \"qwe@rty.ru\", \"asd@fg.gg\", \"unknown@unknown.com\", \"alex.k-_12\"\n",
    "#     ],\n",
    "#     'income': [5.5, 6.5, 7.2, 8.2]\n",
    "# })\n",
    "# print(\n",
    "#     reset_emails(df)\n",
    "# )\n",
    "# **LINK** `https://contest.yandex.ru/contest/16930/run-report/30641895/`"
   ]
  },
  {
   "cell_type": "markdown",
   "metadata": {},
   "source": [
    "__Задание 14__. Дан датафрейм, в котором существуют колонки `age` (возраст в годах, целое число) и `income` (дробное число). Напишите функцию, которая вернёт средний заработок людей младше 18 лет.\n",
    "\n",
    "__Ссылка на посылку в контесте:__ https://contest.yandex.ru/contest/16930/run-report/30639732/"
   ]
  },
  {
   "cell_type": "code",
   "execution_count": 23,
   "metadata": {},
   "outputs": [],
   "source": [
    "def get_mean_income(df: pd.DataFrame) -> float:\n",
    "    return df[df['age'] < 18]['income'].mean()\n",
    "\n",
    "import sys\n",
    "exec(sys.stdin.read())\n",
    "\n",
    "# df = pd.DataFrame({\n",
    "#     'age': [10, 15, 20, 25, 18, 100],\n",
    "#     'income': [5.5, 6.5, 7.2, 8.2, 8, 1000]\n",
    "# })\n",
    "# print(df[df['age'] < 18]['income'].mean())\n",
    "# print( df[ df['age'] < 18 ].mean()['income'] )\n",
    "# print(get_mean_income(df))\n",
    "# **LINK** `https://contest.yandex.ru/contest/16930/run-report/30639732/`"
   ]
  },
  {
   "cell_type": "markdown",
   "metadata": {},
   "source": [
    "__Задание 15__. Дан датафрейм, в котором существуют колонки 'id' (идентификатор пользователя, целое положительное число), 'age' (возвраст в годах, целое число), 'sex' (пол пользователя, строка, равная либо \"Male\", либо \"Female\", либо \"Other\"), \"favorite_color\" (любимый цвет пользователя, строка длиной не более 255). Найдите число различных любимых цветов у женщин младше 18 лет.\n",
    "\n",
    "__Ссылка на посылку в контесте__: https://contest.yandex.ru/contest/16930/run-report/30640055/"
   ]
  },
  {
   "cell_type": "code",
   "execution_count": 24,
   "metadata": {},
   "outputs": [],
   "source": [
    "def get_fav_color(df: pd.DataFrame) -> int:\n",
    "    return df[\n",
    "         ( df['sex'] == 'Female' ) & ( df['age'] < 18 )\n",
    "    ]['favorite_color'].nunique()\n",
    "\n",
    "import sys\n",
    "exec(sys.stdin.read())\n",
    "\n",
    "# df = pd.DataFrame({\n",
    "#     'id': [10, 15, 20, 25, 18, 100, 11, 5, 21, 35, 28, 110],\n",
    "#     'age': [10, 12, 14, 15, 22, 22, 10, 12, 14, 15, 22, 22],\n",
    "#     'sex': ['Male', 'Female', 'Other', 'Female', 'Female', 'Male', 'Male', 'Female', 'Other', 'Female', 'Female', 'Male'],\n",
    "#     'favorite_color': [5.5, 6.5, 7.2, 8.2, 8, 250, 5.5, 6.5, 7.2, 8.2, 8, 250]\n",
    "# })\n",
    "# print(get_fav_color(df))\n",
    "# **LINK** `https://contest.yandex.ru/contest/16930/run-report/30640055/`"
   ]
  },
  {
   "cell_type": "markdown",
   "metadata": {},
   "source": [
    "### Part 4. EDA with pandas.\n",
    "\n",
    "В этом задании предлагается сделать разведочный анализ данных в датафрейме. \n",
    "\n",
    "Мы будем работать с датасетом русскоязычных твитов. Скачайте данные по ссылке: https://www.dropbox.com/s/ou55qwyhbj1pdav/tweets.csv?dl=1\n",
    "\n",
    "Корпус состоит из 12 столбцов:\n",
    "\n",
    "    – id: уникальный номер сообщения в системе twitter;\n",
    "    – tdate: дата публикации сообщения (твита);\n",
    "    – tmane: имя пользователя, опубликовавшего сообщение;\n",
    "    – ttext:  текст сообщения (твита);\n",
    "    – ttype: поле в котором в дальнейшем будет указано к кому классу относится твит (положительный, отрицательный, нейтральный);\n",
    "    – trep: количество реплаев к данному сообщению. В настоящий момент API твиттера не отдает эту информацию;\n",
    "    – tfav: число сколько раз данное сообщение было добавлено в избранное другими пользователями;\n",
    "    – tstcount: число всех сообщений пользователя в сети twitter;\n",
    "    – tfol: количество фолловеров пользователя (тех людей, которые читают пользователя);\n",
    "    – tfrien: количество друзей пользователя (те люди, которых читает пользователь);\n",
    "    – listcount: количество листов-подписок в которые добавлен твиттер-пользователь.\n"
   ]
  },
  {
   "cell_type": "code",
   "execution_count": 25,
   "metadata": {},
   "outputs": [],
   "source": [
    "# # For linux/google colab users -- download directly from the notebook\n",
    "# ! wget -O tweets.csv https://www.dropbox.com/s/ou55qwyhbj1pdav/tweets.csv?dl=1 "
   ]
  },
  {
   "cell_type": "code",
   "execution_count": 26,
   "metadata": {},
   "outputs": [],
   "source": [
    "df = pd.read_csv(\"data/tweets.csv\")"
   ]
  },
  {
   "cell_type": "code",
   "execution_count": 27,
   "metadata": {},
   "outputs": [
    {
     "data": {
      "text/html": [
       "<div>\n",
       "<style scoped>\n",
       "    .dataframe tbody tr th:only-of-type {\n",
       "        vertical-align: middle;\n",
       "    }\n",
       "\n",
       "    .dataframe tbody tr th {\n",
       "        vertical-align: top;\n",
       "    }\n",
       "\n",
       "    .dataframe thead th {\n",
       "        text-align: right;\n",
       "    }\n",
       "</style>\n",
       "<table border=\"1\" class=\"dataframe\">\n",
       "  <thead>\n",
       "    <tr style=\"text-align: right;\">\n",
       "      <th></th>\n",
       "      <th>id</th>\n",
       "      <th>tdate</th>\n",
       "      <th>tmane</th>\n",
       "      <th>ttext</th>\n",
       "      <th>ttype</th>\n",
       "      <th>trep</th>\n",
       "      <th>tfav</th>\n",
       "      <th>tstcount</th>\n",
       "      <th>tfol</th>\n",
       "      <th>tfrien</th>\n",
       "      <th>listcount</th>\n",
       "    </tr>\n",
       "  </thead>\n",
       "  <tbody>\n",
       "    <tr>\n",
       "      <th>0</th>\n",
       "      <td>410745723928731648</td>\n",
       "      <td>1386764386</td>\n",
       "      <td>chavdaridi</td>\n",
       "      <td>RT @dianochka6464ru: Россия отмочила! Смотреть...</td>\n",
       "      <td>1</td>\n",
       "      <td>0</td>\n",
       "      <td>1</td>\n",
       "      <td>0</td>\n",
       "      <td>285</td>\n",
       "      <td>11</td>\n",
       "      <td>11</td>\n",
       "    </tr>\n",
       "    <tr>\n",
       "      <th>1</th>\n",
       "      <td>409580147185315840</td>\n",
       "      <td>1386486491</td>\n",
       "      <td>pifelanybal</td>\n",
       "      <td>Google сменил алгоритм чексуммы в загребании P...</td>\n",
       "      <td>-1</td>\n",
       "      <td>0</td>\n",
       "      <td>0</td>\n",
       "      <td>0</td>\n",
       "      <td>130</td>\n",
       "      <td>100</td>\n",
       "      <td>86</td>\n",
       "    </tr>\n",
       "    <tr>\n",
       "      <th>2</th>\n",
       "      <td>419794699738570752</td>\n",
       "      <td>1388921830</td>\n",
       "      <td>RomanenkoJulya</td>\n",
       "      <td>мне надо домой, @RomaRudenko1 не отпускает(</td>\n",
       "      <td>-1</td>\n",
       "      <td>0</td>\n",
       "      <td>0</td>\n",
       "      <td>0</td>\n",
       "      <td>730</td>\n",
       "      <td>28</td>\n",
       "      <td>18</td>\n",
       "    </tr>\n",
       "    <tr>\n",
       "      <th>3</th>\n",
       "      <td>410625694087909376</td>\n",
       "      <td>1386735769</td>\n",
       "      <td>VizivayuDyavola</td>\n",
       "      <td>RT @boobear1236969: Линта,я слева:D http://t.c...</td>\n",
       "      <td>1</td>\n",
       "      <td>0</td>\n",
       "      <td>3</td>\n",
       "      <td>0</td>\n",
       "      <td>1959</td>\n",
       "      <td>405</td>\n",
       "      <td>537</td>\n",
       "    </tr>\n",
       "    <tr>\n",
       "      <th>4</th>\n",
       "      <td>410849586635628545</td>\n",
       "      <td>1386789149</td>\n",
       "      <td>Den_Byhovsky</td>\n",
       "      <td>@juliasvirid17 я имел ввиду, что для меня спос...</td>\n",
       "      <td>1</td>\n",
       "      <td>0</td>\n",
       "      <td>0</td>\n",
       "      <td>0</td>\n",
       "      <td>3248</td>\n",
       "      <td>61</td>\n",
       "      <td>48</td>\n",
       "    </tr>\n",
       "  </tbody>\n",
       "</table>\n",
       "</div>"
      ],
      "text/plain": [
       "                   id       tdate            tmane  \\\n",
       "0  410745723928731648  1386764386       chavdaridi   \n",
       "1  409580147185315840  1386486491      pifelanybal   \n",
       "2  419794699738570752  1388921830   RomanenkoJulya   \n",
       "3  410625694087909376  1386735769  VizivayuDyavola   \n",
       "4  410849586635628545  1386789149     Den_Byhovsky   \n",
       "\n",
       "                                               ttext  ttype  trep  tfav  \\\n",
       "0  RT @dianochka6464ru: Россия отмочила! Смотреть...      1     0     1   \n",
       "1  Google сменил алгоритм чексуммы в загребании P...     -1     0     0   \n",
       "2        мне надо домой, @RomaRudenko1 не отпускает(     -1     0     0   \n",
       "3  RT @boobear1236969: Линта,я слева:D http://t.c...      1     0     3   \n",
       "4  @juliasvirid17 я имел ввиду, что для меня спос...      1     0     0   \n",
       "\n",
       "   tstcount  tfol  tfrien  listcount  \n",
       "0         0   285      11         11  \n",
       "1         0   130     100         86  \n",
       "2         0   730      28         18  \n",
       "3         0  1959     405        537  \n",
       "4         0  3248      61         48  "
      ]
     },
     "execution_count": 27,
     "metadata": {},
     "output_type": "execute_result"
    }
   ],
   "source": [
    "df.head()"
   ]
  },
  {
   "cell_type": "markdown",
   "metadata": {},
   "source": [
    "__Задание 16__. Создайте колонку 'tdif', равную разнице числа друзей и числа фолловеров у пользователя."
   ]
  },
  {
   "cell_type": "code",
   "execution_count": 28,
   "metadata": {},
   "outputs": [
    {
     "data": {
      "text/html": [
       "<div>\n",
       "<style scoped>\n",
       "    .dataframe tbody tr th:only-of-type {\n",
       "        vertical-align: middle;\n",
       "    }\n",
       "\n",
       "    .dataframe tbody tr th {\n",
       "        vertical-align: top;\n",
       "    }\n",
       "\n",
       "    .dataframe thead th {\n",
       "        text-align: right;\n",
       "    }\n",
       "</style>\n",
       "<table border=\"1\" class=\"dataframe\">\n",
       "  <thead>\n",
       "    <tr style=\"text-align: right;\">\n",
       "      <th></th>\n",
       "      <th>id</th>\n",
       "      <th>tdate</th>\n",
       "      <th>tmane</th>\n",
       "      <th>ttext</th>\n",
       "      <th>ttype</th>\n",
       "      <th>trep</th>\n",
       "      <th>tfav</th>\n",
       "      <th>tstcount</th>\n",
       "      <th>tfol</th>\n",
       "      <th>tfrien</th>\n",
       "      <th>listcount</th>\n",
       "      <th>tdif</th>\n",
       "    </tr>\n",
       "  </thead>\n",
       "  <tbody>\n",
       "    <tr>\n",
       "      <th>0</th>\n",
       "      <td>410745723928731648</td>\n",
       "      <td>1386764386</td>\n",
       "      <td>chavdaridi</td>\n",
       "      <td>RT @dianochka6464ru: Россия отмочила! Смотреть...</td>\n",
       "      <td>1</td>\n",
       "      <td>0</td>\n",
       "      <td>1</td>\n",
       "      <td>0</td>\n",
       "      <td>285</td>\n",
       "      <td>11</td>\n",
       "      <td>11</td>\n",
       "      <td>274</td>\n",
       "    </tr>\n",
       "    <tr>\n",
       "      <th>1</th>\n",
       "      <td>409580147185315840</td>\n",
       "      <td>1386486491</td>\n",
       "      <td>pifelanybal</td>\n",
       "      <td>Google сменил алгоритм чексуммы в загребании P...</td>\n",
       "      <td>-1</td>\n",
       "      <td>0</td>\n",
       "      <td>0</td>\n",
       "      <td>0</td>\n",
       "      <td>130</td>\n",
       "      <td>100</td>\n",
       "      <td>86</td>\n",
       "      <td>30</td>\n",
       "    </tr>\n",
       "    <tr>\n",
       "      <th>2</th>\n",
       "      <td>419794699738570752</td>\n",
       "      <td>1388921830</td>\n",
       "      <td>RomanenkoJulya</td>\n",
       "      <td>мне надо домой, @RomaRudenko1 не отпускает(</td>\n",
       "      <td>-1</td>\n",
       "      <td>0</td>\n",
       "      <td>0</td>\n",
       "      <td>0</td>\n",
       "      <td>730</td>\n",
       "      <td>28</td>\n",
       "      <td>18</td>\n",
       "      <td>702</td>\n",
       "    </tr>\n",
       "    <tr>\n",
       "      <th>3</th>\n",
       "      <td>410625694087909376</td>\n",
       "      <td>1386735769</td>\n",
       "      <td>VizivayuDyavola</td>\n",
       "      <td>RT @boobear1236969: Линта,я слева:D http://t.c...</td>\n",
       "      <td>1</td>\n",
       "      <td>0</td>\n",
       "      <td>3</td>\n",
       "      <td>0</td>\n",
       "      <td>1959</td>\n",
       "      <td>405</td>\n",
       "      <td>537</td>\n",
       "      <td>1554</td>\n",
       "    </tr>\n",
       "    <tr>\n",
       "      <th>4</th>\n",
       "      <td>410849586635628545</td>\n",
       "      <td>1386789149</td>\n",
       "      <td>Den_Byhovsky</td>\n",
       "      <td>@juliasvirid17 я имел ввиду, что для меня спос...</td>\n",
       "      <td>1</td>\n",
       "      <td>0</td>\n",
       "      <td>0</td>\n",
       "      <td>0</td>\n",
       "      <td>3248</td>\n",
       "      <td>61</td>\n",
       "      <td>48</td>\n",
       "      <td>3187</td>\n",
       "    </tr>\n",
       "  </tbody>\n",
       "</table>\n",
       "</div>"
      ],
      "text/plain": [
       "                   id       tdate            tmane  \\\n",
       "0  410745723928731648  1386764386       chavdaridi   \n",
       "1  409580147185315840  1386486491      pifelanybal   \n",
       "2  419794699738570752  1388921830   RomanenkoJulya   \n",
       "3  410625694087909376  1386735769  VizivayuDyavola   \n",
       "4  410849586635628545  1386789149     Den_Byhovsky   \n",
       "\n",
       "                                               ttext  ttype  trep  tfav  \\\n",
       "0  RT @dianochka6464ru: Россия отмочила! Смотреть...      1     0     1   \n",
       "1  Google сменил алгоритм чексуммы в загребании P...     -1     0     0   \n",
       "2        мне надо домой, @RomaRudenko1 не отпускает(     -1     0     0   \n",
       "3  RT @boobear1236969: Линта,я слева:D http://t.c...      1     0     3   \n",
       "4  @juliasvirid17 я имел ввиду, что для меня спос...      1     0     0   \n",
       "\n",
       "   tstcount  tfol  tfrien  listcount  tdif  \n",
       "0         0   285      11         11   274  \n",
       "1         0   130     100         86    30  \n",
       "2         0   730      28         18   702  \n",
       "3         0  1959     405        537  1554  \n",
       "4         0  3248      61         48  3187  "
      ]
     },
     "execution_count": 28,
     "metadata": {},
     "output_type": "execute_result"
    }
   ],
   "source": [
    "df['tdif'] = df['tfol'] - df['tfrien']\n",
    "df.head()"
   ]
  },
  {
   "cell_type": "markdown",
   "metadata": {},
   "source": [
    "__Задание 16__. Создайте датафрейм, в котором остались только строки с чётными номерами, и пронумеруйте их начиная с 0."
   ]
  },
  {
   "cell_type": "code",
   "execution_count": 29,
   "metadata": {},
   "outputs": [
    {
     "data": {
      "text/html": [
       "<div>\n",
       "<style scoped>\n",
       "    .dataframe tbody tr th:only-of-type {\n",
       "        vertical-align: middle;\n",
       "    }\n",
       "\n",
       "    .dataframe tbody tr th {\n",
       "        vertical-align: top;\n",
       "    }\n",
       "\n",
       "    .dataframe thead th {\n",
       "        text-align: right;\n",
       "    }\n",
       "</style>\n",
       "<table border=\"1\" class=\"dataframe\">\n",
       "  <thead>\n",
       "    <tr style=\"text-align: right;\">\n",
       "      <th></th>\n",
       "      <th>old_index</th>\n",
       "      <th>id</th>\n",
       "      <th>tdate</th>\n",
       "      <th>tmane</th>\n",
       "      <th>ttext</th>\n",
       "      <th>ttype</th>\n",
       "      <th>trep</th>\n",
       "      <th>tfav</th>\n",
       "      <th>tstcount</th>\n",
       "      <th>tfol</th>\n",
       "      <th>tfrien</th>\n",
       "      <th>listcount</th>\n",
       "      <th>tdif</th>\n",
       "    </tr>\n",
       "  </thead>\n",
       "  <tbody>\n",
       "    <tr>\n",
       "      <th>0</th>\n",
       "      <td>0</td>\n",
       "      <td>410745723928731648</td>\n",
       "      <td>1386764386</td>\n",
       "      <td>chavdaridi</td>\n",
       "      <td>RT @dianochka6464ru: Россия отмочила! Смотреть...</td>\n",
       "      <td>1</td>\n",
       "      <td>0</td>\n",
       "      <td>1</td>\n",
       "      <td>0</td>\n",
       "      <td>285</td>\n",
       "      <td>11</td>\n",
       "      <td>11</td>\n",
       "      <td>274</td>\n",
       "    </tr>\n",
       "    <tr>\n",
       "      <th>1</th>\n",
       "      <td>2</td>\n",
       "      <td>419794699738570752</td>\n",
       "      <td>1388921830</td>\n",
       "      <td>RomanenkoJulya</td>\n",
       "      <td>мне надо домой, @RomaRudenko1 не отпускает(</td>\n",
       "      <td>-1</td>\n",
       "      <td>0</td>\n",
       "      <td>0</td>\n",
       "      <td>0</td>\n",
       "      <td>730</td>\n",
       "      <td>28</td>\n",
       "      <td>18</td>\n",
       "      <td>702</td>\n",
       "    </tr>\n",
       "    <tr>\n",
       "      <th>2</th>\n",
       "      <td>4</td>\n",
       "      <td>410849586635628545</td>\n",
       "      <td>1386789149</td>\n",
       "      <td>Den_Byhovsky</td>\n",
       "      <td>@juliasvirid17 я имел ввиду, что для меня спос...</td>\n",
       "      <td>1</td>\n",
       "      <td>0</td>\n",
       "      <td>0</td>\n",
       "      <td>0</td>\n",
       "      <td>3248</td>\n",
       "      <td>61</td>\n",
       "      <td>48</td>\n",
       "      <td>3187</td>\n",
       "    </tr>\n",
       "    <tr>\n",
       "      <th>3</th>\n",
       "      <td>6</td>\n",
       "      <td>415545552320077824</td>\n",
       "      <td>1387908754</td>\n",
       "      <td>VitaVita52</td>\n",
       "      <td>Было неожиданно,все попадали на концерте,никог...</td>\n",
       "      <td>-1</td>\n",
       "      <td>0</td>\n",
       "      <td>0</td>\n",
       "      <td>0</td>\n",
       "      <td>461</td>\n",
       "      <td>16</td>\n",
       "      <td>19</td>\n",
       "      <td>445</td>\n",
       "    </tr>\n",
       "    <tr>\n",
       "      <th>4</th>\n",
       "      <td>8</td>\n",
       "      <td>413821842823348224</td>\n",
       "      <td>1387497790</td>\n",
       "      <td>wyhuzezyg</td>\n",
       "      <td>RT @yvysogoga: мда. центос это стабильность......</td>\n",
       "      <td>-1</td>\n",
       "      <td>0</td>\n",
       "      <td>3</td>\n",
       "      <td>0</td>\n",
       "      <td>641</td>\n",
       "      <td>385</td>\n",
       "      <td>386</td>\n",
       "      <td>256</td>\n",
       "    </tr>\n",
       "  </tbody>\n",
       "</table>\n",
       "</div>"
      ],
      "text/plain": [
       "   old_index                  id       tdate           tmane  \\\n",
       "0          0  410745723928731648  1386764386      chavdaridi   \n",
       "1          2  419794699738570752  1388921830  RomanenkoJulya   \n",
       "2          4  410849586635628545  1386789149    Den_Byhovsky   \n",
       "3          6  415545552320077824  1387908754      VitaVita52   \n",
       "4          8  413821842823348224  1387497790       wyhuzezyg   \n",
       "\n",
       "                                               ttext  ttype  trep  tfav  \\\n",
       "0  RT @dianochka6464ru: Россия отмочила! Смотреть...      1     0     1   \n",
       "1        мне надо домой, @RomaRudenko1 не отпускает(     -1     0     0   \n",
       "2  @juliasvirid17 я имел ввиду, что для меня спос...      1     0     0   \n",
       "3  Было неожиданно,все попадали на концерте,никог...     -1     0     0   \n",
       "4  RT @yvysogoga: мда. центос это стабильность......     -1     0     3   \n",
       "\n",
       "   tstcount  tfol  tfrien  listcount  tdif  \n",
       "0         0   285      11         11   274  \n",
       "1         0   730      28         18   702  \n",
       "2         0  3248      61         48  3187  \n",
       "3         0   461      16         19   445  \n",
       "4         0   641     385        386   256  "
      ]
     },
     "execution_count": 29,
     "metadata": {},
     "output_type": "execute_result"
    }
   ],
   "source": [
    "evendf = df[::2].reset_index().rename( columns={'index':'old_index'} )\n",
    "evendf.head()\n",
    "# .rename (нужно лишь для себя, чтоб увидеть, что индексы действительно только четные взялись)\n",
    "# если что уберём с помощью .drop"
   ]
  },
  {
   "cell_type": "markdown",
   "metadata": {},
   "source": [
    "__Задание 17__. Создайте датафрейм, в котором остались лишь твиты положительной тональности."
   ]
  },
  {
   "cell_type": "code",
   "execution_count": 30,
   "metadata": {},
   "outputs": [
    {
     "data": {
      "text/html": [
       "<div>\n",
       "<style scoped>\n",
       "    .dataframe tbody tr th:only-of-type {\n",
       "        vertical-align: middle;\n",
       "    }\n",
       "\n",
       "    .dataframe tbody tr th {\n",
       "        vertical-align: top;\n",
       "    }\n",
       "\n",
       "    .dataframe thead th {\n",
       "        text-align: right;\n",
       "    }\n",
       "</style>\n",
       "<table border=\"1\" class=\"dataframe\">\n",
       "  <thead>\n",
       "    <tr style=\"text-align: right;\">\n",
       "      <th></th>\n",
       "      <th>id</th>\n",
       "      <th>tdate</th>\n",
       "      <th>tmane</th>\n",
       "      <th>ttext</th>\n",
       "      <th>ttype</th>\n",
       "      <th>trep</th>\n",
       "      <th>tfav</th>\n",
       "      <th>tstcount</th>\n",
       "      <th>tfol</th>\n",
       "      <th>tfrien</th>\n",
       "      <th>listcount</th>\n",
       "      <th>tdif</th>\n",
       "    </tr>\n",
       "  </thead>\n",
       "  <tbody>\n",
       "    <tr>\n",
       "      <th>0</th>\n",
       "      <td>410745723928731648</td>\n",
       "      <td>1386764386</td>\n",
       "      <td>chavdaridi</td>\n",
       "      <td>RT @dianochka6464ru: Россия отмочила! Смотреть...</td>\n",
       "      <td>1</td>\n",
       "      <td>0</td>\n",
       "      <td>1</td>\n",
       "      <td>0</td>\n",
       "      <td>285</td>\n",
       "      <td>11</td>\n",
       "      <td>11</td>\n",
       "      <td>274</td>\n",
       "    </tr>\n",
       "    <tr>\n",
       "      <th>3</th>\n",
       "      <td>410625694087909376</td>\n",
       "      <td>1386735769</td>\n",
       "      <td>VizivayuDyavola</td>\n",
       "      <td>RT @boobear1236969: Линта,я слева:D http://t.c...</td>\n",
       "      <td>1</td>\n",
       "      <td>0</td>\n",
       "      <td>3</td>\n",
       "      <td>0</td>\n",
       "      <td>1959</td>\n",
       "      <td>405</td>\n",
       "      <td>537</td>\n",
       "      <td>1554</td>\n",
       "    </tr>\n",
       "    <tr>\n",
       "      <th>4</th>\n",
       "      <td>410849586635628545</td>\n",
       "      <td>1386789149</td>\n",
       "      <td>Den_Byhovsky</td>\n",
       "      <td>@juliasvirid17 я имел ввиду, что для меня спос...</td>\n",
       "      <td>1</td>\n",
       "      <td>0</td>\n",
       "      <td>0</td>\n",
       "      <td>0</td>\n",
       "      <td>3248</td>\n",
       "      <td>61</td>\n",
       "      <td>48</td>\n",
       "      <td>3187</td>\n",
       "    </tr>\n",
       "    <tr>\n",
       "      <th>15</th>\n",
       "      <td>411098495815131136</td>\n",
       "      <td>1386848494</td>\n",
       "      <td>KlimMasha</td>\n",
       "      <td>как всегда круто посидели на химии:) http://t....</td>\n",
       "      <td>1</td>\n",
       "      <td>0</td>\n",
       "      <td>0</td>\n",
       "      <td>0</td>\n",
       "      <td>583</td>\n",
       "      <td>22</td>\n",
       "      <td>37</td>\n",
       "      <td>561</td>\n",
       "    </tr>\n",
       "    <tr>\n",
       "      <th>17</th>\n",
       "      <td>410406761066405888</td>\n",
       "      <td>1386683571</td>\n",
       "      <td>Alexandrovna_07</td>\n",
       "      <td>Сегодняшнее творение ,больше половины уже нет ...</td>\n",
       "      <td>1</td>\n",
       "      <td>0</td>\n",
       "      <td>0</td>\n",
       "      <td>0</td>\n",
       "      <td>1155</td>\n",
       "      <td>24</td>\n",
       "      <td>20</td>\n",
       "      <td>1131</td>\n",
       "    </tr>\n",
       "  </tbody>\n",
       "</table>\n",
       "</div>"
      ],
      "text/plain": [
       "                    id       tdate            tmane  \\\n",
       "0   410745723928731648  1386764386       chavdaridi   \n",
       "3   410625694087909376  1386735769  VizivayuDyavola   \n",
       "4   410849586635628545  1386789149     Den_Byhovsky   \n",
       "15  411098495815131136  1386848494        KlimMasha   \n",
       "17  410406761066405888  1386683571  Alexandrovna_07   \n",
       "\n",
       "                                                ttext  ttype  trep  tfav  \\\n",
       "0   RT @dianochka6464ru: Россия отмочила! Смотреть...      1     0     1   \n",
       "3   RT @boobear1236969: Линта,я слева:D http://t.c...      1     0     3   \n",
       "4   @juliasvirid17 я имел ввиду, что для меня спос...      1     0     0   \n",
       "15  как всегда круто посидели на химии:) http://t....      1     0     0   \n",
       "17  Сегодняшнее творение ,больше половины уже нет ...      1     0     0   \n",
       "\n",
       "    tstcount  tfol  tfrien  listcount  tdif  \n",
       "0          0   285      11         11   274  \n",
       "3          0  1959     405        537  1554  \n",
       "4          0  3248      61         48  3187  \n",
       "15         0   583      22         37   561  \n",
       "17         0  1155      24         20  1131  "
      ]
     },
     "execution_count": 30,
     "metadata": {},
     "output_type": "execute_result"
    }
   ],
   "source": [
    "df_positive = df[ df['ttype'] > 0]\n",
    "df_positive.head()"
   ]
  },
  {
   "cell_type": "markdown",
   "metadata": {},
   "source": [
    "__Задание 18__. Посчитайте число уникальных пользователей (пользователей с различными tmane).\n",
    "\n",
    "__Хинт__: воспользуйтесь np.unique."
   ]
  },
  {
   "cell_type": "code",
   "execution_count": 31,
   "metadata": {},
   "outputs": [
    {
     "name": "stdout",
     "output_type": "stream",
     "text": [
      "139658\n"
     ]
    }
   ],
   "source": [
    "count_unique_users = df['tmane'].nunique()\n",
    "print(count_unique_users)"
   ]
  },
  {
   "cell_type": "markdown",
   "metadata": {},
   "source": [
    "__Задание 19__. Посчитайте основные статистики по числу подписчиков при помощи метода .describe(). Постройте гистограмму значений признака."
   ]
  },
  {
   "cell_type": "code",
   "execution_count": 32,
   "metadata": {},
   "outputs": [
    {
     "name": "stdout",
     "output_type": "stream",
     "text": [
      "count    2.268340e+05\n",
      "mean     7.584972e+03\n",
      "std      2.039972e+04\n",
      "min      0.000000e+00\n",
      "25%      4.730000e+02\n",
      "50%      2.026000e+03\n",
      "75%      7.562000e+03\n",
      "max      1.138639e+06\n",
      "Name: tfol, dtype: float64\n"
     ]
    },
    {
     "data": {
      "text/plain": [
       "<matplotlib.axes._subplots.AxesSubplot at 0x1239af3c8>"
      ]
     },
     "execution_count": 32,
     "metadata": {},
     "output_type": "execute_result"
    },
    {
     "data": {
      "image/png": "[encoded data removed]",
      "text/plain": [
       "<Figure size 432x288 with 1 Axes>"
      ]
     },
     "metadata": {
      "needs_background": "light"
     },
     "output_type": "display_data"
    }
   ],
   "source": [
    "descr = df['tfol'].describe()\n",
    "print(descr)\n",
    "\n",
    "ax = plt.gca()\n",
    "ax.set_title('Распределение количества подписчиков')\n",
    "ax.set_xlabel('Количество подписчиков на аккаунте')\n",
    "df['tfol'].hist(\n",
    "    bins=int(descr['count']//descr['mean']), \n",
    "    range=(descr['min'], descr['75%']),\n",
    "#     column='tfol',\n",
    "    ax=ax\n",
    ")"
   ]
  },
  {
   "cell_type": "markdown",
   "metadata": {},
   "source": [
    "__Задание 20__. Посчитайте число ретвитов в датасете (твитов, начинающихся с \"RT @\")."
   ]
  },
  {
   "cell_type": "code",
   "execution_count": 33,
   "metadata": {},
   "outputs": [
    {
     "name": "stdout",
     "output_type": "stream",
     "text": [
      "36462\n"
     ]
    }
   ],
   "source": [
    "df_retweets = df[ df['ttext'].str.startswith('RT @', na=False) ] # All retweets (более объемлимо чем просто число ретвитов!)\n",
    "print(len(df_retweets))"
   ]
  },
  {
   "cell_type": "markdown",
   "metadata": {},
   "source": [
    "__Задание 21__. Назовём длинным такой твит, что его длина больше, чем не менее 80% всех твитов. Найдите число длинных твитов."
   ]
  },
  {
   "cell_type": "code",
   "execution_count": 34,
   "metadata": {},
   "outputs": [
    {
     "name": "stdout",
     "output_type": "stream",
     "text": [
      "45081\n"
     ]
    }
   ],
   "source": [
    "q_len = df['ttext'].apply(len).quantile(q=0.8)\n",
    "df_longtweets = df[ df['ttext'].apply(len) > q_len ]\n",
    "print(len(df_longtweets))"
   ]
  },
  {
   "cell_type": "markdown",
   "metadata": {},
   "source": [
    "__Задание 22__. Постройте гистограмму распределения числа твитов по месяцам. В какой месяц какого года было опубликовано больше всего твитов?\n",
    "\n",
    "__Хинт__: Время в колонке tdate -- это Unix time, и оно отображает то, сколько секунд прошло с 00:00:00 1 января 1970 года. Для конвертации этого времени в удобный формат воспользуйтесь библиотекой `datetime`."
   ]
  },
  {
   "cell_type": "code",
   "execution_count": 36,
   "metadata": {
    "scrolled": true
   },
   "outputs": [
    {
     "data": {
      "text/plain": [
       "<matplotlib.axes._subplots.AxesSubplot at 0x124a88438>"
      ]
     },
     "execution_count": 36,
     "metadata": {},
     "output_type": "execute_result"
    },
    {
     "data": {
      "image/png": "[encoded data removed]",
      "text/plain": [
       "<Figure size 1080x288 with 1 Axes>"
      ]
     },
     "metadata": {
      "needs_background": "light"
     },
     "output_type": "display_data"
    }
   ],
   "source": [
    "import matplotlib.dates as mdates\n",
    "\n",
    "date_df = df[['tdate']].copy()\n",
    "date_df['date'] = pd.to_datetime(date_df['tdate'], unit='s').dt.normalize()\n",
    "date_df['date'] = date_df['date'].astype(\"datetime64\")\n",
    "\n",
    "#plot data\n",
    "fig, ax = plt.subplots(figsize=(15,4))\n",
    "fig.autofmt_xdate()\n",
    "ax.xaxis.set_major_locator(mdates.DayLocator(interval=2))\n",
    "ax.xaxis.set_major_formatter(mdates.DateFormatter('%d %b %Y'))\n",
    "ax.set_title('Количество твиттов по дням')\n",
    "ax.set_xlabel('Календарная дата')\n",
    "date_df['date'].hist(ax=ax, bins=(date_df['date'].max() - date_df['date'].min()).days)\n",
    "\n",
    "\n",
    "# https://stackoverflow.com/questions/38228995/how-can-i-draw-the-histogram-of-date-values-group-by-month-in-each-year-in-pytho\n",
    "# https://scentellegher.github.io/programming/2017/05/24/pandas-bar-plot-with-formatted-dates.html"
   ]
  },
  {
   "cell_type": "markdown",
   "metadata": {},
   "source": [
    "__Вывод__: Из распределения выше можно понять несколько вещей, а также попробовать их объяснить.\n",
    "1) Во-первых, отвечая на вопрос задания, больше всего твиттов было опубликовано в декабре месяце.\n",
    "2) Во-вторых, как мы видимо пик пришелся на первую половину декабря.\n",
    "Это можно объяснить тем, что именно в то время [_начался Майдан_](https://censor.net.ua/photo_news/316008/11_dekabrya_2013_goda_osobennaya_data_v_tu_noch_mayidan_vstal_na_put_borby_i_stalo_yasno_chto_pobeda), а т.к. данная выборка по ру-твиттеру, очевидно, что именно в тот момент времени пользователи были наиболее активны.\n",
    "3) В-третьих, Новый год (т.е. 1ое января), ровно как и рождество (26 декабря или 6 января) не вызывает ажиотажа, который можно было бы предположить\n",
    "\n",
    "PS: Можно попробовать выкинуть первую половину декабря и попробовать соотнести количество твиттов с [событиями декабря-января](https://ru.wikipedia.org/wiki/Декабрь_2013_года), но проделывать такой анализ в 2к20, мне кажется, нерелевантным.\n",
    "\n",
    "Наиболее интересное явление на данном графике -- корреляция событий начала декабря и политических событий, на фоне всего остального."
   ]
  },
  {
   "cell_type": "markdown",
   "metadata": {},
   "source": [
    "__Задание 23__. Вставьте ниже смешную картинку, желательно про машинное обучение. Лучшие картинки мы наградим бонусными баллами (но это не точно).\n",
    "\n",
    "   ![The meme](https://i.imgur.com/BE3w9mu.jpg)\n",
    "\n",
    "\n",
    "( мемы про PyTorch не завезли :с )"
   ]
  },
  {
   "cell_type": "markdown",
   "metadata": {},
   "source": [
    "__Задание 999__. Напишите ниже, чего вы ждёте от курса, какой формат лекций и семинаров вам более интересен, в какие дни хотели бы поставить семинары, темы, которые хотели бы изучить, промежуточный фидбек (при наличии), а также произвольные пожелания и предложения. Мы постараемся всё это учесть.\n"
   ]
  }
 ],
 "metadata": {
  "kernelspec": {
   "display_name": "Python 3",
   "language": "python",
   "name": "python3"
  },
  "language_info": {
   "codemirror_mode": {
    "name": "ipython",
    "version": 3
   },
   "file_extension": ".py",
   "mimetype": "text/x-python",
   "name": "python",
   "nbconvert_exporter": "python",
   "pygments_lexer": "ipython3",
   "version": "3.7.3"
  }
 },
 "nbformat": 4,
 "nbformat_minor": 2
}
